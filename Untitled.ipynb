{
 "cells": [
  {
   "cell_type": "code",
   "execution_count": 38,
   "metadata": {
    "collapsed": true
   },
   "outputs": [],
   "source": [
    "import sys, os, time\n",
    "import itertools\n",
    "from timeit import default_timer as timer\n",
    "from humanfriendly import format_timespan"
   ]
  },
  {
   "cell_type": "code",
   "execution_count": 32,
   "metadata": {
    "collapsed": true
   },
   "outputs": [],
   "source": [
    "import pandas as pd\n",
    "import numpy as np"
   ]
  },
  {
   "cell_type": "code",
   "execution_count": 2,
   "metadata": {},
   "outputs": [
    {
     "data": {
      "text/plain": [
       "True"
      ]
     },
     "execution_count": 2,
     "metadata": {},
     "output_type": "execute_result"
    }
   ],
   "source": [
    "from dotenv import load_dotenv\n",
    "load_dotenv('admin.env')"
   ]
  },
  {
   "cell_type": "code",
   "execution_count": 59,
   "metadata": {},
   "outputs": [],
   "source": [
    "from db_connect_mag import Session, Paper, PaperAuthorAffiliation"
   ]
  },
  {
   "cell_type": "code",
   "execution_count": 5,
   "metadata": {
    "collapsed": true
   },
   "outputs": [],
   "source": [
    "session = Session()"
   ]
  },
  {
   "cell_type": "code",
   "execution_count": 9,
   "metadata": {},
   "outputs": [
    {
     "data": {
      "text/plain": [
       "'community detection in graphs'"
      ]
     },
     "execution_count": 9,
     "metadata": {},
     "output_type": "execute_result"
    }
   ],
   "source": [
    "# review paper on community detection in graphs\n",
    "review_paper_id = 2127048411\n",
    "review_paper = session.query(Paper).get(review_paper_id)\n",
    "review_paper.title"
   ]
  },
  {
   "cell_type": "code",
   "execution_count": 17,
   "metadata": {},
   "outputs": [
    {
     "name": "stdout",
     "output_type": "stream",
     "text": [
      "447\n"
     ]
    }
   ],
   "source": [
    "papers = [pr.paper_cited for pr in review_paper.paperrefs_citing]\n",
    "print(len(papers))"
   ]
  },
  {
   "cell_type": "code",
   "execution_count": 23,
   "metadata": {
    "collapsed": true
   },
   "outputs": [],
   "source": [
    "def tree_distance(n1, n2, sep=\":\"):\n",
    "    # https://en.wikipedia.org/wiki/Lowest_common_ancestor\n",
    "    # the distance from v to w can be computed as \n",
    "    # the distance from the root to v, plus the distance from \n",
    "    # the root to w, minus twice the distance from \n",
    "    # the root to their lowest common ancestor\n",
    "    v, w = [n.split(\":\") for n in [n1, n2]]\n",
    "    distance_root_to_v = len(v)\n",
    "    distance_root_to_w = len(w)\n",
    "    \n",
    "    distance_root_to_lca = 0\n",
    "    for i in range(min(distance_root_to_v, distance_root_to_w)):\n",
    "        if v[i] == w[i]:\n",
    "            distance_root_to_lca += 1\n",
    "        else:\n",
    "            break\n",
    "    return distance_root_to_v + distance_root_to_w - (2*distance_root_to_lca)\n",
    "    "
   ]
  },
  {
   "cell_type": "code",
   "execution_count": 31,
   "metadata": {},
   "outputs": [
    {
     "data": {
      "text/plain": [
       "447"
      ]
     },
     "execution_count": 31,
     "metadata": {},
     "output_type": "execute_result"
    }
   ],
   "source": [
    "cluster_addresses = [p.cl for p in papers]\n",
    "len(cluster_addresses)"
   ]
  },
  {
   "cell_type": "code",
   "execution_count": 34,
   "metadata": {},
   "outputs": [],
   "source": [
    "from sklearn.model_selection import train_test_split"
   ]
  },
  {
   "cell_type": "code",
   "execution_count": 35,
   "metadata": {},
   "outputs": [
    {
     "name": "stderr",
     "output_type": "stream",
     "text": [
      "/home/jporteno/code/autoreview/venv/lib/python3.5/site-packages/sklearn/model_selection/_split.py:2026: FutureWarning: From version 0.21, test_size will always complement train_size unless both are specified.\n",
      "  FutureWarning)\n"
     ]
    }
   ],
   "source": [
    "train_papers, test_papers = train_test_split(papers, train_size=20, random_state=999)"
   ]
  },
  {
   "cell_type": "code",
   "execution_count": 39,
   "metadata": {},
   "outputs": [],
   "source": [
    "distances_train_pairs = []\n",
    "train_clusters = [p.cl for p in train_papers]\n",
    "for n1, n2 in itertools.combinations(train_clusters, 2):\n",
    "    distances_train_pairs.append(tree_distance(n1, n2))"
   ]
  },
  {
   "cell_type": "code",
   "execution_count": 42,
   "metadata": {},
   "outputs": [
    {
     "data": {
      "text/plain": [
       "count    190.000000\n",
       "mean       6.552632\n",
       "std        2.154083\n",
       "min        2.000000\n",
       "25%        6.000000\n",
       "50%        7.000000\n",
       "75%        8.000000\n",
       "max       10.000000\n",
       "dtype: float64"
      ]
     },
     "execution_count": 42,
     "metadata": {},
     "output_type": "execute_result"
    }
   ],
   "source": [
    "distances_train_pairs = pd.Series(distances_train_pairs)\n",
    "distances_train_pairs.describe()"
   ]
  },
  {
   "cell_type": "code",
   "execution_count": 43,
   "metadata": {},
   "outputs": [
    {
     "name": "stdout",
     "output_type": "stream",
     "text": [
      "248211\n"
     ]
    }
   ],
   "source": [
    "journal_id = 137773608  # Nature\n",
    "nature_papers = session.query(Paper).filter_by(Journal_ID=journal_id).all()\n",
    "print(len(nature_papers))"
   ]
  },
  {
   "cell_type": "code",
   "execution_count": 55,
   "metadata": {},
   "outputs": [
    {
     "data": {
      "text/plain": [
       "137"
      ]
     },
     "execution_count": 55,
     "metadata": {},
     "output_type": "execute_result"
    }
   ],
   "source": [
    "nature_papers = pd.Series(nature_papers)\n",
    "nature_sample = nature_papers.sample(n=200, random_state=999)\n",
    "nature_samples_clusters = [p.cl for p in nature_sample if p.cl]\n",
    "len(nature_samples_clusters)"
   ]
  },
  {
   "cell_type": "code",
   "execution_count": 54,
   "metadata": {
    "collapsed": true
   },
   "outputs": [],
   "source": [
    "def distances_two_groups(g1, g2):\n",
    "    distances = []\n",
    "    for n1 in g1:\n",
    "        for n2 in g2:\n",
    "            if n1 == n2:\n",
    "                continue\n",
    "            distances.append(tree_distance(n1, n2))\n",
    "    return distances"
   ]
  },
  {
   "cell_type": "code",
   "execution_count": 58,
   "metadata": {
    "collapsed": true
   },
   "outputs": [],
   "source": [
    "def describe_distances(g1, g2):\n",
    "    distances = distances_two_groups(g1, g2)\n",
    "    distances = pd.Series(distances)\n",
    "    return distances.describe()"
   ]
  },
  {
   "cell_type": "code",
   "execution_count": 56,
   "metadata": {},
   "outputs": [
    {
     "data": {
      "text/plain": [
       "count    199362.000000\n",
       "mean          6.061837\n",
       "std           2.034215\n",
       "min           2.000000\n",
       "25%           5.000000\n",
       "50%           7.000000\n",
       "75%           7.000000\n",
       "max          10.000000\n",
       "dtype: float64"
      ]
     },
     "execution_count": 56,
     "metadata": {},
     "output_type": "execute_result"
    }
   ],
   "source": [
    "within_review_papers_distances = distances_two_groups(cluster_addresses, cluster_addresses)\n",
    "within_review_papers_distances = pd.Series(within_review_papers_distances)\n",
    "within_review_papers_distances.describe()"
   ]
  },
  {
   "cell_type": "code",
   "execution_count": 57,
   "metadata": {},
   "outputs": [
    {
     "data": {
      "text/plain": [
       "count    61239.000000\n",
       "mean         6.764856\n",
       "std          1.046019\n",
       "min          4.000000\n",
       "25%          6.000000\n",
       "50%          7.000000\n",
       "75%          7.000000\n",
       "max         10.000000\n",
       "dtype: float64"
      ]
     },
     "execution_count": 57,
     "metadata": {},
     "output_type": "execute_result"
    }
   ],
   "source": [
    "distances_review_to_nature = distances_two_groups(cluster_addresses, nature_samples_clusters)\n",
    "distances_review_to_nature = pd.Series(distances_review_to_nature)\n",
    "distances_review_to_nature.describe()"
   ]
  },
  {
   "cell_type": "code",
   "execution_count": 60,
   "metadata": {
    "collapsed": true
   },
   "outputs": [],
   "source": [
    "paas = session.query(PaperAuthorAffiliation).filter_by(Author_ID=2151641964).all()"
   ]
  },
  {
   "cell_type": "code",
   "execution_count": 64,
   "metadata": {},
   "outputs": [
    {
     "name": "stdout",
     "output_type": "stream",
     "text": [
      "289\n",
      "250\n"
     ]
    }
   ],
   "source": [
    "grinstaff_papers = [paa.paper for paa in paas if paa.paper]\n",
    "print(len(grinstaff_papers))\n",
    "grinstaff_clusters = [p.cl for p in grinstaff_papers if p.cl]\n",
    "print(len(grinstaff_clusters))"
   ]
  },
  {
   "cell_type": "code",
   "execution_count": 65,
   "metadata": {},
   "outputs": [
    {
     "data": {
      "text/plain": [
       "count    111750.000000\n",
       "mean          6.664564\n",
       "std           0.810777\n",
       "min           4.000000\n",
       "25%           6.000000\n",
       "50%           7.000000\n",
       "75%           7.000000\n",
       "max           9.000000\n",
       "dtype: float64"
      ]
     },
     "execution_count": 65,
     "metadata": {},
     "output_type": "execute_result"
    }
   ],
   "source": [
    "describe_distances(cluster_addresses, grinstaff_clusters)"
   ]
  },
  {
   "cell_type": "code",
   "execution_count": 70,
   "metadata": {},
   "outputs": [
    {
     "name": "stdout",
     "output_type": "stream",
     "text": [
      "67 records in 0 seconds\n",
      "67 papers\n",
      "63 clusters\n"
     ]
    }
   ],
   "source": [
    "start = timer()\n",
    "rosvall_paas = session.query(PaperAuthorAffiliation).filter_by(Author_ID=1999253335).all()\n",
    "print(\"{} records in {}\".format(len(rosvall_paas), format_timespan(timer()-start)))\n",
    "rosvall_papers = [paa.paper for paa in rosvall_paas if paa.paper]\n",
    "print(\"{} papers\".format(len(rosvall_papers)))\n",
    "rosvall_clusters = [p.cl for p in rosvall_papers if p.cl]\n",
    "print(\"{} clusters\".format(len(rosvall_clusters)))"
   ]
  },
  {
   "cell_type": "code",
   "execution_count": 71,
   "metadata": {},
   "outputs": [
    {
     "data": {
      "text/plain": [
       "count    28158.000000\n",
       "mean         5.940585\n",
       "std          1.965064\n",
       "min          2.000000\n",
       "25%          4.000000\n",
       "50%          7.000000\n",
       "75%          7.000000\n",
       "max         10.000000\n",
       "dtype: float64"
      ]
     },
     "execution_count": 71,
     "metadata": {},
     "output_type": "execute_result"
    }
   ],
   "source": [
    "describe_distances(cluster_addresses, rosvall_clusters)"
   ]
  },
  {
   "cell_type": "code",
   "execution_count": null,
   "metadata": {
    "collapsed": true
   },
   "outputs": [],
   "source": []
  }
 ],
 "metadata": {
  "kernelspec": {
   "display_name": "autoreview_venv",
   "language": "python",
   "name": "autoreview_venv"
  },
  "language_info": {
   "codemirror_mode": {
    "name": "ipython",
    "version": 3
   },
   "file_extension": ".py",
   "mimetype": "text/x-python",
   "name": "python",
   "nbconvert_exporter": "python",
   "pygments_lexer": "ipython3",
   "version": "3.5.2"
  }
 },
 "nbformat": 4,
 "nbformat_minor": 2
}
