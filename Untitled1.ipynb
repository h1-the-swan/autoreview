{
 "cells": [
  {
   "cell_type": "code",
   "execution_count": 1,
   "metadata": {},
   "outputs": [],
   "source": [
    "import sys, os, time, pickle, json\n",
    "from timeit import default_timer as timer\n",
    "from humanfriendly import format_timespan"
   ]
  },
  {
   "cell_type": "code",
   "execution_count": 2,
   "metadata": {},
   "outputs": [
    {
     "data": {
      "text/plain": [
       "True"
      ]
     },
     "execution_count": 2,
     "metadata": {},
     "output_type": "execute_result"
    }
   ],
   "source": [
    "from dotenv import load_dotenv\n",
    "load_dotenv('admin.env')"
   ]
  },
  {
   "cell_type": "code",
   "execution_count": 3,
   "metadata": {},
   "outputs": [],
   "source": [
    "from h1theswan_utils.microsoft_academic_api import EvaluateQuery"
   ]
  },
  {
   "cell_type": "code",
   "execution_count": 4,
   "metadata": {},
   "outputs": [],
   "source": [
    "paper_id_list = [\n",
    "    2095293504,\n",
    "    2131681506,\n",
    "    2120043163,\n",
    "    2606584716,\n",
    "    2139818818,\n",
    "]"
   ]
  },
  {
   "cell_type": "code",
   "execution_count": 5,
   "metadata": {},
   "outputs": [],
   "source": [
    "def construct_eval_query(pids):\n",
    "    id_exprs = []\n",
    "    for pid in pids:\n",
    "        id_exprs.append(\"Id={}\".format(pid))\n",
    "    id_exprs = \",\".join(id_exprs)\n",
    "    expr = \"Or({})\".format(id_exprs)\n",
    "    return expr"
   ]
  },
  {
   "cell_type": "code",
   "execution_count": 6,
   "metadata": {},
   "outputs": [
    {
     "data": {
      "text/plain": [
       "'Or(Id=2095293504,Id=2131681506,Id=2120043163,Id=2606584716,Id=2139818818)'"
      ]
     },
     "execution_count": 6,
     "metadata": {},
     "output_type": "execute_result"
    }
   ],
   "source": [
    "construct_eval_query(paper_id_list)"
   ]
  },
  {
   "cell_type": "code",
   "execution_count": 7,
   "metadata": {},
   "outputs": [
    {
     "name": "stdout",
     "output_type": "stream",
     "text": [
      "0.19956349208950996\n"
     ]
    }
   ],
   "source": [
    "start = timer()\n",
    "eq = EvaluateQuery(\"Id={}\".format(paper_id_list[0]))\n",
    "eq.attributes='E'\n",
    "r = eq.get()\n",
    "print(timer()-start)"
   ]
  },
  {
   "cell_type": "code",
   "execution_count": 8,
   "metadata": {},
   "outputs": [
    {
     "name": "stdout",
     "output_type": "stream",
     "text": [
      "1.1941787581890821\n"
     ]
    }
   ],
   "source": [
    "start = timer()\n",
    "eq = EvaluateQuery(construct_eval_query(paper_id_list))\n",
    "eq.attributes='E'\n",
    "r = eq.get()\n",
    "print(timer()-start)"
   ]
  },
  {
   "cell_type": "code",
   "execution_count": 9,
   "metadata": {},
   "outputs": [
    {
     "data": {
      "text/plain": [
       "5"
      ]
     },
     "execution_count": 9,
     "metadata": {},
     "output_type": "execute_result"
    }
   ],
   "source": [
    "len(r['entities'])"
   ]
  },
  {
   "cell_type": "code",
   "execution_count": 10,
   "metadata": {},
   "outputs": [],
   "source": [
    "with open('data/collect_haystack_20180409_2/counter.pickle', 'rb') as f:\n",
    "    c = pickle.load(f)"
   ]
  },
  {
   "cell_type": "code",
   "execution_count": 11,
   "metadata": {},
   "outputs": [],
   "source": [
    "paper_id_list = list(c.keys())"
   ]
  },
  {
   "cell_type": "code",
   "execution_count": 12,
   "metadata": {},
   "outputs": [
    {
     "data": {
      "text/plain": [
       "2613341"
      ]
     },
     "execution_count": 12,
     "metadata": {},
     "output_type": "execute_result"
    }
   ],
   "source": [
    "len(paper_id_list)"
   ]
  },
  {
   "cell_type": "code",
   "execution_count": 13,
   "metadata": {},
   "outputs": [
    {
     "name": "stdout",
     "output_type": "stream",
     "text": [
      "0.31583637185394764\n"
     ]
    }
   ],
   "source": [
    "start = timer()\n",
    "eq = EvaluateQuery(construct_eval_query(paper_id_list[:100]))\n",
    "eq.attributes='E'\n",
    "eq.count = 100\n",
    "r = eq.get()\n",
    "print(timer()-start)"
   ]
  },
  {
   "cell_type": "code",
   "execution_count": 14,
   "metadata": {},
   "outputs": [
    {
     "data": {
      "text/plain": [
       "100"
      ]
     },
     "execution_count": 14,
     "metadata": {},
     "output_type": "execute_result"
    }
   ],
   "source": [
    "len(r['entities'])"
   ]
  },
  {
   "cell_type": "code",
   "execution_count": 15,
   "metadata": {},
   "outputs": [],
   "source": [
    "iabs = []\n",
    "for ent in r['entities']:\n",
    "    E = ent.get('E')\n",
    "    if E:\n",
    "        E = json.loads(E)\n",
    "        if E.get('IA'):\n",
    "            iabs.append(E.get('IA'))"
   ]
  },
  {
   "cell_type": "code",
   "execution_count": 23,
   "metadata": {
    "scrolled": true
   },
   "outputs": [],
   "source": [
    "eq = EvaluateQuery.from_id_list(paper_id_list[:100])"
   ]
  },
  {
   "cell_type": "code",
   "execution_count": 24,
   "metadata": {},
   "outputs": [
    {
     "name": "stdout",
     "output_type": "stream",
     "text": [
      "1.228486005216837\n"
     ]
    }
   ],
   "source": [
    "start = timer()\n",
    "r = eq.get()\n",
    "print(timer()-start)"
   ]
  },
  {
   "cell_type": "code",
   "execution_count": 25,
   "metadata": {},
   "outputs": [
    {
     "name": "stdout",
     "output_type": "stream",
     "text": [
      "Or(Id=2071986176,Id=2046820355,Id=150994948,Id=2080374793,Id=2063597580,Id=1535115284,Id=2038431766,Id=2088763415,Id=1535115289,Id=1551892507,Id=2600468511,Id=2122317864,Id=2113929259,Id=2315255855,Id=2071986228,Id=1887436809,Id=2340421688,Id=2013265977,Id=2038431803,Id=1971322941,Id=2516582462,Id=2046820419,Id=2080374852,Id=2080374853,Id=2132104546,Id=285212751,Id=1518338130,Id=2038431827,Id=2066478154,Id=2113929305,Id=2071986268,Id=2122317926,Id=2164260969,Id=2122317931,Id=1535115373,Id=2076813339,Id=2273312885,Id=1828716662,Id=1971323001,Id=2154474175,Id=1993692522,Id=1577058430,Id=1979711637,Id=2063597719,Id=2130706589,Id=2097152158,Id=142606496,Id=2038431909,Id=2617245866,Id=2541748395,Id=2592080044,Id=2071986357,Id=2063597751,Id=1971322911,Id=1988100289,Id=2105540804,Id=1568669896,Id=2042626082,Id=1971323086,Id=2155872464,Id=2130706641,Id=2625634519,Id=2105540825,Id=1811939547,Id=2541748444,Id=2231369949,Id=2046820574,Id=1778385122,Id=1586869753,Id=1988100325,Id=2105540845,Id=2080375022,Id=2501203325,Id=1602224369,Id=2155872498,Id=2147483891,Id=2373976309,Id=2080375031,Id=2099948244,Id=2071986434,Id=1555864202,Id=142606604,Id=2113929486,Id=2058196620,Id=2080375059,Id=1971323157,Id=2164261143,Id=2046820633,Id=1965730523,Id=2063597860,Id=2181038373,Id=1988100400,Id=2139095346,Id=2013266227,Id=1974119134,Id=2046820662,Id=1904214327,Id=2046820666,Id=1879048512,Id=2088763722)\n"
     ]
    }
   ],
   "source": [
    "print(eq.expr)"
   ]
  },
  {
   "cell_type": "code",
   "execution_count": 22,
   "metadata": {},
   "outputs": [
    {
     "data": {
      "text/plain": [
       "<h1theswan_utils.microsoft_academic_api.MicrosoftAcademic.EvaluateQuery at 0x7f15763cfd68>"
      ]
     },
     "execution_count": 22,
     "metadata": {},
     "output_type": "execute_result"
    }
   ],
   "source": [
    "eq"
   ]
  },
  {
   "cell_type": "code",
   "execution_count": null,
   "metadata": {},
   "outputs": [],
   "source": [
    "eq"
   ]
  }
 ],
 "metadata": {
  "kernelspec": {
   "display_name": "autoreview_venv",
   "language": "python",
   "name": "autoreview_venv"
  },
  "language_info": {
   "codemirror_mode": {
    "name": "ipython",
    "version": 3
   },
   "file_extension": ".py",
   "mimetype": "text/x-python",
   "name": "python",
   "nbconvert_exporter": "python",
   "pygments_lexer": "ipython3",
   "version": "3.5.2"
  }
 },
 "nbformat": 4,
 "nbformat_minor": 2
}
