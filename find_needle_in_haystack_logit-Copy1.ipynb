{
 "cells": [
  {
   "cell_type": "code",
   "execution_count": 1,
   "metadata": {},
   "outputs": [],
   "source": [
    "import sys, os, time, pickle\n",
    "from timeit import default_timer as timer\n",
    "from humanfriendly import format_timespan"
   ]
  },
  {
   "cell_type": "code",
   "execution_count": 2,
   "metadata": {},
   "outputs": [],
   "source": [
    "import pandas as pd\n",
    "import numpy as np"
   ]
  },
  {
   "cell_type": "code",
   "execution_count": 3,
   "metadata": {},
   "outputs": [
    {
     "data": {
      "text/plain": [
       "True"
      ]
     },
     "execution_count": 3,
     "metadata": {},
     "output_type": "execute_result"
    }
   ],
   "source": [
    "from dotenv import load_dotenv\n",
    "load_dotenv('admin.env')"
   ]
  },
  {
   "cell_type": "code",
   "execution_count": 4,
   "metadata": {},
   "outputs": [],
   "source": [
    "from h1theswan_utils.microsoft_academic_api import EvaluateQuery"
   ]
  },
  {
   "cell_type": "code",
   "execution_count": 5,
   "metadata": {},
   "outputs": [
    {
     "name": "stdout",
     "output_type": "stream",
     "text": [
      "1.2 second\n"
     ]
    }
   ],
   "source": [
    "# this is the data for the fortunato review on Community Detection in Graphs\n",
    "start = timer()\n",
    "test_papers_df = pd.read_pickle('data/collect_haystack_20180409_2/test_papers.pickle')\n",
    "target_papers_df = pd.read_pickle('data/collect_haystack_20180409_2/target_papers.pickle')\n",
    "train_papers_df = pd.read_pickle('data/collect_haystack_20180409_2/train_papers.pickle')\n",
    "print(format_timespan(timer()-start))"
   ]
  },
  {
   "cell_type": "code",
   "execution_count": 6,
   "metadata": {},
   "outputs": [],
   "source": [
    "with open('data/collect_haystack_20180409_2/counter.pickle', 'rb') as f:\n",
    "    c = pickle.load(f)"
   ]
  },
  {
   "cell_type": "code",
   "execution_count": 7,
   "metadata": {},
   "outputs": [],
   "source": [
    "train_pids = train_papers_df.Paper_ID"
   ]
  },
  {
   "cell_type": "code",
   "execution_count": 25,
   "metadata": {},
   "outputs": [],
   "source": [
    "# pid = train_pids.iloc[1]\n",
    "pid = 2117526408\n",
    "eq = EvaluateQuery(\"Id={}\".format(pid))\n",
    "eq.attributes = 'E'\n",
    "r = eq.get()"
   ]
  },
  {
   "cell_type": "code",
   "execution_count": 26,
   "metadata": {},
   "outputs": [],
   "source": [
    "import json\n",
    "ent = r['entities'][0]\n",
    "E = ent['E']\n",
    "E = json.loads(E)\n",
    "iabs = E['IA']['InvertedIndex']\n"
   ]
  },
  {
   "cell_type": "code",
   "execution_count": 27,
   "metadata": {},
   "outputs": [
    {
     "name": "stdout",
     "output_type": "stream",
     "text": [
      "0.0010003820061683655\n"
     ]
    }
   ],
   "source": [
    "# method 1\n",
    "start = timer()\n",
    "abs_words_1 = []\n",
    "for i in range(E['IA']['IndexLength']):\n",
    "    for k, v in iabs.items():\n",
    "        if i in v:\n",
    "            abs_words_1.append(k)\n",
    "            break\n",
    "print(timer()-start)"
   ]
  },
  {
   "cell_type": "code",
   "execution_count": 34,
   "metadata": {
    "scrolled": true
   },
   "outputs": [
    {
     "name": "stdout",
     "output_type": "stream",
     "text": [
      "0.0002965778112411499\n"
     ]
    }
   ],
   "source": [
    "# method 2\n",
    "start = timer()\n",
    "iabs_rev = {}\n",
    "abs_words_2 = []\n",
    "for k, v in iabs.items():\n",
    "    for idx in v:\n",
    "        iabs_rev[idx] = k\n",
    "for i in range(E['IA']['IndexLength']):\n",
    "    try:\n",
    "        abs_words_2.append(iabs_rev[i])\n",
    "    except KeyError:\n",
    "        pass\n",
    "print(timer()-start)"
   ]
  },
  {
   "cell_type": "code",
   "execution_count": 12,
   "metadata": {
    "scrolled": true
   },
   "outputs": [
    {
     "name": "stdout",
     "output_type": "stream",
     "text": [
      "0.00010903365910053253\n"
     ]
    }
   ],
   "source": [
    "from h1theswan_utils.microsoft_academic_api import convert_inverted_abstract_to_abstract_words\n",
    "start = timer()\n",
    "abs_words_3 = convert_inverted_abstract_to_abstract_words(iabs, index_length=E['IA']['IndexLength'])\n",
    "print(timer()-start)"
   ]
  },
  {
   "cell_type": "code",
   "execution_count": 13,
   "metadata": {
    "scrolled": true
   },
   "outputs": [
    {
     "name": "stdout",
     "output_type": "stream",
     "text": [
      "0.00010813958942890167\n"
     ]
    }
   ],
   "source": [
    "from h1theswan_utils.microsoft_academic_api import convert_inverted_abstract_to_abstract_words\n",
    "start = timer()\n",
    "abs_words_4 = convert_inverted_abstract_to_abstract_words(iabs)\n",
    "print(timer()-start)"
   ]
  },
  {
   "cell_type": "code",
   "execution_count": 24,
   "metadata": {},
   "outputs": [
    {
     "data": {
      "text/plain": [
       "True"
      ]
     },
     "execution_count": 24,
     "metadata": {},
     "output_type": "execute_result"
    }
   ],
   "source": [
    "abs_words_3 == abs_words_4"
   ]
  },
  {
   "cell_type": "code",
   "execution_count": 14,
   "metadata": {},
   "outputs": [
    {
     "data": {
      "text/plain": [
       "81"
      ]
     },
     "execution_count": 14,
     "metadata": {},
     "output_type": "execute_result"
    }
   ],
   "source": [
    "indices = set()\n",
    "for k, v in iabs.items():\n",
    "    for idx in v:\n",
    "        indices.add(idx)\n",
    "max(indices)"
   ]
  },
  {
   "cell_type": "code",
   "execution_count": 35,
   "metadata": {},
   "outputs": [
    {
     "data": {
      "text/plain": [
       "True"
      ]
     },
     "execution_count": 35,
     "metadata": {},
     "output_type": "execute_result"
    }
   ],
   "source": [
    "abs_words_1 == abs_words_2"
   ]
  },
  {
   "cell_type": "code",
   "execution_count": 16,
   "metadata": {},
   "outputs": [],
   "source": [
    "# method 2 is faster"
   ]
  },
  {
   "cell_type": "code",
   "execution_count": 29,
   "metadata": {},
   "outputs": [
    {
     "data": {
      "text/plain": [
       "'The recent boom of large-scale online social networks (OSNs) both enables and necessitates the use of parallelizable and scalable computational techniques for their analysis. We examine the problem of real-time community detection and a recently proposed linear time―O(m) on a network with m edges―label propagation, or \"epidemic\" community detection algorithm. We identify characteristics and drawbacks of the algorithm and extend it by incorporating different heuristics to facilitate reliable and multifunctional real-time community detection. With limited computational resources, we employ the algorithm on OSN data with 1 × 10 6 nodes and about 58 X 10 6 directed edges. Experiments and benchmarks reveal that the extended algorithm is not only faster but its community detection accuracy compares favorably over popular modularity-gain optimization algorithms known to suffer from their resolution limits.'"
      ]
     },
     "execution_count": 29,
     "metadata": {},
     "output_type": "execute_result"
    }
   ],
   "source": [
    "\" \".join(abs_words_1)"
   ]
  },
  {
   "cell_type": "code",
   "execution_count": null,
   "metadata": {},
   "outputs": [],
   "source": []
  },
  {
   "cell_type": "code",
   "execution_count": 37,
   "metadata": {},
   "outputs": [
    {
     "data": {
      "text/plain": [
       "2613341"
      ]
     },
     "execution_count": 37,
     "metadata": {},
     "output_type": "execute_result"
    }
   ],
   "source": [
    "len(test_papers_df)"
   ]
  },
  {
   "cell_type": "code",
   "execution_count": 39,
   "metadata": {},
   "outputs": [],
   "source": [
    "test_papers_df.Paper_ID.to_csv('data/collect_haystack_20180409_2/test_paper_ids.txt', index=False)"
   ]
  },
  {
   "cell_type": "code",
   "execution_count": null,
   "metadata": {},
   "outputs": [],
   "source": []
  }
 ],
 "metadata": {
  "kernelspec": {
   "display_name": "autoreview_venv",
   "language": "python",
   "name": "autoreview_venv"
  },
  "language_info": {
   "codemirror_mode": {
    "name": "ipython",
    "version": 3
   },
   "file_extension": ".py",
   "mimetype": "text/x-python",
   "name": "python",
   "nbconvert_exporter": "python",
   "pygments_lexer": "ipython3",
   "version": "3.5.2"
  }
 },
 "nbformat": 4,
 "nbformat_minor": 2
}
