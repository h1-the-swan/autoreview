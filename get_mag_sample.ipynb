{
 "cells": [
  {
   "cell_type": "code",
   "execution_count": 2,
   "metadata": {
    "ExecuteTime": {
     "end_time": "2019-07-22T23:13:36.554585Z",
     "start_time": "2019-07-22T23:13:36.551455Z"
    }
   },
   "outputs": [],
   "source": [
    "import sys, os, time"
   ]
  },
  {
   "cell_type": "code",
   "execution_count": 3,
   "metadata": {
    "ExecuteTime": {
     "end_time": "2019-07-22T23:13:36.696679Z",
     "start_time": "2019-07-22T23:13:36.693695Z"
    }
   },
   "outputs": [],
   "source": [
    "sys.path.append('lib')"
   ]
  },
  {
   "cell_type": "code",
   "execution_count": 4,
   "metadata": {
    "ExecuteTime": {
     "end_time": "2019-07-22T23:13:38.168842Z",
     "start_time": "2019-07-22T23:13:36.855420Z"
    }
   },
   "outputs": [],
   "source": [
    "import autoreview"
   ]
  },
  {
   "cell_type": "code",
   "execution_count": 5,
   "metadata": {
    "ExecuteTime": {
     "end_time": "2019-07-22T23:13:38.174033Z",
     "start_time": "2019-07-22T23:13:38.171324Z"
    }
   },
   "outputs": [],
   "source": [
    "config = autoreview.Config()"
   ]
  },
  {
   "cell_type": "code",
   "execution_count": 6,
   "metadata": {
    "ExecuteTime": {
     "end_time": "2019-07-22T23:13:38.179580Z",
     "start_time": "2019-07-22T23:13:38.175782Z"
    }
   },
   "outputs": [],
   "source": [
    "MAG_PAPER_DATA = '/home/jporteno/data/MAG_academicgraphdls_20180329/parquet/mag_20180329_Papers_withEFandCl_parquet/'\n",
    "MAG_CITATIONS_DATA = '/home/jporteno/data/MAG_academicgraphdls_20180329/parquet/mag_20180329_PaperReferences_out_parquet/'"
   ]
  },
  {
   "cell_type": "code",
   "execution_count": 63,
   "metadata": {
    "ExecuteTime": {
     "end_time": "2019-07-23T00:23:16.118995Z",
     "start_time": "2019-07-23T00:23:16.115621Z"
    }
   },
   "outputs": [],
   "source": [
    "MAG_PAPER_DATA = '../../data/MAG_academicgraphdls_20180329/parquet/mag_20180329_Papers_withEFandCl_parquet/'\n",
    "MAG_CITATIONS_DATA = '../../data/MAG_academicgraphdls_20180329/parquet/mag_20180329_PaperReferences_out_parquet/'"
   ]
  },
  {
   "cell_type": "code",
   "execution_count": 64,
   "metadata": {
    "ExecuteTime": {
     "end_time": "2019-07-23T00:23:17.178232Z",
     "start_time": "2019-07-23T00:23:17.174823Z"
    }
   },
   "outputs": [],
   "source": [
    "spark = config.spark"
   ]
  },
  {
   "cell_type": "code",
   "execution_count": 65,
   "metadata": {
    "ExecuteTime": {
     "end_time": "2019-07-23T00:23:17.835991Z",
     "start_time": "2019-07-23T00:23:17.513618Z"
    }
   },
   "outputs": [],
   "source": [
    "sdf_papers = spark.read.parquet(MAG_PAPER_DATA)"
   ]
  },
  {
   "cell_type": "code",
   "execution_count": 9,
   "metadata": {
    "ExecuteTime": {
     "end_time": "2019-07-22T23:13:59.594429Z",
     "start_time": "2019-07-22T23:13:59.541134Z"
    }
   },
   "outputs": [
    {
     "data": {
      "text/plain": [
       "DataFrame[Paper_ID: bigint, mag_rank: int, DOI: string, doc_type: string, title: string, original_title: string, book_title: string, year: int, date: date, publisher: string, Journal_ID: bigint, Conference_series_ID: bigint, Conference_instance_ID: bigint, volume: string, issue: string, first_page: string, last_page: string, reference_count: bigint, citation_count: bigint, estimated_citation: int, cl: string, toplevel: int, EF: float]"
      ]
     },
     "execution_count": 9,
     "metadata": {},
     "output_type": "execute_result"
    }
   ],
   "source": [
    "sdf_papers"
   ]
  },
  {
   "cell_type": "code",
   "execution_count": 12,
   "metadata": {
    "ExecuteTime": {
     "end_time": "2019-07-22T23:16:02.489475Z",
     "start_time": "2019-07-22T23:15:06.268927Z"
    }
   },
   "outputs": [],
   "source": [
    "x = sdf_papers.groupby('toplevel').count().toPandas()"
   ]
  },
  {
   "cell_type": "code",
   "execution_count": 36,
   "metadata": {
    "ExecuteTime": {
     "end_time": "2019-07-22T23:32:46.579102Z",
     "start_time": "2019-07-22T23:32:46.573395Z"
    }
   },
   "outputs": [
    {
     "data": {
      "text/plain": [
       "1902250"
      ]
     },
     "execution_count": 36,
     "metadata": {},
     "output_type": "execute_result"
    }
   ],
   "source": [
    "len(x)"
   ]
  },
  {
   "cell_type": "code",
   "execution_count": 37,
   "metadata": {
    "ExecuteTime": {
     "end_time": "2019-07-22T23:32:56.551211Z",
     "start_time": "2019-07-22T23:32:55.946724Z"
    },
    "scrolled": true
   },
   "outputs": [
    {
     "data": {
      "text/html": [
       "<div>\n",
       "<style scoped>\n",
       "    .dataframe tbody tr th:only-of-type {\n",
       "        vertical-align: middle;\n",
       "    }\n",
       "\n",
       "    .dataframe tbody tr th {\n",
       "        vertical-align: top;\n",
       "    }\n",
       "\n",
       "    .dataframe thead th {\n",
       "        text-align: right;\n",
       "    }\n",
       "</style>\n",
       "<table border=\"1\" class=\"dataframe\">\n",
       "  <thead>\n",
       "    <tr style=\"text-align: right;\">\n",
       "      <th></th>\n",
       "      <th>toplevel</th>\n",
       "      <th>count</th>\n",
       "    </tr>\n",
       "  </thead>\n",
       "  <tbody>\n",
       "    <tr>\n",
       "      <th>532433</th>\n",
       "      <td>1021.0</td>\n",
       "      <td>7739</td>\n",
       "    </tr>\n",
       "    <tr>\n",
       "      <th>1464233</th>\n",
       "      <td>1023.0</td>\n",
       "      <td>7736</td>\n",
       "    </tr>\n",
       "    <tr>\n",
       "      <th>1121232</th>\n",
       "      <td>1058.0</td>\n",
       "      <td>7727</td>\n",
       "    </tr>\n",
       "    <tr>\n",
       "      <th>570119</th>\n",
       "      <td>1069.0</td>\n",
       "      <td>7704</td>\n",
       "    </tr>\n",
       "    <tr>\n",
       "      <th>703556</th>\n",
       "      <td>1048.0</td>\n",
       "      <td>7703</td>\n",
       "    </tr>\n",
       "    <tr>\n",
       "      <th>1435410</th>\n",
       "      <td>1027.0</td>\n",
       "      <td>7701</td>\n",
       "    </tr>\n",
       "    <tr>\n",
       "      <th>9658</th>\n",
       "      <td>1025.0</td>\n",
       "      <td>7701</td>\n",
       "    </tr>\n",
       "    <tr>\n",
       "      <th>1626092</th>\n",
       "      <td>1086.0</td>\n",
       "      <td>7692</td>\n",
       "    </tr>\n",
       "    <tr>\n",
       "      <th>1320765</th>\n",
       "      <td>1083.0</td>\n",
       "      <td>7692</td>\n",
       "    </tr>\n",
       "    <tr>\n",
       "      <th>1158877</th>\n",
       "      <td>1007.0</td>\n",
       "      <td>7683</td>\n",
       "    </tr>\n",
       "    <tr>\n",
       "      <th>1549829</th>\n",
       "      <td>1024.0</td>\n",
       "      <td>7681</td>\n",
       "    </tr>\n",
       "    <tr>\n",
       "      <th>789702</th>\n",
       "      <td>1073.0</td>\n",
       "      <td>7672</td>\n",
       "    </tr>\n",
       "    <tr>\n",
       "      <th>1664501</th>\n",
       "      <td>1070.0</td>\n",
       "      <td>7667</td>\n",
       "    </tr>\n",
       "    <tr>\n",
       "      <th>105042</th>\n",
       "      <td>1068.0</td>\n",
       "      <td>7665</td>\n",
       "    </tr>\n",
       "    <tr>\n",
       "      <th>219124</th>\n",
       "      <td>1056.0</td>\n",
       "      <td>7664</td>\n",
       "    </tr>\n",
       "    <tr>\n",
       "      <th>703383</th>\n",
       "      <td>1002.0</td>\n",
       "      <td>7664</td>\n",
       "    </tr>\n",
       "    <tr>\n",
       "      <th>142825</th>\n",
       "      <td>1051.0</td>\n",
       "      <td>7657</td>\n",
       "    </tr>\n",
       "    <tr>\n",
       "      <th>1778657</th>\n",
       "      <td>996.0</td>\n",
       "      <td>7650</td>\n",
       "    </tr>\n",
       "    <tr>\n",
       "      <th>1797657</th>\n",
       "      <td>1063.0</td>\n",
       "      <td>7635</td>\n",
       "    </tr>\n",
       "    <tr>\n",
       "      <th>950677</th>\n",
       "      <td>1096.0</td>\n",
       "      <td>7630</td>\n",
       "    </tr>\n",
       "  </tbody>\n",
       "</table>\n",
       "</div>"
      ],
      "text/plain": [
       "         toplevel  count\n",
       "532433     1021.0   7739\n",
       "1464233    1023.0   7736\n",
       "1121232    1058.0   7727\n",
       "570119     1069.0   7704\n",
       "703556     1048.0   7703\n",
       "1435410    1027.0   7701\n",
       "9658       1025.0   7701\n",
       "1626092    1086.0   7692\n",
       "1320765    1083.0   7692\n",
       "1158877    1007.0   7683\n",
       "1549829    1024.0   7681\n",
       "789702     1073.0   7672\n",
       "1664501    1070.0   7667\n",
       "105042     1068.0   7665\n",
       "219124     1056.0   7664\n",
       "703383     1002.0   7664\n",
       "142825     1051.0   7657\n",
       "1778657     996.0   7650\n",
       "1797657    1063.0   7635\n",
       "950677     1096.0   7630"
      ]
     },
     "execution_count": 37,
     "metadata": {},
     "output_type": "execute_result"
    }
   ],
   "source": [
    "x.sort_values('count', ascending=False).iloc[1000:1020]"
   ]
  },
  {
   "cell_type": "code",
   "execution_count": 38,
   "metadata": {
    "ExecuteTime": {
     "end_time": "2019-07-22T23:34:17.666329Z",
     "start_time": "2019-07-22T23:33:13.781179Z"
    }
   },
   "outputs": [],
   "source": [
    "cl_subset = sdf_papers[sdf_papers['toplevel']==1048]\n",
    "df_cl_subset = cl_subset.toPandas()"
   ]
  },
  {
   "cell_type": "code",
   "execution_count": 39,
   "metadata": {
    "ExecuteTime": {
     "end_time": "2019-07-22T23:34:17.705763Z",
     "start_time": "2019-07-22T23:34:17.669448Z"
    }
   },
   "outputs": [
    {
     "data": {
      "text/html": [
       "<div>\n",
       "<style scoped>\n",
       "    .dataframe tbody tr th:only-of-type {\n",
       "        vertical-align: middle;\n",
       "    }\n",
       "\n",
       "    .dataframe tbody tr th {\n",
       "        vertical-align: top;\n",
       "    }\n",
       "\n",
       "    .dataframe thead th {\n",
       "        text-align: right;\n",
       "    }\n",
       "</style>\n",
       "<table border=\"1\" class=\"dataframe\">\n",
       "  <thead>\n",
       "    <tr style=\"text-align: right;\">\n",
       "      <th></th>\n",
       "      <th>Paper_ID</th>\n",
       "      <th>mag_rank</th>\n",
       "      <th>DOI</th>\n",
       "      <th>doc_type</th>\n",
       "      <th>title</th>\n",
       "      <th>original_title</th>\n",
       "      <th>book_title</th>\n",
       "      <th>year</th>\n",
       "      <th>date</th>\n",
       "      <th>publisher</th>\n",
       "      <th>...</th>\n",
       "      <th>volume</th>\n",
       "      <th>issue</th>\n",
       "      <th>first_page</th>\n",
       "      <th>last_page</th>\n",
       "      <th>reference_count</th>\n",
       "      <th>citation_count</th>\n",
       "      <th>estimated_citation</th>\n",
       "      <th>cl</th>\n",
       "      <th>toplevel</th>\n",
       "      <th>EF</th>\n",
       "    </tr>\n",
       "  </thead>\n",
       "  <tbody>\n",
       "    <tr>\n",
       "      <th>0</th>\n",
       "      <td>202630324</td>\n",
       "      <td>23722</td>\n",
       "      <td>None</td>\n",
       "      <td>None</td>\n",
       "      <td>feature selection in linear models</td>\n",
       "      <td>Feature Selection in Linear Models</td>\n",
       "      <td>None</td>\n",
       "      <td>2008</td>\n",
       "      <td>2008-01-01</td>\n",
       "      <td>None</td>\n",
       "      <td>...</td>\n",
       "      <td>None</td>\n",
       "      <td>None</td>\n",
       "      <td>None</td>\n",
       "      <td>None</td>\n",
       "      <td>5</td>\n",
       "      <td>0</td>\n",
       "      <td>0</td>\n",
       "      <td>1048:4:79</td>\n",
       "      <td>1048</td>\n",
       "      <td>5.050350e-09</td>\n",
       "    </tr>\n",
       "    <tr>\n",
       "      <th>1</th>\n",
       "      <td>577139289</td>\n",
       "      <td>20454</td>\n",
       "      <td>None</td>\n",
       "      <td>None</td>\n",
       "      <td>a probabilistic model for dirty multi task fea...</td>\n",
       "      <td>A Probabilistic Model for Dirty Multi-task Fea...</td>\n",
       "      <td>None</td>\n",
       "      <td>2015</td>\n",
       "      <td>2015-01-01</td>\n",
       "      <td>International Machine Learning Society (IMLS)</td>\n",
       "      <td>...</td>\n",
       "      <td>None</td>\n",
       "      <td>None</td>\n",
       "      <td>1073</td>\n",
       "      <td>1082</td>\n",
       "      <td>29</td>\n",
       "      <td>4</td>\n",
       "      <td>4</td>\n",
       "      <td>1048:59:25</td>\n",
       "      <td>1048</td>\n",
       "      <td>5.492450e-09</td>\n",
       "    </tr>\n",
       "    <tr>\n",
       "      <th>2</th>\n",
       "      <td>1708200757</td>\n",
       "      <td>22088</td>\n",
       "      <td>None</td>\n",
       "      <td>None</td>\n",
       "      <td>sparse empirical bayes analysis seba</td>\n",
       "      <td>Sparse Empirical Bayes Analysis (SEBA)</td>\n",
       "      <td>None</td>\n",
       "      <td>2009</td>\n",
       "      <td>2009-11-30</td>\n",
       "      <td>None</td>\n",
       "      <td>...</td>\n",
       "      <td>None</td>\n",
       "      <td>None</td>\n",
       "      <td>None</td>\n",
       "      <td>None</td>\n",
       "      <td>13</td>\n",
       "      <td>0</td>\n",
       "      <td>0</td>\n",
       "      <td>1048:5:226</td>\n",
       "      <td>1048</td>\n",
       "      <td>5.050350e-09</td>\n",
       "    </tr>\n",
       "    <tr>\n",
       "      <th>3</th>\n",
       "      <td>1710695479</td>\n",
       "      <td>22332</td>\n",
       "      <td>10.1007/978-3-319-10593-2_38</td>\n",
       "      <td>None</td>\n",
       "      <td>efficient sparsity estimation via marginal las...</td>\n",
       "      <td>Efficient Sparsity Estimation via Marginal-Las...</td>\n",
       "      <td>None</td>\n",
       "      <td>2014</td>\n",
       "      <td>2014-09-06</td>\n",
       "      <td>Springer, Cham</td>\n",
       "      <td>...</td>\n",
       "      <td>None</td>\n",
       "      <td>None</td>\n",
       "      <td>578</td>\n",
       "      <td>592</td>\n",
       "      <td>32</td>\n",
       "      <td>0</td>\n",
       "      <td>0</td>\n",
       "      <td>1048:9:205</td>\n",
       "      <td>1048</td>\n",
       "      <td>5.050350e-09</td>\n",
       "    </tr>\n",
       "    <tr>\n",
       "      <th>4</th>\n",
       "      <td>1769664844</td>\n",
       "      <td>19815</td>\n",
       "      <td>None</td>\n",
       "      <td>None</td>\n",
       "      <td>graph structured multi task regression and an ...</td>\n",
       "      <td>Graph-Structured Multi-task Regression and an ...</td>\n",
       "      <td>None</td>\n",
       "      <td>2010</td>\n",
       "      <td>2010-01-01</td>\n",
       "      <td>None</td>\n",
       "      <td>...</td>\n",
       "      <td>None</td>\n",
       "      <td>None</td>\n",
       "      <td>None</td>\n",
       "      <td>None</td>\n",
       "      <td>19</td>\n",
       "      <td>38</td>\n",
       "      <td>120</td>\n",
       "      <td>1048:25:15</td>\n",
       "      <td>1048</td>\n",
       "      <td>1.298440e-08</td>\n",
       "    </tr>\n",
       "  </tbody>\n",
       "</table>\n",
       "<p>5 rows × 23 columns</p>\n",
       "</div>"
      ],
      "text/plain": [
       "     Paper_ID  mag_rank                           DOI doc_type  \\\n",
       "0   202630324     23722                          None     None   \n",
       "1   577139289     20454                          None     None   \n",
       "2  1708200757     22088                          None     None   \n",
       "3  1710695479     22332  10.1007/978-3-319-10593-2_38     None   \n",
       "4  1769664844     19815                          None     None   \n",
       "\n",
       "                                               title  \\\n",
       "0                 feature selection in linear models   \n",
       "1  a probabilistic model for dirty multi task fea...   \n",
       "2               sparse empirical bayes analysis seba   \n",
       "3  efficient sparsity estimation via marginal las...   \n",
       "4  graph structured multi task regression and an ...   \n",
       "\n",
       "                                      original_title book_title  year  \\\n",
       "0                 Feature Selection in Linear Models       None  2008   \n",
       "1  A Probabilistic Model for Dirty Multi-task Fea...       None  2015   \n",
       "2             Sparse Empirical Bayes Analysis (SEBA)       None  2009   \n",
       "3  Efficient Sparsity Estimation via Marginal-Las...       None  2014   \n",
       "4  Graph-Structured Multi-task Regression and an ...       None  2010   \n",
       "\n",
       "         date                                      publisher  ...  volume  \\\n",
       "0  2008-01-01                                           None  ...    None   \n",
       "1  2015-01-01  International Machine Learning Society (IMLS)  ...    None   \n",
       "2  2009-11-30                                           None  ...    None   \n",
       "3  2014-09-06                                 Springer, Cham  ...    None   \n",
       "4  2010-01-01                                           None  ...    None   \n",
       "\n",
       "   issue  first_page last_page reference_count citation_count  \\\n",
       "0   None        None      None               5              0   \n",
       "1   None        1073      1082              29              4   \n",
       "2   None        None      None              13              0   \n",
       "3   None         578       592              32              0   \n",
       "4   None        None      None              19             38   \n",
       "\n",
       "  estimated_citation          cl  toplevel            EF  \n",
       "0                  0   1048:4:79      1048  5.050350e-09  \n",
       "1                  4  1048:59:25      1048  5.492450e-09  \n",
       "2                  0  1048:5:226      1048  5.050350e-09  \n",
       "3                  0  1048:9:205      1048  5.050350e-09  \n",
       "4                120  1048:25:15      1048  1.298440e-08  \n",
       "\n",
       "[5 rows x 23 columns]"
      ]
     },
     "execution_count": 39,
     "metadata": {},
     "output_type": "execute_result"
    }
   ],
   "source": [
    "df_cl_subset.head()"
   ]
  },
  {
   "cell_type": "code",
   "execution_count": null,
   "metadata": {},
   "outputs": [],
   "source": []
  },
  {
   "cell_type": "code",
   "execution_count": null,
   "metadata": {},
   "outputs": [],
   "source": []
  },
  {
   "cell_type": "code",
   "execution_count": 40,
   "metadata": {
    "ExecuteTime": {
     "end_time": "2019-07-22T23:36:28.888538Z",
     "start_time": "2019-07-22T23:36:28.644659Z"
    }
   },
   "outputs": [],
   "source": [
    "sdf_citations = spark.read.parquet(MAG_CITATIONS_DATA)"
   ]
  },
  {
   "cell_type": "code",
   "execution_count": 41,
   "metadata": {
    "ExecuteTime": {
     "end_time": "2019-07-22T23:36:29.216563Z",
     "start_time": "2019-07-22T23:36:29.208811Z"
    }
   },
   "outputs": [
    {
     "data": {
      "text/plain": [
       "DataFrame[Paper_ID: bigint, Paper_Reference_ID: bigint]"
      ]
     },
     "execution_count": 41,
     "metadata": {},
     "output_type": "execute_result"
    }
   ],
   "source": [
    "sdf_citations"
   ]
  },
  {
   "cell_type": "code",
   "execution_count": 42,
   "metadata": {
    "ExecuteTime": {
     "end_time": "2019-07-22T23:36:32.098733Z",
     "start_time": "2019-07-22T23:36:31.979176Z"
    },
    "scrolled": true
   },
   "outputs": [],
   "source": [
    "sdf_citations = sdf_citations.withColumnRenamed('Paper_ID', 'src')\n",
    "sdf_citations = sdf_citations.withColumnRenamed('Paper_Reference_ID', 'dst')\n",
    "cond = [sdf_citations['src']==cl_subset['Paper_ID'], sdf_citations['dst']==cl_subset['Paper_ID']]\n",
    "sdf_citations_sample = sdf_citations.join(cl_subset, on=cond[0], how='inner').select('src', 'dst')\n",
    "sdf_citations_sample = sdf_citations_sample.join(cl_subset, on=cond[1], how='inner').select('src', 'dst')"
   ]
  },
  {
   "cell_type": "code",
   "execution_count": 43,
   "metadata": {
    "ExecuteTime": {
     "end_time": "2019-07-22T23:36:36.353483Z",
     "start_time": "2019-07-22T23:36:36.339916Z"
    }
   },
   "outputs": [
    {
     "data": {
      "text/plain": [
       "DataFrame[src: bigint, dst: bigint]"
      ]
     },
     "execution_count": 43,
     "metadata": {},
     "output_type": "execute_result"
    }
   ],
   "source": [
    "sdf_citations_sample"
   ]
  },
  {
   "cell_type": "code",
   "execution_count": 44,
   "metadata": {
    "ExecuteTime": {
     "end_time": "2019-07-22T23:41:40.336549Z",
     "start_time": "2019-07-22T23:36:39.253730Z"
    }
   },
   "outputs": [
    {
     "data": {
      "text/plain": [
       "85247"
      ]
     },
     "execution_count": 44,
     "metadata": {},
     "output_type": "execute_result"
    }
   ],
   "source": [
    "sdf_citations_sample.count()"
   ]
  },
  {
   "cell_type": "code",
   "execution_count": 45,
   "metadata": {
    "ExecuteTime": {
     "end_time": "2019-07-22T23:41:40.935396Z",
     "start_time": "2019-07-22T23:41:40.353314Z"
    }
   },
   "outputs": [
    {
     "data": {
      "text/plain": [
       "1213134880"
      ]
     },
     "execution_count": 45,
     "metadata": {},
     "output_type": "execute_result"
    }
   ],
   "source": [
    "sdf_citations.count()"
   ]
  },
  {
   "cell_type": "code",
   "execution_count": null,
   "metadata": {},
   "outputs": [],
   "source": []
  },
  {
   "cell_type": "code",
   "execution_count": 46,
   "metadata": {
    "ExecuteTime": {
     "end_time": "2019-07-22T23:44:13.765167Z",
     "start_time": "2019-07-22T23:42:43.765803Z"
    }
   },
   "outputs": [],
   "source": [
    "cl_subset.write.parquet('/home/jporteno/code/autoreview_testpublic/autoreview/sample_data/MAG_papers_sample')"
   ]
  },
  {
   "cell_type": "code",
   "execution_count": 47,
   "metadata": {
    "ExecuteTime": {
     "end_time": "2019-07-22T23:44:13.811875Z",
     "start_time": "2019-07-22T23:44:13.783298Z"
    }
   },
   "outputs": [],
   "source": [
    "sdf_citations_sample = sdf_citations_sample.withColumnRenamed('src', 'Paper_ID')\n",
    "sdf_citations_sample = sdf_citations_sample.withColumnRenamed('dst', 'Paper_Reference_ID')"
   ]
  },
  {
   "cell_type": "code",
   "execution_count": 48,
   "metadata": {
    "ExecuteTime": {
     "end_time": "2019-07-22T23:49:54.313120Z",
     "start_time": "2019-07-22T23:44:13.817843Z"
    }
   },
   "outputs": [],
   "source": [
    "sdf_citations_sample.write.parquet('/home/jporteno/code/autoreview_testpublic/autoreview/sample_data/MAG_citations_sample')"
   ]
  },
  {
   "cell_type": "code",
   "execution_count": 49,
   "metadata": {
    "ExecuteTime": {
     "end_time": "2019-07-22T23:49:54.344107Z",
     "start_time": "2019-07-22T23:49:54.327548Z"
    }
   },
   "outputs": [
    {
     "data": {
      "text/plain": [
       "DataFrame[Paper_ID: bigint, mag_rank: int, DOI: string, doc_type: string, title: string, original_title: string, book_title: string, year: int, date: date, publisher: string, Journal_ID: bigint, Conference_series_ID: bigint, Conference_instance_ID: bigint, volume: string, issue: string, first_page: string, last_page: string, reference_count: bigint, citation_count: bigint, estimated_citation: int, cl: string, toplevel: int, EF: float]"
      ]
     },
     "execution_count": 49,
     "metadata": {},
     "output_type": "execute_result"
    }
   ],
   "source": [
    "cl_subset"
   ]
  },
  {
   "cell_type": "code",
   "execution_count": 57,
   "metadata": {
    "ExecuteTime": {
     "end_time": "2019-07-22T23:56:30.029889Z",
     "start_time": "2019-07-22T23:56:30.022642Z"
    }
   },
   "outputs": [],
   "source": [
    "paper_ids = df_cl_subset.sample(n=50, random_state=999)['Paper_ID'].tolist()"
   ]
  },
  {
   "cell_type": "code",
   "execution_count": 59,
   "metadata": {
    "ExecuteTime": {
     "end_time": "2019-07-22T23:56:39.047666Z",
     "start_time": "2019-07-22T23:56:39.038881Z"
    }
   },
   "outputs": [],
   "source": [
    "with open('sample_data/sample_IDs_MAG.txt', 'w') as outf:\n",
    "    for paper_id in paper_ids:\n",
    "        outf.write('{}\\n'.format(paper_id))"
   ]
  },
  {
   "cell_type": "code",
   "execution_count": null,
   "metadata": {},
   "outputs": [],
   "source": []
  }
 ],
 "metadata": {
  "kernelspec": {
   "display_name": "autoreview_venv",
   "language": "python",
   "name": "autoreview_venv"
  },
  "language_info": {
   "codemirror_mode": {
    "name": "ipython",
    "version": 3
   },
   "file_extension": ".py",
   "mimetype": "text/x-python",
   "name": "python",
   "nbconvert_exporter": "python",
   "pygments_lexer": "ipython3",
   "version": "3.7.1"
  }
 },
 "nbformat": 4,
 "nbformat_minor": 2
}
