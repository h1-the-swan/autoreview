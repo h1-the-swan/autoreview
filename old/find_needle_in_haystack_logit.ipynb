{
 "cells": [
  {
   "cell_type": "code",
   "execution_count": 1,
   "metadata": {},
   "outputs": [],
   "source": [
    "import sys, os, time, pickle\n",
    "from timeit import default_timer as timer\n",
    "from humanfriendly import format_timespan"
   ]
  },
  {
   "cell_type": "code",
   "execution_count": 2,
   "metadata": {},
   "outputs": [],
   "source": [
    "import pandas as pd\n",
    "import numpy as np"
   ]
  },
  {
   "cell_type": "code",
   "execution_count": 3,
   "metadata": {},
   "outputs": [
    {
     "data": {
      "text/plain": [
       "True"
      ]
     },
     "execution_count": 3,
     "metadata": {},
     "output_type": "execute_result"
    }
   ],
   "source": [
    "from dotenv import load_dotenv\n",
    "load_dotenv('admin.env')"
   ]
  },
  {
   "cell_type": "code",
   "execution_count": 41,
   "metadata": {},
   "outputs": [],
   "source": [
    "from db_connect_mag import Session, Paper, PaperAuthorAffiliation, db"
   ]
  },
  {
   "cell_type": "code",
   "execution_count": 5,
   "metadata": {},
   "outputs": [],
   "source": [
    "# test_papers_df = pd.read_pickle('data/collect_haystack_20180409/test_papers.pickle')\n",
    "# target_papers_df = pd.read_pickle('data/collect_haystack_20180409/target_papers.pickle')\n",
    "# train_papers_df = pd.read_pickle('data/collect_haystack_20180409/train_papers.pickle')"
   ]
  },
  {
   "cell_type": "code",
   "execution_count": 6,
   "metadata": {},
   "outputs": [
    {
     "name": "stdout",
     "output_type": "stream",
     "text": [
      "4.97 seconds\n"
     ]
    }
   ],
   "source": [
    "# this is the data for the fortunato review on Community Detection in Graphs\n",
    "start = timer()\n",
    "test_papers_df = pd.read_pickle('data/collect_haystack_20180409_2/test_papers.pickle')\n",
    "target_papers_df = pd.read_pickle('data/collect_haystack_20180409_2/target_papers.pickle')\n",
    "train_papers_df = pd.read_pickle('data/collect_haystack_20180409_2/train_papers.pickle')\n",
    "print(format_timespan(timer()-start))"
   ]
  },
  {
   "cell_type": "code",
   "execution_count": 7,
   "metadata": {},
   "outputs": [],
   "source": [
    "with open('data/collect_haystack_20180409_2/counter.pickle', 'rb') as f:\n",
    "    c = pickle.load(f)"
   ]
  },
  {
   "cell_type": "code",
   "execution_count": 8,
   "metadata": {},
   "outputs": [],
   "source": [
    "# with open('data/collect_haystack_2490420619/counter_checkpoint.pickle', 'rb') as f:\n",
    "#     c = pickle.load(f)"
   ]
  },
  {
   "cell_type": "code",
   "execution_count": 9,
   "metadata": {},
   "outputs": [
    {
     "data": {
      "text/plain": [
       "397"
      ]
     },
     "execution_count": 9,
     "metadata": {},
     "output_type": "execute_result"
    }
   ],
   "source": [
    "def get_target_in_test(test, target, id_colname='Paper_ID'):\n",
    "    return set.intersection(set(test[id_colname]), set(target[id_colname]))\n",
    "len(get_target_in_test(test_papers_df, target_papers_df))"
   ]
  },
  {
   "cell_type": "code",
   "execution_count": 10,
   "metadata": {},
   "outputs": [
    {
     "data": {
      "text/plain": [
       "397"
      ]
     },
     "execution_count": 10,
     "metadata": {},
     "output_type": "execute_result"
    }
   ],
   "source": [
    "len(target_papers_df)"
   ]
  },
  {
   "cell_type": "code",
   "execution_count": 11,
   "metadata": {},
   "outputs": [
    {
     "data": {
      "text/plain": [
       "2613341"
      ]
     },
     "execution_count": 11,
     "metadata": {},
     "output_type": "execute_result"
    }
   ],
   "source": [
    "len(test_papers_df)"
   ]
  },
  {
   "cell_type": "code",
   "execution_count": 12,
   "metadata": {},
   "outputs": [
    {
     "name": "stdout",
     "output_type": "stream",
     "text": [
      "removed 50 seed papers from the haystack. size of haystack: 2613291\n"
     ]
    }
   ],
   "source": [
    "# remove the train (seed) papers from the test set (haystack)\n",
    "n_before = len(test_papers_df)\n",
    "test_papers_df = test_papers_df.drop(train_papers_df.index, errors='ignore')\n",
    "n_after = len(test_papers_df)\n",
    "print(\"removed {} seed papers from the haystack. size of haystack: {}\".format(n_before-n_after, n_after))"
   ]
  },
  {
   "cell_type": "code",
   "execution_count": 13,
   "metadata": {},
   "outputs": [
    {
     "name": "stdout",
     "output_type": "stream",
     "text": [
      "0.6 seconds\n"
     ]
    }
   ],
   "source": [
    "start = timer()\n",
    "target_ids = set(target_papers_df.Paper_ID)\n",
    "test_papers_df['target'] = test_papers_df.Paper_ID.apply(lambda x: x in target_ids)\n",
    "print(format_timespan(timer()-start))"
   ]
  },
  {
   "cell_type": "code",
   "execution_count": 14,
   "metadata": {},
   "outputs": [],
   "source": [
    "# def tree_distance(n1, n2, sep=\":\"):\n",
    "#     # https://en.wikipedia.org/wiki/Lowest_common_ancestor\n",
    "#     # the distance from v to w can be computed as \n",
    "#     # the distance from the root to v, plus the distance from \n",
    "#     # the root to w, minus twice the distance from \n",
    "#     # the root to their lowest common ancestor\n",
    "#     v, w = [n.split(sep) for n in [n1, n2]]\n",
    "#     distance_root_to_v = len(v)\n",
    "#     distance_root_to_w = len(w)\n",
    "    \n",
    "#     distance_root_to_lca = 0\n",
    "#     for i in range(min(distance_root_to_v, distance_root_to_w)):\n",
    "#         if v[i] == w[i]:\n",
    "#             distance_root_to_lca += 1\n",
    "#         else:\n",
    "#             break\n",
    "#     return distance_root_to_v + distance_root_to_w - (2*distance_root_to_lca)"
   ]
  },
  {
   "cell_type": "code",
   "execution_count": 15,
   "metadata": {},
   "outputs": [],
   "source": [
    "def tree_distance(n1, n2, sep=\":\"):\n",
    "    # since depth is sort of arbitrary, let's try this\n",
    "    v, w = [n.split(sep) for n in [n1, n2]]\n",
    "    distance_root_to_v = len(v)\n",
    "    distance_root_to_w = len(w)\n",
    "    avg_depth = (distance_root_to_v + distance_root_to_w) * .5\n",
    "    \n",
    "    distance_root_to_lca = 0\n",
    "    for i in range(min(distance_root_to_v, distance_root_to_w)):\n",
    "        if v[i] == w[i]:\n",
    "            distance_root_to_lca += 1\n",
    "        else:\n",
    "            break\n",
    "    return (avg_depth - distance_root_to_lca) / avg_depth"
   ]
  },
  {
   "cell_type": "code",
   "execution_count": 16,
   "metadata": {},
   "outputs": [],
   "source": [
    "def avg_distance(cl, cl_group):\n",
    "    distances = []\n",
    "    for x in cl_group:\n",
    "        distances.append(tree_distance(cl, x))\n",
    "    return sum(distances) / len(distances)"
   ]
  },
  {
   "cell_type": "code",
   "execution_count": 17,
   "metadata": {},
   "outputs": [
    {
     "name": "stdout",
     "output_type": "stream",
     "text": [
      "5 minutes and 49.06 seconds\n"
     ]
    }
   ],
   "source": [
    "start = timer()\n",
    "test_papers_df['avg_distance_to_train'] = test_papers_df.cl.apply(avg_distance, cl_group=train_papers_df.cl.tolist())\n",
    "print(format_timespan(timer()-start))"
   ]
  },
  {
   "cell_type": "code",
   "execution_count": 18,
   "metadata": {},
   "outputs": [
    {
     "data": {
      "text/html": [
       "<div>\n",
       "<style scoped>\n",
       "    .dataframe tbody tr th:only-of-type {\n",
       "        vertical-align: middle;\n",
       "    }\n",
       "\n",
       "    .dataframe tbody tr th {\n",
       "        vertical-align: top;\n",
       "    }\n",
       "\n",
       "    .dataframe thead th {\n",
       "        text-align: right;\n",
       "    }\n",
       "</style>\n",
       "<table border=\"1\" class=\"dataframe\">\n",
       "  <thead>\n",
       "    <tr style=\"text-align: right;\">\n",
       "      <th></th>\n",
       "      <th>EF</th>\n",
       "      <th>Paper_ID</th>\n",
       "      <th>cl</th>\n",
       "      <th>title</th>\n",
       "      <th>year</th>\n",
       "      <th>target</th>\n",
       "      <th>avg_distance_to_train</th>\n",
       "    </tr>\n",
       "  </thead>\n",
       "  <tbody>\n",
       "    <tr>\n",
       "      <th>107272</th>\n",
       "      <td>1.992670e-06</td>\n",
       "      <td>2095293504</td>\n",
       "      <td>3372652:1:1:2</td>\n",
       "      <td>finding and evaluating community structure in ...</td>\n",
       "      <td>2004.0</td>\n",
       "      <td>False</td>\n",
       "      <td>0.611111</td>\n",
       "    </tr>\n",
       "    <tr>\n",
       "      <th>110154</th>\n",
       "      <td>9.501080e-07</td>\n",
       "      <td>2131681506</td>\n",
       "      <td>3372652:1:1:9</td>\n",
       "      <td>fast unfolding of communities in large networks</td>\n",
       "      <td>2008.0</td>\n",
       "      <td>False</td>\n",
       "      <td>0.611111</td>\n",
       "    </tr>\n",
       "    <tr>\n",
       "      <th>109495</th>\n",
       "      <td>8.579680e-07</td>\n",
       "      <td>2120043163</td>\n",
       "      <td>3372652:1:1:7</td>\n",
       "      <td>comparing community structure identification</td>\n",
       "      <td>2005.0</td>\n",
       "      <td>False</td>\n",
       "      <td>0.611111</td>\n",
       "    </tr>\n",
       "    <tr>\n",
       "      <th>114759</th>\n",
       "      <td>3.484730e-07</td>\n",
       "      <td>2606584716</td>\n",
       "      <td>3372652:1:1:29</td>\n",
       "      <td>e mail as spectroscopy automated discovery of ...</td>\n",
       "      <td>2005.0</td>\n",
       "      <td>False</td>\n",
       "      <td>0.611111</td>\n",
       "    </tr>\n",
       "    <tr>\n",
       "      <th>110902</th>\n",
       "      <td>8.711380e-08</td>\n",
       "      <td>2139818818</td>\n",
       "      <td>3372652:1:1:55</td>\n",
       "      <td>mixture models and exploratory analysis in net...</td>\n",
       "      <td>2007.0</td>\n",
       "      <td>False</td>\n",
       "      <td>0.611111</td>\n",
       "    </tr>\n",
       "    <tr>\n",
       "      <th>107228</th>\n",
       "      <td>8.128820e-08</td>\n",
       "      <td>2091202730</td>\n",
       "      <td>3372652:1:1:52</td>\n",
       "      <td>detect overlapping and hierarchical community ...</td>\n",
       "      <td>2009.0</td>\n",
       "      <td>False</td>\n",
       "      <td>0.611111</td>\n",
       "    </tr>\n",
       "    <tr>\n",
       "      <th>109443</th>\n",
       "      <td>6.873940e-08</td>\n",
       "      <td>2117526408</td>\n",
       "      <td>3372652:1:1:68</td>\n",
       "      <td>towards real time community detection in large...</td>\n",
       "      <td>2009.0</td>\n",
       "      <td>False</td>\n",
       "      <td>0.611111</td>\n",
       "    </tr>\n",
       "    <tr>\n",
       "      <th>118641</th>\n",
       "      <td>2.728230e-08</td>\n",
       "      <td>1967752035</td>\n",
       "      <td>3372652:1:1:148</td>\n",
       "      <td>finding instabilities in the community structu...</td>\n",
       "      <td>2005.0</td>\n",
       "      <td>False</td>\n",
       "      <td>0.611111</td>\n",
       "    </tr>\n",
       "    <tr>\n",
       "      <th>123223</th>\n",
       "      <td>2.550930e-08</td>\n",
       "      <td>2033507223</td>\n",
       "      <td>3372652:1:1:128</td>\n",
       "      <td>quantifying and identifying the overlapping co...</td>\n",
       "      <td>2009.0</td>\n",
       "      <td>False</td>\n",
       "      <td>0.611111</td>\n",
       "    </tr>\n",
       "    <tr>\n",
       "      <th>106490</th>\n",
       "      <td>2.393100e-08</td>\n",
       "      <td>2069629462</td>\n",
       "      <td>3372652:1:1:170</td>\n",
       "      <td>comparison and validation of community structu...</td>\n",
       "      <td>2006.0</td>\n",
       "      <td>False</td>\n",
       "      <td>0.611111</td>\n",
       "    </tr>\n",
       "    <tr>\n",
       "      <th>114126</th>\n",
       "      <td>2.355810e-08</td>\n",
       "      <td>2171059110</td>\n",
       "      <td>3372652:1:1:205</td>\n",
       "      <td>community structure in the united states house...</td>\n",
       "      <td>2007.0</td>\n",
       "      <td>False</td>\n",
       "      <td>0.611111</td>\n",
       "    </tr>\n",
       "    <tr>\n",
       "      <th>107807</th>\n",
       "      <td>2.333670e-08</td>\n",
       "      <td>2103094896</td>\n",
       "      <td>3372652:1:1:266</td>\n",
       "      <td>community structure in congressional cosponsor...</td>\n",
       "      <td>2008.0</td>\n",
       "      <td>False</td>\n",
       "      <td>0.611111</td>\n",
       "    </tr>\n",
       "    <tr>\n",
       "      <th>110980</th>\n",
       "      <td>2.128610e-08</td>\n",
       "      <td>2146057107</td>\n",
       "      <td>3372652:1:1:330</td>\n",
       "      <td>on the np completeness of some graph cluster m...</td>\n",
       "      <td>2006.0</td>\n",
       "      <td>False</td>\n",
       "      <td>0.611111</td>\n",
       "    </tr>\n",
       "    <tr>\n",
       "      <th>125217</th>\n",
       "      <td>1.892030e-08</td>\n",
       "      <td>2052898451</td>\n",
       "      <td>3372652:1:1:234</td>\n",
       "      <td>optimal partition and effective dynamics of co...</td>\n",
       "      <td>2008.0</td>\n",
       "      <td>False</td>\n",
       "      <td>0.611111</td>\n",
       "    </tr>\n",
       "    <tr>\n",
       "      <th>113255</th>\n",
       "      <td>1.862940e-08</td>\n",
       "      <td>2167065750</td>\n",
       "      <td>3372652:1:1:343</td>\n",
       "      <td>a network based method for target selection in...</td>\n",
       "      <td>2007.0</td>\n",
       "      <td>False</td>\n",
       "      <td>0.611111</td>\n",
       "    </tr>\n",
       "    <tr>\n",
       "      <th>113358</th>\n",
       "      <td>1.704290e-08</td>\n",
       "      <td>2170768441</td>\n",
       "      <td>3372652:1:1:219</td>\n",
       "      <td>synchronization and modularity in complex netw...</td>\n",
       "      <td>2007.0</td>\n",
       "      <td>False</td>\n",
       "      <td>0.611111</td>\n",
       "    </tr>\n",
       "    <tr>\n",
       "      <th>125208</th>\n",
       "      <td>1.608180e-08</td>\n",
       "      <td>2051741861</td>\n",
       "      <td>3372652:1:1:203</td>\n",
       "      <td>finding community structures in complex networ...</td>\n",
       "      <td>2007.0</td>\n",
       "      <td>False</td>\n",
       "      <td>0.611111</td>\n",
       "    </tr>\n",
       "    <tr>\n",
       "      <th>124244</th>\n",
       "      <td>1.604080e-08</td>\n",
       "      <td>2041414850</td>\n",
       "      <td>3372652:1:1:544</td>\n",
       "      <td>social network topology a bayesian approach</td>\n",
       "      <td>2007.0</td>\n",
       "      <td>False</td>\n",
       "      <td>0.611111</td>\n",
       "    </tr>\n",
       "    <tr>\n",
       "      <th>122251</th>\n",
       "      <td>1.597520e-08</td>\n",
       "      <td>2024529797</td>\n",
       "      <td>3372652:1:1:262</td>\n",
       "      <td>communicability graph and community structures...</td>\n",
       "      <td>2009.0</td>\n",
       "      <td>False</td>\n",
       "      <td>0.611111</td>\n",
       "    </tr>\n",
       "    <tr>\n",
       "      <th>116908</th>\n",
       "      <td>1.546510e-08</td>\n",
       "      <td>1539854304</td>\n",
       "      <td>3372652:1:1:236</td>\n",
       "      <td>effective algorithm for detecting community st...</td>\n",
       "      <td>2007.0</td>\n",
       "      <td>False</td>\n",
       "      <td>0.611111</td>\n",
       "    </tr>\n",
       "    <tr>\n",
       "      <th>122244</th>\n",
       "      <td>1.433300e-08</td>\n",
       "      <td>2024495622</td>\n",
       "      <td>3372652:1:1:308</td>\n",
       "      <td>improved community structure detection using a...</td>\n",
       "      <td>2009.0</td>\n",
       "      <td>False</td>\n",
       "      <td>0.611111</td>\n",
       "    </tr>\n",
       "    <tr>\n",
       "      <th>116458</th>\n",
       "      <td>7.692950e-09</td>\n",
       "      <td>187852867</td>\n",
       "      <td>3372652:1:1:776</td>\n",
       "      <td>changing opinions in a changing world</td>\n",
       "      <td>2005.0</td>\n",
       "      <td>False</td>\n",
       "      <td>0.611111</td>\n",
       "    </tr>\n",
       "    <tr>\n",
       "      <th>106526</th>\n",
       "      <td>7.669920e-09</td>\n",
       "      <td>2077715475</td>\n",
       "      <td>3372652:1:1:727</td>\n",
       "      <td>modularity density of network community divisions</td>\n",
       "      <td>2009.0</td>\n",
       "      <td>False</td>\n",
       "      <td>0.611111</td>\n",
       "    </tr>\n",
       "    <tr>\n",
       "      <th>119371</th>\n",
       "      <td>2.348880e-06</td>\n",
       "      <td>1971421925</td>\n",
       "      <td>3372652:1:1:1</td>\n",
       "      <td>community structure in social and biological n...</td>\n",
       "      <td>2002.0</td>\n",
       "      <td>True</td>\n",
       "      <td>0.616111</td>\n",
       "    </tr>\n",
       "    <tr>\n",
       "      <th>121705</th>\n",
       "      <td>1.604670e-06</td>\n",
       "      <td>2015370254</td>\n",
       "      <td>3372652:1:1:13</td>\n",
       "      <td>social network analysis a handbook</td>\n",
       "      <td>1991.0</td>\n",
       "      <td>True</td>\n",
       "      <td>0.616111</td>\n",
       "    </tr>\n",
       "    <tr>\n",
       "      <th>2400979</th>\n",
       "      <td>1.041950e-06</td>\n",
       "      <td>2147824439</td>\n",
       "      <td>3372652:1:1:10</td>\n",
       "      <td>the structure and dynamics of networks</td>\n",
       "      <td>2006.0</td>\n",
       "      <td>False</td>\n",
       "      <td>0.616111</td>\n",
       "    </tr>\n",
       "    <tr>\n",
       "      <th>196561</th>\n",
       "      <td>1.001200e-06</td>\n",
       "      <td>2127048411</td>\n",
       "      <td>3372652:1:1:3</td>\n",
       "      <td>community detection in graphs</td>\n",
       "      <td>2010.0</td>\n",
       "      <td>False</td>\n",
       "      <td>0.616111</td>\n",
       "    </tr>\n",
       "    <tr>\n",
       "      <th>111629</th>\n",
       "      <td>9.649470e-07</td>\n",
       "      <td>2151936673</td>\n",
       "      <td>3372652:1:1:8</td>\n",
       "      <td>modularity and community structure in networks</td>\n",
       "      <td>2006.0</td>\n",
       "      <td>True</td>\n",
       "      <td>0.616111</td>\n",
       "    </tr>\n",
       "    <tr>\n",
       "      <th>107210</th>\n",
       "      <td>9.554800e-07</td>\n",
       "      <td>2089458547</td>\n",
       "      <td>3372652:1:1:4</td>\n",
       "      <td>fast algorithm for detecting community structu...</td>\n",
       "      <td>2004.0</td>\n",
       "      <td>True</td>\n",
       "      <td>0.616111</td>\n",
       "    </tr>\n",
       "    <tr>\n",
       "      <th>124383</th>\n",
       "      <td>9.428180e-07</td>\n",
       "      <td>2047940964</td>\n",
       "      <td>3372652:1:1:5</td>\n",
       "      <td>finding community structure in very large netw...</td>\n",
       "      <td>2004.0</td>\n",
       "      <td>True</td>\n",
       "      <td>0.616111</td>\n",
       "    </tr>\n",
       "    <tr>\n",
       "      <th>112473</th>\n",
       "      <td>9.152910e-07</td>\n",
       "      <td>2164928285</td>\n",
       "      <td>3372652:1:1:6</td>\n",
       "      <td>uncovering the overlapping community structure...</td>\n",
       "      <td>2005.0</td>\n",
       "      <td>True</td>\n",
       "      <td>0.616111</td>\n",
       "    </tr>\n",
       "    <tr>\n",
       "      <th>1831985</th>\n",
       "      <td>7.493270e-07</td>\n",
       "      <td>57870279</td>\n",
       "      <td>3372652:1:1:19</td>\n",
       "      <td>social network analysis a handbook 2nd ed</td>\n",
       "      <td>2000.0</td>\n",
       "      <td>False</td>\n",
       "      <td>0.616111</td>\n",
       "    </tr>\n",
       "    <tr>\n",
       "      <th>5634</th>\n",
       "      <td>5.522150e-07</td>\n",
       "      <td>2025572017</td>\n",
       "      <td>3372652:1:1:17</td>\n",
       "      <td>scientific collaboration networks i network co...</td>\n",
       "      <td>2001.0</td>\n",
       "      <td>False</td>\n",
       "      <td>0.616111</td>\n",
       "    </tr>\n",
       "    <tr>\n",
       "      <th>110089</th>\n",
       "      <td>5.370510e-07</td>\n",
       "      <td>2125050594</td>\n",
       "      <td>3372652:1:1:15</td>\n",
       "      <td>detecting community structure in networks</td>\n",
       "      <td>2004.0</td>\n",
       "      <td>True</td>\n",
       "      <td>0.616111</td>\n",
       "    </tr>\n",
       "    <tr>\n",
       "      <th>124225</th>\n",
       "      <td>4.880740e-07</td>\n",
       "      <td>2038920443</td>\n",
       "      <td>3372652:1:1:11</td>\n",
       "      <td>defining and identifying communities in networks</td>\n",
       "      <td>2004.0</td>\n",
       "      <td>True</td>\n",
       "      <td>0.616111</td>\n",
       "    </tr>\n",
       "    <tr>\n",
       "      <th>122090</th>\n",
       "      <td>4.858850e-07</td>\n",
       "      <td>2015953751</td>\n",
       "      <td>3372652:1:1:12</td>\n",
       "      <td>finding community structure in networks using ...</td>\n",
       "      <td>2006.0</td>\n",
       "      <td>True</td>\n",
       "      <td>0.616111</td>\n",
       "    </tr>\n",
       "    <tr>\n",
       "      <th>107789</th>\n",
       "      <td>4.761340e-07</td>\n",
       "      <td>2102931907</td>\n",
       "      <td>3372652:1:1:22</td>\n",
       "      <td>self organization and identification of web co...</td>\n",
       "      <td>2002.0</td>\n",
       "      <td>True</td>\n",
       "      <td>0.616111</td>\n",
       "    </tr>\n",
       "    <tr>\n",
       "      <th>122148</th>\n",
       "      <td>4.345630e-07</td>\n",
       "      <td>2017987256</td>\n",
       "      <td>3372652:1:1:16</td>\n",
       "      <td>functional cartography of complex metabolic ne...</td>\n",
       "      <td>2005.0</td>\n",
       "      <td>True</td>\n",
       "      <td>0.616111</td>\n",
       "    </tr>\n",
       "    <tr>\n",
       "      <th>120237</th>\n",
       "      <td>3.420010e-07</td>\n",
       "      <td>1983345514</td>\n",
       "      <td>3372652:1:1:27</td>\n",
       "      <td>analysis of weighted networks</td>\n",
       "      <td>2004.0</td>\n",
       "      <td>True</td>\n",
       "      <td>0.616111</td>\n",
       "    </tr>\n",
       "    <tr>\n",
       "      <th>110123</th>\n",
       "      <td>3.408270e-07</td>\n",
       "      <td>2128366083</td>\n",
       "      <td>3372652:1:1:14</td>\n",
       "      <td>resolution limit in community detection</td>\n",
       "      <td>2007.0</td>\n",
       "      <td>True</td>\n",
       "      <td>0.616111</td>\n",
       "    </tr>\n",
       "    <tr>\n",
       "      <th>109525</th>\n",
       "      <td>3.167810e-07</td>\n",
       "      <td>2122407999</td>\n",
       "      <td>3372652:1:1:25</td>\n",
       "      <td>subnetwork hierarchies of biochemical pathways</td>\n",
       "      <td>2003.0</td>\n",
       "      <td>True</td>\n",
       "      <td>0.616111</td>\n",
       "    </tr>\n",
       "    <tr>\n",
       "      <th>112482</th>\n",
       "      <td>2.981850e-07</td>\n",
       "      <td>2164998314</td>\n",
       "      <td>3372652:1:1:20</td>\n",
       "      <td>maps of random walks on complex networks revea...</td>\n",
       "      <td>2008.0</td>\n",
       "      <td>True</td>\n",
       "      <td>0.616111</td>\n",
       "    </tr>\n",
       "    <tr>\n",
       "      <th>121695</th>\n",
       "      <td>2.710320e-07</td>\n",
       "      <td>2013307517</td>\n",
       "      <td>3372652:1:1:23</td>\n",
       "      <td>community structure in jazz</td>\n",
       "      <td>2003.0</td>\n",
       "      <td>True</td>\n",
       "      <td>0.616111</td>\n",
       "    </tr>\n",
       "    <tr>\n",
       "      <th>1832291</th>\n",
       "      <td>2.678910e-07</td>\n",
       "      <td>2053374102</td>\n",
       "      <td>3372652:1:1:35</td>\n",
       "      <td>a set of measures of centrality based upon bet...</td>\n",
       "      <td>2004.0</td>\n",
       "      <td>False</td>\n",
       "      <td>0.616111</td>\n",
       "    </tr>\n",
       "    <tr>\n",
       "      <th>5640</th>\n",
       "      <td>2.326530e-07</td>\n",
       "      <td>2033590892</td>\n",
       "      <td>3372652:1:1:26</td>\n",
       "      <td>computing communities in large networks using ...</td>\n",
       "      <td>2006.0</td>\n",
       "      <td>False</td>\n",
       "      <td>0.616111</td>\n",
       "    </tr>\n",
       "    <tr>\n",
       "      <th>112405</th>\n",
       "      <td>2.274990e-07</td>\n",
       "      <td>2157082398</td>\n",
       "      <td>3372652:1:1:28</td>\n",
       "      <td>hierarchical structure and the prediction of m...</td>\n",
       "      <td>2008.0</td>\n",
       "      <td>True</td>\n",
       "      <td>0.616111</td>\n",
       "    </tr>\n",
       "    <tr>\n",
       "      <th>109485</th>\n",
       "      <td>2.218210e-07</td>\n",
       "      <td>2118608338</td>\n",
       "      <td>3372652:1:1:21</td>\n",
       "      <td>detecting the overlapping and hierarchical com...</td>\n",
       "      <td>2009.0</td>\n",
       "      <td>True</td>\n",
       "      <td>0.616111</td>\n",
       "    </tr>\n",
       "    <tr>\n",
       "      <th>122221</th>\n",
       "      <td>2.181870e-07</td>\n",
       "      <td>2023655578</td>\n",
       "      <td>3372652:1:1:18</td>\n",
       "      <td>benchmark graphs for testing community detecti...</td>\n",
       "      <td>2008.0</td>\n",
       "      <td>True</td>\n",
       "      <td>0.616111</td>\n",
       "    </tr>\n",
       "    <tr>\n",
       "      <th>110985</th>\n",
       "      <td>2.130870e-07</td>\n",
       "      <td>2146591355</td>\n",
       "      <td>3372652:1:1:30</td>\n",
       "      <td>community structure in large networks natural ...</td>\n",
       "      <td>2009.0</td>\n",
       "      <td>True</td>\n",
       "      <td>0.616111</td>\n",
       "    </tr>\n",
       "    <tr>\n",
       "      <th>108857</th>\n",
       "      <td>2.034420e-07</td>\n",
       "      <td>2110620844</td>\n",
       "      <td>3372652:1:1:24</td>\n",
       "      <td>link communities reveal multiscale complexity ...</td>\n",
       "      <td>2010.0</td>\n",
       "      <td>True</td>\n",
       "      <td>0.616111</td>\n",
       "    </tr>\n",
       "  </tbody>\n",
       "</table>\n",
       "</div>"
      ],
      "text/plain": [
       "                   EF    Paper_ID               cl  \\\n",
       "107272   1.992670e-06  2095293504    3372652:1:1:2   \n",
       "110154   9.501080e-07  2131681506    3372652:1:1:9   \n",
       "109495   8.579680e-07  2120043163    3372652:1:1:7   \n",
       "114759   3.484730e-07  2606584716   3372652:1:1:29   \n",
       "110902   8.711380e-08  2139818818   3372652:1:1:55   \n",
       "107228   8.128820e-08  2091202730   3372652:1:1:52   \n",
       "109443   6.873940e-08  2117526408   3372652:1:1:68   \n",
       "118641   2.728230e-08  1967752035  3372652:1:1:148   \n",
       "123223   2.550930e-08  2033507223  3372652:1:1:128   \n",
       "106490   2.393100e-08  2069629462  3372652:1:1:170   \n",
       "114126   2.355810e-08  2171059110  3372652:1:1:205   \n",
       "107807   2.333670e-08  2103094896  3372652:1:1:266   \n",
       "110980   2.128610e-08  2146057107  3372652:1:1:330   \n",
       "125217   1.892030e-08  2052898451  3372652:1:1:234   \n",
       "113255   1.862940e-08  2167065750  3372652:1:1:343   \n",
       "113358   1.704290e-08  2170768441  3372652:1:1:219   \n",
       "125208   1.608180e-08  2051741861  3372652:1:1:203   \n",
       "124244   1.604080e-08  2041414850  3372652:1:1:544   \n",
       "122251   1.597520e-08  2024529797  3372652:1:1:262   \n",
       "116908   1.546510e-08  1539854304  3372652:1:1:236   \n",
       "122244   1.433300e-08  2024495622  3372652:1:1:308   \n",
       "116458   7.692950e-09   187852867  3372652:1:1:776   \n",
       "106526   7.669920e-09  2077715475  3372652:1:1:727   \n",
       "119371   2.348880e-06  1971421925    3372652:1:1:1   \n",
       "121705   1.604670e-06  2015370254   3372652:1:1:13   \n",
       "2400979  1.041950e-06  2147824439   3372652:1:1:10   \n",
       "196561   1.001200e-06  2127048411    3372652:1:1:3   \n",
       "111629   9.649470e-07  2151936673    3372652:1:1:8   \n",
       "107210   9.554800e-07  2089458547    3372652:1:1:4   \n",
       "124383   9.428180e-07  2047940964    3372652:1:1:5   \n",
       "112473   9.152910e-07  2164928285    3372652:1:1:6   \n",
       "1831985  7.493270e-07    57870279   3372652:1:1:19   \n",
       "5634     5.522150e-07  2025572017   3372652:1:1:17   \n",
       "110089   5.370510e-07  2125050594   3372652:1:1:15   \n",
       "124225   4.880740e-07  2038920443   3372652:1:1:11   \n",
       "122090   4.858850e-07  2015953751   3372652:1:1:12   \n",
       "107789   4.761340e-07  2102931907   3372652:1:1:22   \n",
       "122148   4.345630e-07  2017987256   3372652:1:1:16   \n",
       "120237   3.420010e-07  1983345514   3372652:1:1:27   \n",
       "110123   3.408270e-07  2128366083   3372652:1:1:14   \n",
       "109525   3.167810e-07  2122407999   3372652:1:1:25   \n",
       "112482   2.981850e-07  2164998314   3372652:1:1:20   \n",
       "121695   2.710320e-07  2013307517   3372652:1:1:23   \n",
       "1832291  2.678910e-07  2053374102   3372652:1:1:35   \n",
       "5640     2.326530e-07  2033590892   3372652:1:1:26   \n",
       "112405   2.274990e-07  2157082398   3372652:1:1:28   \n",
       "109485   2.218210e-07  2118608338   3372652:1:1:21   \n",
       "122221   2.181870e-07  2023655578   3372652:1:1:18   \n",
       "110985   2.130870e-07  2146591355   3372652:1:1:30   \n",
       "108857   2.034420e-07  2110620844   3372652:1:1:24   \n",
       "\n",
       "                                                     title    year  target  \\\n",
       "107272   finding and evaluating community structure in ...  2004.0   False   \n",
       "110154     fast unfolding of communities in large networks  2008.0   False   \n",
       "109495        comparing community structure identification  2005.0   False   \n",
       "114759   e mail as spectroscopy automated discovery of ...  2005.0   False   \n",
       "110902   mixture models and exploratory analysis in net...  2007.0   False   \n",
       "107228   detect overlapping and hierarchical community ...  2009.0   False   \n",
       "109443   towards real time community detection in large...  2009.0   False   \n",
       "118641   finding instabilities in the community structu...  2005.0   False   \n",
       "123223   quantifying and identifying the overlapping co...  2009.0   False   \n",
       "106490   comparison and validation of community structu...  2006.0   False   \n",
       "114126   community structure in the united states house...  2007.0   False   \n",
       "107807   community structure in congressional cosponsor...  2008.0   False   \n",
       "110980   on the np completeness of some graph cluster m...  2006.0   False   \n",
       "125217   optimal partition and effective dynamics of co...  2008.0   False   \n",
       "113255   a network based method for target selection in...  2007.0   False   \n",
       "113358   synchronization and modularity in complex netw...  2007.0   False   \n",
       "125208   finding community structures in complex networ...  2007.0   False   \n",
       "124244         social network topology a bayesian approach  2007.0   False   \n",
       "122251   communicability graph and community structures...  2009.0   False   \n",
       "116908   effective algorithm for detecting community st...  2007.0   False   \n",
       "122244   improved community structure detection using a...  2009.0   False   \n",
       "116458               changing opinions in a changing world  2005.0   False   \n",
       "106526   modularity density of network community divisions  2009.0   False   \n",
       "119371   community structure in social and biological n...  2002.0    True   \n",
       "121705                  social network analysis a handbook  1991.0    True   \n",
       "2400979             the structure and dynamics of networks  2006.0   False   \n",
       "196561                       community detection in graphs  2010.0   False   \n",
       "111629      modularity and community structure in networks  2006.0    True   \n",
       "107210   fast algorithm for detecting community structu...  2004.0    True   \n",
       "124383   finding community structure in very large netw...  2004.0    True   \n",
       "112473   uncovering the overlapping community structure...  2005.0    True   \n",
       "1831985          social network analysis a handbook 2nd ed  2000.0   False   \n",
       "5634     scientific collaboration networks i network co...  2001.0   False   \n",
       "110089           detecting community structure in networks  2004.0    True   \n",
       "124225    defining and identifying communities in networks  2004.0    True   \n",
       "122090   finding community structure in networks using ...  2006.0    True   \n",
       "107789   self organization and identification of web co...  2002.0    True   \n",
       "122148   functional cartography of complex metabolic ne...  2005.0    True   \n",
       "120237                       analysis of weighted networks  2004.0    True   \n",
       "110123             resolution limit in community detection  2007.0    True   \n",
       "109525      subnetwork hierarchies of biochemical pathways  2003.0    True   \n",
       "112482   maps of random walks on complex networks revea...  2008.0    True   \n",
       "121695                         community structure in jazz  2003.0    True   \n",
       "1832291  a set of measures of centrality based upon bet...  2004.0   False   \n",
       "5640     computing communities in large networks using ...  2006.0   False   \n",
       "112405   hierarchical structure and the prediction of m...  2008.0    True   \n",
       "109485   detecting the overlapping and hierarchical com...  2009.0    True   \n",
       "122221   benchmark graphs for testing community detecti...  2008.0    True   \n",
       "110985   community structure in large networks natural ...  2009.0    True   \n",
       "108857   link communities reveal multiscale complexity ...  2010.0    True   \n",
       "\n",
       "         avg_distance_to_train  \n",
       "107272                0.611111  \n",
       "110154                0.611111  \n",
       "109495                0.611111  \n",
       "114759                0.611111  \n",
       "110902                0.611111  \n",
       "107228                0.611111  \n",
       "109443                0.611111  \n",
       "118641                0.611111  \n",
       "123223                0.611111  \n",
       "106490                0.611111  \n",
       "114126                0.611111  \n",
       "107807                0.611111  \n",
       "110980                0.611111  \n",
       "125217                0.611111  \n",
       "113255                0.611111  \n",
       "113358                0.611111  \n",
       "125208                0.611111  \n",
       "124244                0.611111  \n",
       "122251                0.611111  \n",
       "116908                0.611111  \n",
       "122244                0.611111  \n",
       "116458                0.611111  \n",
       "106526                0.611111  \n",
       "119371                0.616111  \n",
       "121705                0.616111  \n",
       "2400979               0.616111  \n",
       "196561                0.616111  \n",
       "111629                0.616111  \n",
       "107210                0.616111  \n",
       "124383                0.616111  \n",
       "112473                0.616111  \n",
       "1831985               0.616111  \n",
       "5634                  0.616111  \n",
       "110089                0.616111  \n",
       "124225                0.616111  \n",
       "122090                0.616111  \n",
       "107789                0.616111  \n",
       "122148                0.616111  \n",
       "120237                0.616111  \n",
       "110123                0.616111  \n",
       "109525                0.616111  \n",
       "112482                0.616111  \n",
       "121695                0.616111  \n",
       "1832291               0.616111  \n",
       "5640                  0.616111  \n",
       "112405                0.616111  \n",
       "109485                0.616111  \n",
       "122221                0.616111  \n",
       "110985                0.616111  \n",
       "108857                0.616111  "
      ]
     },
     "execution_count": 18,
     "metadata": {},
     "output_type": "execute_result"
    }
   ],
   "source": [
    "test_papers_df.sort_values(['avg_distance_to_train', 'EF'], ascending=[True, False]).head(50)"
   ]
  },
  {
   "cell_type": "code",
   "execution_count": 19,
   "metadata": {},
   "outputs": [
    {
     "data": {
      "text/html": [
       "<div>\n",
       "<style scoped>\n",
       "    .dataframe tbody tr th:only-of-type {\n",
       "        vertical-align: middle;\n",
       "    }\n",
       "\n",
       "    .dataframe tbody tr th {\n",
       "        vertical-align: top;\n",
       "    }\n",
       "\n",
       "    .dataframe thead th {\n",
       "        text-align: right;\n",
       "    }\n",
       "</style>\n",
       "<table border=\"1\" class=\"dataframe\">\n",
       "  <thead>\n",
       "    <tr style=\"text-align: right;\">\n",
       "      <th></th>\n",
       "      <th>target</th>\n",
       "      <th>False</th>\n",
       "      <th>True</th>\n",
       "    </tr>\n",
       "  </thead>\n",
       "  <tbody>\n",
       "    <tr>\n",
       "      <th rowspan=\"8\" valign=\"top\">EF</th>\n",
       "      <th>count</th>\n",
       "      <td>2.612894e+06</td>\n",
       "      <td>3.970000e+02</td>\n",
       "    </tr>\n",
       "    <tr>\n",
       "      <th>mean</th>\n",
       "      <td>3.942335e-08</td>\n",
       "      <td>9.342797e-07</td>\n",
       "    </tr>\n",
       "    <tr>\n",
       "      <th>std</th>\n",
       "      <td>3.210841e-07</td>\n",
       "      <td>2.630972e-06</td>\n",
       "    </tr>\n",
       "    <tr>\n",
       "      <th>min</th>\n",
       "      <td>5.434740e-09</td>\n",
       "      <td>7.338580e-09</td>\n",
       "    </tr>\n",
       "    <tr>\n",
       "      <th>25%</th>\n",
       "      <td>5.717760e-09</td>\n",
       "      <td>2.819180e-08</td>\n",
       "    </tr>\n",
       "    <tr>\n",
       "      <th>50%</th>\n",
       "      <td>7.594130e-09</td>\n",
       "      <td>9.191400e-08</td>\n",
       "    </tr>\n",
       "    <tr>\n",
       "      <th>75%</th>\n",
       "      <td>1.667440e-08</td>\n",
       "      <td>4.857660e-07</td>\n",
       "    </tr>\n",
       "    <tr>\n",
       "      <th>max</th>\n",
       "      <td>1.716360e-04</td>\n",
       "      <td>2.707530e-05</td>\n",
       "    </tr>\n",
       "    <tr>\n",
       "      <th rowspan=\"8\" valign=\"top\">avg_distance_to_train</th>\n",
       "      <th>count</th>\n",
       "      <td>2.612894e+06</td>\n",
       "      <td>3.970000e+02</td>\n",
       "    </tr>\n",
       "    <tr>\n",
       "      <th>mean</th>\n",
       "      <td>9.971833e-01</td>\n",
       "      <td>8.228729e-01</td>\n",
       "    </tr>\n",
       "    <tr>\n",
       "      <th>std</th>\n",
       "      <td>2.735958e-02</td>\n",
       "      <td>1.772978e-01</td>\n",
       "    </tr>\n",
       "    <tr>\n",
       "      <th>min</th>\n",
       "      <td>6.111111e-01</td>\n",
       "      <td>6.161111e-01</td>\n",
       "    </tr>\n",
       "    <tr>\n",
       "      <th>25%</th>\n",
       "      <td>1.000000e+00</td>\n",
       "      <td>6.161111e-01</td>\n",
       "    </tr>\n",
       "    <tr>\n",
       "      <th>50%</th>\n",
       "      <td>1.000000e+00</td>\n",
       "      <td>8.505556e-01</td>\n",
       "    </tr>\n",
       "    <tr>\n",
       "      <th>75%</th>\n",
       "      <td>1.000000e+00</td>\n",
       "      <td>1.000000e+00</td>\n",
       "    </tr>\n",
       "    <tr>\n",
       "      <th>max</th>\n",
       "      <td>1.000000e+00</td>\n",
       "      <td>1.000000e+00</td>\n",
       "    </tr>\n",
       "  </tbody>\n",
       "</table>\n",
       "</div>"
      ],
      "text/plain": [
       "target                              False         True \n",
       "EF                    count  2.612894e+06  3.970000e+02\n",
       "                      mean   3.942335e-08  9.342797e-07\n",
       "                      std    3.210841e-07  2.630972e-06\n",
       "                      min    5.434740e-09  7.338580e-09\n",
       "                      25%    5.717760e-09  2.819180e-08\n",
       "                      50%    7.594130e-09  9.191400e-08\n",
       "                      75%    1.667440e-08  4.857660e-07\n",
       "                      max    1.716360e-04  2.707530e-05\n",
       "avg_distance_to_train count  2.612894e+06  3.970000e+02\n",
       "                      mean   9.971833e-01  8.228729e-01\n",
       "                      std    2.735958e-02  1.772978e-01\n",
       "                      min    6.111111e-01  6.161111e-01\n",
       "                      25%    1.000000e+00  6.161111e-01\n",
       "                      50%    1.000000e+00  8.505556e-01\n",
       "                      75%    1.000000e+00  1.000000e+00\n",
       "                      max    1.000000e+00  1.000000e+00"
      ]
     },
     "execution_count": 19,
     "metadata": {},
     "output_type": "execute_result"
    }
   ],
   "source": [
    "test_papers_df.groupby('target')['EF', 'avg_distance_to_train'].describe().T"
   ]
  },
  {
   "cell_type": "code",
   "execution_count": 20,
   "metadata": {},
   "outputs": [],
   "source": [
    "import matplotlib.pyplot as plt"
   ]
  },
  {
   "cell_type": "code",
   "execution_count": 21,
   "metadata": {},
   "outputs": [],
   "source": [
    "%matplotlib inline"
   ]
  },
  {
   "cell_type": "code",
   "execution_count": 22,
   "metadata": {},
   "outputs": [],
   "source": [
    "from sklearn.linear_model import LogisticRegression\n",
    "from sklearn.model_selection import train_test_split"
   ]
  },
  {
   "cell_type": "code",
   "execution_count": 109,
   "metadata": {},
   "outputs": [],
   "source": [
    "X = test_papers_df[['EF', 'avg_distance_to_train']]\n",
    "y = test_papers_df['target']\n",
    "X_train, X_test, y_train, y_test = train_test_split(X, y, test_size=0.2, random_state=999)"
   ]
  },
  {
   "cell_type": "code",
   "execution_count": 110,
   "metadata": {},
   "outputs": [
    {
     "name": "stdout",
     "output_type": "stream",
     "text": [
      "6.36 seconds\n"
     ]
    }
   ],
   "source": [
    "start = timer()\n",
    "model = LogisticRegression()\n",
    "model.fit(X_train, y_train)\n",
    "print(format_timespan(timer()-start))"
   ]
  },
  {
   "cell_type": "code",
   "execution_count": 111,
   "metadata": {},
   "outputs": [
    {
     "data": {
      "text/plain": [
       "array([9.6134659e-05, 9.6134659e-05, 9.6134659e-05, ..., 9.6134659e-05,\n",
       "       9.6134659e-05, 9.6134659e-05])"
      ]
     },
     "execution_count": 111,
     "metadata": {},
     "output_type": "execute_result"
    }
   ],
   "source": [
    "# y_pred_proba = model.predict_proba(X_test)[:, 1]\n",
    "y_pred_proba = model.predict_proba(X)[:, 1]\n",
    "y_pred_proba"
   ]
  },
  {
   "cell_type": "code",
   "execution_count": 112,
   "metadata": {},
   "outputs": [
    {
     "data": {
      "text/plain": [
       "(2613291,)"
      ]
     },
     "execution_count": 112,
     "metadata": {},
     "output_type": "execute_result"
    }
   ],
   "source": [
    "y_pred_proba.shape"
   ]
  },
  {
   "cell_type": "code",
   "execution_count": 113,
   "metadata": {},
   "outputs": [
    {
     "data": {
      "text/html": [
       "<div>\n",
       "<style scoped>\n",
       "    .dataframe tbody tr th:only-of-type {\n",
       "        vertical-align: middle;\n",
       "    }\n",
       "\n",
       "    .dataframe tbody tr th {\n",
       "        vertical-align: top;\n",
       "    }\n",
       "\n",
       "    .dataframe thead th {\n",
       "        text-align: right;\n",
       "    }\n",
       "</style>\n",
       "<table border=\"1\" class=\"dataframe\">\n",
       "  <thead>\n",
       "    <tr style=\"text-align: right;\">\n",
       "      <th></th>\n",
       "      <th>EF</th>\n",
       "      <th>Paper_ID</th>\n",
       "      <th>cl</th>\n",
       "      <th>title</th>\n",
       "      <th>year</th>\n",
       "      <th>target</th>\n",
       "      <th>avg_distance_to_train</th>\n",
       "      <th>toplevel</th>\n",
       "      <th>cl_meta</th>\n",
       "      <th>meta_avg_distance_to_train</th>\n",
       "      <th>pred_ranks</th>\n",
       "    </tr>\n",
       "  </thead>\n",
       "  <tbody>\n",
       "    <tr>\n",
       "      <th>107272</th>\n",
       "      <td>1.992670e-06</td>\n",
       "      <td>2095293504</td>\n",
       "      <td>3372652:1:1:2</td>\n",
       "      <td>finding and evaluating community structure in ...</td>\n",
       "      <td>2004.0</td>\n",
       "      <td>False</td>\n",
       "      <td>0.611111</td>\n",
       "      <td>3372652</td>\n",
       "      <td>4:10:1</td>\n",
       "      <td>0.36</td>\n",
       "      <td>0.020683</td>\n",
       "    </tr>\n",
       "    <tr>\n",
       "      <th>110154</th>\n",
       "      <td>9.501080e-07</td>\n",
       "      <td>2131681506</td>\n",
       "      <td>3372652:1:1:9</td>\n",
       "      <td>fast unfolding of communities in large networks</td>\n",
       "      <td>2008.0</td>\n",
       "      <td>False</td>\n",
       "      <td>0.611111</td>\n",
       "      <td>3372652</td>\n",
       "      <td>4:10:1</td>\n",
       "      <td>0.36</td>\n",
       "      <td>0.020683</td>\n",
       "    </tr>\n",
       "    <tr>\n",
       "      <th>109495</th>\n",
       "      <td>8.579680e-07</td>\n",
       "      <td>2120043163</td>\n",
       "      <td>3372652:1:1:7</td>\n",
       "      <td>comparing community structure identification</td>\n",
       "      <td>2005.0</td>\n",
       "      <td>False</td>\n",
       "      <td>0.611111</td>\n",
       "      <td>3372652</td>\n",
       "      <td>4:10:1</td>\n",
       "      <td>0.36</td>\n",
       "      <td>0.020683</td>\n",
       "    </tr>\n",
       "    <tr>\n",
       "      <th>114759</th>\n",
       "      <td>3.484730e-07</td>\n",
       "      <td>2606584716</td>\n",
       "      <td>3372652:1:1:29</td>\n",
       "      <td>e mail as spectroscopy automated discovery of ...</td>\n",
       "      <td>2005.0</td>\n",
       "      <td>False</td>\n",
       "      <td>0.611111</td>\n",
       "      <td>3372652</td>\n",
       "      <td>4:10:1</td>\n",
       "      <td>0.36</td>\n",
       "      <td>0.020683</td>\n",
       "    </tr>\n",
       "    <tr>\n",
       "      <th>110902</th>\n",
       "      <td>8.711380e-08</td>\n",
       "      <td>2139818818</td>\n",
       "      <td>3372652:1:1:55</td>\n",
       "      <td>mixture models and exploratory analysis in net...</td>\n",
       "      <td>2007.0</td>\n",
       "      <td>False</td>\n",
       "      <td>0.611111</td>\n",
       "      <td>3372652</td>\n",
       "      <td>4:10:1</td>\n",
       "      <td>0.36</td>\n",
       "      <td>0.020683</td>\n",
       "    </tr>\n",
       "    <tr>\n",
       "      <th>107228</th>\n",
       "      <td>8.128820e-08</td>\n",
       "      <td>2091202730</td>\n",
       "      <td>3372652:1:1:52</td>\n",
       "      <td>detect overlapping and hierarchical community ...</td>\n",
       "      <td>2009.0</td>\n",
       "      <td>False</td>\n",
       "      <td>0.611111</td>\n",
       "      <td>3372652</td>\n",
       "      <td>4:10:1</td>\n",
       "      <td>0.36</td>\n",
       "      <td>0.020683</td>\n",
       "    </tr>\n",
       "    <tr>\n",
       "      <th>109443</th>\n",
       "      <td>6.873940e-08</td>\n",
       "      <td>2117526408</td>\n",
       "      <td>3372652:1:1:68</td>\n",
       "      <td>towards real time community detection in large...</td>\n",
       "      <td>2009.0</td>\n",
       "      <td>False</td>\n",
       "      <td>0.611111</td>\n",
       "      <td>3372652</td>\n",
       "      <td>4:10:1</td>\n",
       "      <td>0.36</td>\n",
       "      <td>0.020683</td>\n",
       "    </tr>\n",
       "    <tr>\n",
       "      <th>118641</th>\n",
       "      <td>2.728230e-08</td>\n",
       "      <td>1967752035</td>\n",
       "      <td>3372652:1:1:148</td>\n",
       "      <td>finding instabilities in the community structu...</td>\n",
       "      <td>2005.0</td>\n",
       "      <td>False</td>\n",
       "      <td>0.611111</td>\n",
       "      <td>3372652</td>\n",
       "      <td>4:10:1</td>\n",
       "      <td>0.36</td>\n",
       "      <td>0.020683</td>\n",
       "    </tr>\n",
       "    <tr>\n",
       "      <th>123223</th>\n",
       "      <td>2.550930e-08</td>\n",
       "      <td>2033507223</td>\n",
       "      <td>3372652:1:1:128</td>\n",
       "      <td>quantifying and identifying the overlapping co...</td>\n",
       "      <td>2009.0</td>\n",
       "      <td>False</td>\n",
       "      <td>0.611111</td>\n",
       "      <td>3372652</td>\n",
       "      <td>4:10:1</td>\n",
       "      <td>0.36</td>\n",
       "      <td>0.020683</td>\n",
       "    </tr>\n",
       "    <tr>\n",
       "      <th>106490</th>\n",
       "      <td>2.393100e-08</td>\n",
       "      <td>2069629462</td>\n",
       "      <td>3372652:1:1:170</td>\n",
       "      <td>comparison and validation of community structu...</td>\n",
       "      <td>2006.0</td>\n",
       "      <td>False</td>\n",
       "      <td>0.611111</td>\n",
       "      <td>3372652</td>\n",
       "      <td>4:10:1</td>\n",
       "      <td>0.36</td>\n",
       "      <td>0.020683</td>\n",
       "    </tr>\n",
       "    <tr>\n",
       "      <th>114126</th>\n",
       "      <td>2.355810e-08</td>\n",
       "      <td>2171059110</td>\n",
       "      <td>3372652:1:1:205</td>\n",
       "      <td>community structure in the united states house...</td>\n",
       "      <td>2007.0</td>\n",
       "      <td>False</td>\n",
       "      <td>0.611111</td>\n",
       "      <td>3372652</td>\n",
       "      <td>4:10:1</td>\n",
       "      <td>0.36</td>\n",
       "      <td>0.020683</td>\n",
       "    </tr>\n",
       "    <tr>\n",
       "      <th>107807</th>\n",
       "      <td>2.333670e-08</td>\n",
       "      <td>2103094896</td>\n",
       "      <td>3372652:1:1:266</td>\n",
       "      <td>community structure in congressional cosponsor...</td>\n",
       "      <td>2008.0</td>\n",
       "      <td>False</td>\n",
       "      <td>0.611111</td>\n",
       "      <td>3372652</td>\n",
       "      <td>4:10:1</td>\n",
       "      <td>0.36</td>\n",
       "      <td>0.020683</td>\n",
       "    </tr>\n",
       "    <tr>\n",
       "      <th>110980</th>\n",
       "      <td>2.128610e-08</td>\n",
       "      <td>2146057107</td>\n",
       "      <td>3372652:1:1:330</td>\n",
       "      <td>on the np completeness of some graph cluster m...</td>\n",
       "      <td>2006.0</td>\n",
       "      <td>False</td>\n",
       "      <td>0.611111</td>\n",
       "      <td>3372652</td>\n",
       "      <td>4:10:1</td>\n",
       "      <td>0.36</td>\n",
       "      <td>0.020683</td>\n",
       "    </tr>\n",
       "    <tr>\n",
       "      <th>125217</th>\n",
       "      <td>1.892030e-08</td>\n",
       "      <td>2052898451</td>\n",
       "      <td>3372652:1:1:234</td>\n",
       "      <td>optimal partition and effective dynamics of co...</td>\n",
       "      <td>2008.0</td>\n",
       "      <td>False</td>\n",
       "      <td>0.611111</td>\n",
       "      <td>3372652</td>\n",
       "      <td>4:10:1</td>\n",
       "      <td>0.36</td>\n",
       "      <td>0.020683</td>\n",
       "    </tr>\n",
       "    <tr>\n",
       "      <th>113255</th>\n",
       "      <td>1.862940e-08</td>\n",
       "      <td>2167065750</td>\n",
       "      <td>3372652:1:1:343</td>\n",
       "      <td>a network based method for target selection in...</td>\n",
       "      <td>2007.0</td>\n",
       "      <td>False</td>\n",
       "      <td>0.611111</td>\n",
       "      <td>3372652</td>\n",
       "      <td>4:10:1</td>\n",
       "      <td>0.36</td>\n",
       "      <td>0.020683</td>\n",
       "    </tr>\n",
       "    <tr>\n",
       "      <th>113358</th>\n",
       "      <td>1.704290e-08</td>\n",
       "      <td>2170768441</td>\n",
       "      <td>3372652:1:1:219</td>\n",
       "      <td>synchronization and modularity in complex netw...</td>\n",
       "      <td>2007.0</td>\n",
       "      <td>False</td>\n",
       "      <td>0.611111</td>\n",
       "      <td>3372652</td>\n",
       "      <td>4:10:1</td>\n",
       "      <td>0.36</td>\n",
       "      <td>0.020683</td>\n",
       "    </tr>\n",
       "    <tr>\n",
       "      <th>125208</th>\n",
       "      <td>1.608180e-08</td>\n",
       "      <td>2051741861</td>\n",
       "      <td>3372652:1:1:203</td>\n",
       "      <td>finding community structures in complex networ...</td>\n",
       "      <td>2007.0</td>\n",
       "      <td>False</td>\n",
       "      <td>0.611111</td>\n",
       "      <td>3372652</td>\n",
       "      <td>4:10:1</td>\n",
       "      <td>0.36</td>\n",
       "      <td>0.020683</td>\n",
       "    </tr>\n",
       "    <tr>\n",
       "      <th>124244</th>\n",
       "      <td>1.604080e-08</td>\n",
       "      <td>2041414850</td>\n",
       "      <td>3372652:1:1:544</td>\n",
       "      <td>social network topology a bayesian approach</td>\n",
       "      <td>2007.0</td>\n",
       "      <td>False</td>\n",
       "      <td>0.611111</td>\n",
       "      <td>3372652</td>\n",
       "      <td>4:10:1</td>\n",
       "      <td>0.36</td>\n",
       "      <td>0.020683</td>\n",
       "    </tr>\n",
       "    <tr>\n",
       "      <th>122251</th>\n",
       "      <td>1.597520e-08</td>\n",
       "      <td>2024529797</td>\n",
       "      <td>3372652:1:1:262</td>\n",
       "      <td>communicability graph and community structures...</td>\n",
       "      <td>2009.0</td>\n",
       "      <td>False</td>\n",
       "      <td>0.611111</td>\n",
       "      <td>3372652</td>\n",
       "      <td>4:10:1</td>\n",
       "      <td>0.36</td>\n",
       "      <td>0.020683</td>\n",
       "    </tr>\n",
       "    <tr>\n",
       "      <th>116908</th>\n",
       "      <td>1.546510e-08</td>\n",
       "      <td>1539854304</td>\n",
       "      <td>3372652:1:1:236</td>\n",
       "      <td>effective algorithm for detecting community st...</td>\n",
       "      <td>2007.0</td>\n",
       "      <td>False</td>\n",
       "      <td>0.611111</td>\n",
       "      <td>3372652</td>\n",
       "      <td>4:10:1</td>\n",
       "      <td>0.36</td>\n",
       "      <td>0.020683</td>\n",
       "    </tr>\n",
       "  </tbody>\n",
       "</table>\n",
       "</div>"
      ],
      "text/plain": [
       "                  EF    Paper_ID               cl  \\\n",
       "107272  1.992670e-06  2095293504    3372652:1:1:2   \n",
       "110154  9.501080e-07  2131681506    3372652:1:1:9   \n",
       "109495  8.579680e-07  2120043163    3372652:1:1:7   \n",
       "114759  3.484730e-07  2606584716   3372652:1:1:29   \n",
       "110902  8.711380e-08  2139818818   3372652:1:1:55   \n",
       "107228  8.128820e-08  2091202730   3372652:1:1:52   \n",
       "109443  6.873940e-08  2117526408   3372652:1:1:68   \n",
       "118641  2.728230e-08  1967752035  3372652:1:1:148   \n",
       "123223  2.550930e-08  2033507223  3372652:1:1:128   \n",
       "106490  2.393100e-08  2069629462  3372652:1:1:170   \n",
       "114126  2.355810e-08  2171059110  3372652:1:1:205   \n",
       "107807  2.333670e-08  2103094896  3372652:1:1:266   \n",
       "110980  2.128610e-08  2146057107  3372652:1:1:330   \n",
       "125217  1.892030e-08  2052898451  3372652:1:1:234   \n",
       "113255  1.862940e-08  2167065750  3372652:1:1:343   \n",
       "113358  1.704290e-08  2170768441  3372652:1:1:219   \n",
       "125208  1.608180e-08  2051741861  3372652:1:1:203   \n",
       "124244  1.604080e-08  2041414850  3372652:1:1:544   \n",
       "122251  1.597520e-08  2024529797  3372652:1:1:262   \n",
       "116908  1.546510e-08  1539854304  3372652:1:1:236   \n",
       "\n",
       "                                                    title    year  target  \\\n",
       "107272  finding and evaluating community structure in ...  2004.0   False   \n",
       "110154    fast unfolding of communities in large networks  2008.0   False   \n",
       "109495       comparing community structure identification  2005.0   False   \n",
       "114759  e mail as spectroscopy automated discovery of ...  2005.0   False   \n",
       "110902  mixture models and exploratory analysis in net...  2007.0   False   \n",
       "107228  detect overlapping and hierarchical community ...  2009.0   False   \n",
       "109443  towards real time community detection in large...  2009.0   False   \n",
       "118641  finding instabilities in the community structu...  2005.0   False   \n",
       "123223  quantifying and identifying the overlapping co...  2009.0   False   \n",
       "106490  comparison and validation of community structu...  2006.0   False   \n",
       "114126  community structure in the united states house...  2007.0   False   \n",
       "107807  community structure in congressional cosponsor...  2008.0   False   \n",
       "110980  on the np completeness of some graph cluster m...  2006.0   False   \n",
       "125217  optimal partition and effective dynamics of co...  2008.0   False   \n",
       "113255  a network based method for target selection in...  2007.0   False   \n",
       "113358  synchronization and modularity in complex netw...  2007.0   False   \n",
       "125208  finding community structures in complex networ...  2007.0   False   \n",
       "124244        social network topology a bayesian approach  2007.0   False   \n",
       "122251  communicability graph and community structures...  2009.0   False   \n",
       "116908  effective algorithm for detecting community st...  2007.0   False   \n",
       "\n",
       "        avg_distance_to_train  toplevel cl_meta  meta_avg_distance_to_train  \\\n",
       "107272               0.611111   3372652  4:10:1                        0.36   \n",
       "110154               0.611111   3372652  4:10:1                        0.36   \n",
       "109495               0.611111   3372652  4:10:1                        0.36   \n",
       "114759               0.611111   3372652  4:10:1                        0.36   \n",
       "110902               0.611111   3372652  4:10:1                        0.36   \n",
       "107228               0.611111   3372652  4:10:1                        0.36   \n",
       "109443               0.611111   3372652  4:10:1                        0.36   \n",
       "118641               0.611111   3372652  4:10:1                        0.36   \n",
       "123223               0.611111   3372652  4:10:1                        0.36   \n",
       "106490               0.611111   3372652  4:10:1                        0.36   \n",
       "114126               0.611111   3372652  4:10:1                        0.36   \n",
       "107807               0.611111   3372652  4:10:1                        0.36   \n",
       "110980               0.611111   3372652  4:10:1                        0.36   \n",
       "125217               0.611111   3372652  4:10:1                        0.36   \n",
       "113255               0.611111   3372652  4:10:1                        0.36   \n",
       "113358               0.611111   3372652  4:10:1                        0.36   \n",
       "125208               0.611111   3372652  4:10:1                        0.36   \n",
       "124244               0.611111   3372652  4:10:1                        0.36   \n",
       "122251               0.611111   3372652  4:10:1                        0.36   \n",
       "116908               0.611111   3372652  4:10:1                        0.36   \n",
       "\n",
       "        pred_ranks  \n",
       "107272    0.020683  \n",
       "110154    0.020683  \n",
       "109495    0.020683  \n",
       "114759    0.020683  \n",
       "110902    0.020683  \n",
       "107228    0.020683  \n",
       "109443    0.020683  \n",
       "118641    0.020683  \n",
       "123223    0.020683  \n",
       "106490    0.020683  \n",
       "114126    0.020683  \n",
       "107807    0.020683  \n",
       "110980    0.020683  \n",
       "125217    0.020683  \n",
       "113255    0.020683  \n",
       "113358    0.020683  \n",
       "125208    0.020683  \n",
       "124244    0.020683  \n",
       "122251    0.020683  \n",
       "116908    0.020683  "
      ]
     },
     "execution_count": 113,
     "metadata": {},
     "output_type": "execute_result"
    }
   ],
   "source": [
    "pred_ranks = pd.Series(y_pred_proba, index=X.index, name='pred_ranks')\n",
    "test_papers_df.join(pred_ranks).sort_values('pred_ranks', ascending=False).head(20)"
   ]
  },
  {
   "cell_type": "code",
   "execution_count": 114,
   "metadata": {},
   "outputs": [
    {
     "data": {
      "text/plain": [
       "2613291"
      ]
     },
     "execution_count": 114,
     "metadata": {},
     "output_type": "execute_result"
    }
   ],
   "source": [
    "len(test_papers_df)"
   ]
  },
  {
   "cell_type": "code",
   "execution_count": 115,
   "metadata": {},
   "outputs": [],
   "source": [
    "top_predictions = test_papers_df.join(pred_ranks).sort_values('pred_ranks', ascending=False).head(len(target_papers_df))"
   ]
  },
  {
   "cell_type": "code",
   "execution_count": 116,
   "metadata": {},
   "outputs": [
    {
     "data": {
      "text/plain": [
       "target\n",
       "False    289\n",
       "True     108\n",
       "Name: Paper_ID, dtype: int64"
      ]
     },
     "execution_count": 116,
     "metadata": {},
     "output_type": "execute_result"
    }
   ],
   "source": [
    "top_predictions.groupby('target')['Paper_ID'].count()"
   ]
  },
  {
   "cell_type": "code",
   "execution_count": 31,
   "metadata": {},
   "outputs": [
    {
     "data": {
      "text/plain": [
       "0.019324026327554075"
      ]
     },
     "execution_count": 31,
     "metadata": {},
     "output_type": "execute_result"
    }
   ],
   "source": [
    "top_predictions.pred_ranks.min()"
   ]
  },
  {
   "cell_type": "code",
   "execution_count": 132,
   "metadata": {},
   "outputs": [
    {
     "data": {
      "text/plain": [
       "2613291"
      ]
     },
     "execution_count": 132,
     "metadata": {},
     "output_type": "execute_result"
    }
   ],
   "source": [
    "all_predictions = test_papers_df.join(pred_ranks).sort_values('pred_ranks', ascending=False)\n",
    "len(all_predictions)"
   ]
  },
  {
   "cell_type": "code",
   "execution_count": 134,
   "metadata": {},
   "outputs": [],
   "source": [
    "# fortunate paper was published in 2010\n",
    "all_predictions = all_predictions[all_predictions.year<=2010]"
   ]
  },
  {
   "cell_type": "code",
   "execution_count": 135,
   "metadata": {},
   "outputs": [],
   "source": [
    "all_predictions.reset_index(drop=True, inplace=True)"
   ]
  },
  {
   "cell_type": "code",
   "execution_count": 136,
   "metadata": {},
   "outputs": [
    {
     "data": {
      "text/plain": [
       "target\n",
       "False    270\n",
       "True     127\n",
       "Name: Paper_ID, dtype: int64"
      ]
     },
     "execution_count": 136,
     "metadata": {},
     "output_type": "execute_result"
    }
   ],
   "source": [
    "all_predictions.head(len(target_papers_df)).groupby('target')['Paper_ID'].count()"
   ]
  },
  {
   "cell_type": "code",
   "execution_count": 137,
   "metadata": {},
   "outputs": [
    {
     "data": {
      "text/plain": [
       "1521097"
      ]
     },
     "execution_count": 137,
     "metadata": {},
     "output_type": "execute_result"
    }
   ],
   "source": [
    "len(all_predictions)"
   ]
  },
  {
   "cell_type": "code",
   "execution_count": 139,
   "metadata": {},
   "outputs": [],
   "source": [
    "target_indices = all_predictions[all_predictions.target==True].index"
   ]
  },
  {
   "cell_type": "code",
   "execution_count": 170,
   "metadata": {},
   "outputs": [
    {
     "name": "stdout",
     "output_type": "stream",
     "text": [
      "total count of predictions: 1521097\n",
      "median: 8065.0\n"
     ]
    },
    {
     "data": {
      "text/plain": [
       "count        393\n",
       "mean       89171\n",
       "std       173981\n",
       "min           23\n",
       "25%          273\n",
       "50%         8065\n",
       "75%        85119\n",
       "max      1129715\n",
       "dtype: int64"
      ]
     },
     "execution_count": 170,
     "metadata": {},
     "output_type": "execute_result"
    }
   ],
   "source": [
    "print(\"total count of predictions: {}\".format(len(all_predictions)))\n",
    "print(\"median: \" + str(pd.Series(target_indices).median()))\n",
    "pd.Series(target_indices).describe().astype(int)"
   ]
  },
  {
   "cell_type": "code",
   "execution_count": 149,
   "metadata": {},
   "outputs": [
    {
     "data": {
      "text/plain": [
       "{'bodies': [<matplotlib.collections.PolyCollection at 0x7f52b8780240>],\n",
       " 'cbars': <matplotlib.collections.LineCollection at 0x7f52b87808d0>,\n",
       " 'cmaxes': <matplotlib.collections.LineCollection at 0x7f52b8780198>,\n",
       " 'cmins': <matplotlib.collections.LineCollection at 0x7f52b8780668>}"
      ]
     },
     "execution_count": 149,
     "metadata": {},
     "output_type": "execute_result"
    },
    {
     "data": {
      "image/png": "[encoded data removed]",
      "text/plain": [
       "<Figure size 432x288 with 1 Axes>"
      ]
     },
     "metadata": {},
     "output_type": "display_data"
    }
   ],
   "source": [
    "plt.violinplot(target_indices)"
   ]
  },
  {
   "cell_type": "code",
   "execution_count": 163,
   "metadata": {},
   "outputs": [
    {
     "data": {
      "text/plain": [
       "{'bodies': [<matplotlib.collections.PolyCollection at 0x7f52b4118828>],\n",
       " 'cbars': <matplotlib.collections.LineCollection at 0x7f52b4118f98>,\n",
       " 'cmaxes': <matplotlib.collections.LineCollection at 0x7f52b4118780>,\n",
       " 'cmins': <matplotlib.collections.LineCollection at 0x7f52b4118cf8>}"
      ]
     },
     "execution_count": 163,
     "metadata": {},
     "output_type": "execute_result"
    },
    {
     "data": {
      "image/png": "[encoded data removed]",
      "text/plain": [
       "<Figure size 432x288 with 1 Axes>"
      ]
     },
     "metadata": {},
     "output_type": "display_data"
    }
   ],
   "source": [
    "plt.violinplot(target_indices[:-80])"
   ]
  },
  {
   "cell_type": "code",
   "execution_count": null,
   "metadata": {},
   "outputs": [],
   "source": []
  },
  {
   "cell_type": "code",
   "execution_count": null,
   "metadata": {},
   "outputs": [],
   "source": []
  },
  {
   "cell_type": "code",
   "execution_count": 32,
   "metadata": {},
   "outputs": [
    {
     "name": "stdout",
     "output_type": "stream",
     "text": [
      "4.23 seconds\n",
      "(2613291,)\n"
     ]
    },
    {
     "data": {
      "text/plain": [
       "target\n",
       "False    388\n",
       "True       9\n",
       "Name: Paper_ID, dtype: int64"
      ]
     },
     "execution_count": 32,
     "metadata": {},
     "output_type": "execute_result"
    }
   ],
   "source": [
    "# what if we only use pagerank?\n",
    "X = test_papers_df[['EF']]\n",
    "y = test_papers_df['target']\n",
    "X_train, X_test, y_train, y_test = train_test_split(X, y, test_size=0.2, random_state=999)\n",
    "\n",
    "start = timer()\n",
    "_model = LogisticRegression()\n",
    "_model.fit(X_train, y_train)\n",
    "print(format_timespan(timer()-start))\n",
    "\n",
    "# y_pred_proba = model.predict_proba(X_test)[:, 1]\n",
    "_y_pred_proba = _model.predict_proba(X)[:, 1]\n",
    "#y_pred_proba\n",
    "\n",
    "print(y_pred_proba.shape)\n",
    "\n",
    "_pred_ranks = pd.Series(_y_pred_proba, index=X.index, name='pred_ranks')\n",
    "#test_papers_df.join(_pred_ranks).sort_values('pred_ranks', ascending=False).head()\n",
    "\n",
    "\n",
    "\n",
    "_top_predictions = test_papers_df.join(_pred_ranks).sort_values('pred_ranks', ascending=False).head(len(target_papers_df))\n",
    "\n",
    "_top_predictions.groupby('target')['Paper_ID'].count()"
   ]
  },
  {
   "cell_type": "code",
   "execution_count": null,
   "metadata": {},
   "outputs": [],
   "source": []
  },
  {
   "cell_type": "code",
   "execution_count": 33,
   "metadata": {},
   "outputs": [
    {
     "name": "stdout",
     "output_type": "stream",
     "text": [
      "4.6 seconds\n",
      "(2613291,)\n"
     ]
    },
    {
     "data": {
      "text/plain": [
       "target\n",
       "False    377\n",
       "True      20\n",
       "Name: Paper_ID, dtype: int64"
      ]
     },
     "execution_count": 33,
     "metadata": {},
     "output_type": "execute_result"
    }
   ],
   "source": [
    "# what if we only use avg distance?\n",
    "X = test_papers_df[['avg_distance_to_train']]\n",
    "y = test_papers_df['target']\n",
    "X_train, X_test, y_train, y_test = train_test_split(X, y, test_size=0.2, random_state=999)\n",
    "\n",
    "start = timer()\n",
    "_model = LogisticRegression()\n",
    "_model.fit(X_train, y_train)\n",
    "print(format_timespan(timer()-start))\n",
    "\n",
    "# y_pred_proba = model.predict_proba(X_test)[:, 1]\n",
    "_y_pred_proba = _model.predict_proba(X)[:, 1]\n",
    "#y_pred_proba\n",
    "\n",
    "print(y_pred_proba.shape)\n",
    "\n",
    "_pred_ranks = pd.Series(_y_pred_proba, index=X.index, name='pred_ranks')\n",
    "#test_papers_df.join(_pred_ranks).sort_values('pred_ranks', ascending=False).head()\n",
    "\n",
    "\n",
    "\n",
    "_top_predictions = test_papers_df.join(_pred_ranks).sort_values('pred_ranks', ascending=False).head(len(target_papers_df))\n",
    "\n",
    "_top_predictions.groupby('target')['Paper_ID'].count()"
   ]
  },
  {
   "cell_type": "code",
   "execution_count": null,
   "metadata": {},
   "outputs": [],
   "source": []
  },
  {
   "cell_type": "code",
   "execution_count": null,
   "metadata": {},
   "outputs": [],
   "source": []
  },
  {
   "cell_type": "code",
   "execution_count": null,
   "metadata": {},
   "outputs": [],
   "source": []
  },
  {
   "cell_type": "code",
   "execution_count": null,
   "metadata": {},
   "outputs": [],
   "source": []
  },
  {
   "cell_type": "code",
   "execution_count": 34,
   "metadata": {},
   "outputs": [
    {
     "name": "stdout",
     "output_type": "stream",
     "text": [
      "2.39 seconds\n"
     ]
    }
   ],
   "source": [
    "start = timer()\n",
    "toplevels = test_papers_df.cl.apply(lambda x: x.split(\":\")[0])\n",
    "print(format_timespan(timer()-start))"
   ]
  },
  {
   "cell_type": "code",
   "execution_count": 55,
   "metadata": {},
   "outputs": [],
   "source": [
    "toplevels.name = 'toplevel'"
   ]
  },
  {
   "cell_type": "code",
   "execution_count": 37,
   "metadata": {},
   "outputs": [],
   "source": [
    "toplevels_set = set(toplevels)"
   ]
  },
  {
   "cell_type": "code",
   "execution_count": 46,
   "metadata": {},
   "outputs": [
    {
     "name": "stderr",
     "output_type": "stream",
     "text": [
      "/home/jporteno/code/autoreview/venv/lib/python3.5/site-packages/pymysql/cursors.py:165: Warning: (3170, \"Memory capacity of 8388608 bytes for 'range_optimizer_max_mem_size' exceeded. Range optimization was not done for this query.\")\n",
      "  result = self._query(query)\n"
     ]
    },
    {
     "name": "stdout",
     "output_type": "stream",
     "text": [
      "19.19 seconds\n"
     ]
    }
   ],
   "source": [
    "start = timer()\n",
    "tbl = db.tables['clusters_meta_tree']\n",
    "sq = tbl.select(tbl.c.toplevel_in_tree.in_(toplevels_set))\n",
    "# r = db.engine.execute(sq).fetchall()\n",
    "cl_meta = db.read_sql(sq)\n",
    "print(format_timespan(timer()-start))"
   ]
  },
  {
   "cell_type": "code",
   "execution_count": 50,
   "metadata": {},
   "outputs": [],
   "source": [
    "cl_meta = cl_meta.set_index('id')"
   ]
  },
  {
   "cell_type": "code",
   "execution_count": 82,
   "metadata": {},
   "outputs": [],
   "source": [
    "train_papers_df['toplevel'] = train_papers_df.cl.apply(lambda x: x.split(\":\")[0]).astype(int)"
   ]
  },
  {
   "cell_type": "code",
   "execution_count": 83,
   "metadata": {},
   "outputs": [],
   "source": [
    "meta_map = cl_meta.set_index('toplevel_in_tree').meta_cl"
   ]
  },
  {
   "cell_type": "code",
   "execution_count": 84,
   "metadata": {},
   "outputs": [],
   "source": [
    "train_papers_df['cl_meta'] = train_papers_df.toplevel.map(meta_map)"
   ]
  },
  {
   "cell_type": "code",
   "execution_count": 87,
   "metadata": {},
   "outputs": [],
   "source": [
    "test_papers_df['toplevel'] = toplevels.astype(int)\n",
    "test_papers_df['cl_meta'] = test_papers_df.toplevel.map(meta_map)"
   ]
  },
  {
   "cell_type": "code",
   "execution_count": 89,
   "metadata": {},
   "outputs": [
    {
     "name": "stdout",
     "output_type": "stream",
     "text": [
      "4 minutes and 10.75 seconds\n"
     ]
    }
   ],
   "source": [
    "start = timer()\n",
    "test_papers_df['meta_avg_distance_to_train'] = test_papers_df.cl_meta.apply(avg_distance, cl_group=train_papers_df.cl_meta.tolist())\n",
    "print(format_timespan(timer()-start))"
   ]
  },
  {
   "cell_type": "code",
   "execution_count": 94,
   "metadata": {},
   "outputs": [
    {
     "name": "stdout",
     "output_type": "stream",
     "text": [
      "6.54 seconds\n",
      "(2613291,)\n"
     ]
    },
    {
     "data": {
      "text/plain": [
       "target\n",
       "False    289\n",
       "True     108\n",
       "Name: Paper_ID, dtype: int64"
      ]
     },
     "execution_count": 94,
     "metadata": {},
     "output_type": "execute_result"
    }
   ],
   "source": [
    "# logistic regression including meta cl\n",
    "X = test_papers_df[['EF', 'avg_distance_to_train', 'meta_avg_distance_to_train']]\n",
    "y = test_papers_df['target']\n",
    "X_train, X_test, y_train, y_test = train_test_split(X, y, test_size=0.2, random_state=999)\n",
    "\n",
    "start = timer()\n",
    "model_meta = LogisticRegression()\n",
    "model_meta.fit(X_train, y_train)\n",
    "print(format_timespan(timer()-start))\n",
    "\n",
    "# y_pred_proba = model.predict_proba(X_test)[:, 1]\n",
    "y_pred_proba_meta = model_meta.predict_proba(X)[:, 1]\n",
    "#y_pred_proba\n",
    "\n",
    "print(y_pred_proba_meta.shape)\n",
    "\n",
    "pred_ranks_meta = pd.Series(y_pred_proba_meta, index=X.index, name='pred_ranks')\n",
    "#test_papers_df.join(_pred_ranks).sort_values('pred_ranks', ascending=False).head()\n",
    "\n",
    "\n",
    "\n",
    "top_predictions_meta = test_papers_df.join(pred_ranks_meta).sort_values('pred_ranks', ascending=False).head(len(target_papers_df))\n",
    "\n",
    "top_predictions_meta.groupby('target')['Paper_ID'].count()"
   ]
  },
  {
   "cell_type": "code",
   "execution_count": 105,
   "metadata": {
    "scrolled": true
   },
   "outputs": [
    {
     "name": "stdout",
     "output_type": "stream",
     "text": [
      "0.9553407108497369\n",
      "0.8686914172329787\n",
      "0.7952530679672806\n"
     ]
    }
   ],
   "source": [
    "from sklearn.metrics import roc_auc_score\n",
    "print(roc_auc_score(y, y_pred_proba))\n",
    "print(roc_auc_score(y, y_pred_proba_meta))\n",
    "print(roc_auc_score(y, _y_pred_proba))"
   ]
  }
 ],
 "metadata": {
  "kernelspec": {
   "display_name": "autoreview_venv",
   "language": "python",
   "name": "autoreview_venv"
  },
  "language_info": {
   "codemirror_mode": {
    "name": "ipython",
    "version": 3
   },
   "file_extension": ".py",
   "mimetype": "text/x-python",
   "name": "python",
   "nbconvert_exporter": "python",
   "pygments_lexer": "ipython3",
   "version": "3.5.2"
  }
 },
 "nbformat": 4,
 "nbformat_minor": 2
}
