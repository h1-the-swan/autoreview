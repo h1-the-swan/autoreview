{
 "cells": [
  {
   "cell_type": "code",
   "execution_count": 1,
   "metadata": {
    "collapsed": true
   },
   "outputs": [],
   "source": [
    "import sys, os, time\n",
    "import itertools\n",
    "from timeit import default_timer as timer\n",
    "from humanfriendly import format_timespan"
   ]
  },
  {
   "cell_type": "code",
   "execution_count": 2,
   "metadata": {
    "collapsed": true
   },
   "outputs": [],
   "source": [
    "from collections import Counter"
   ]
  },
  {
   "cell_type": "code",
   "execution_count": 3,
   "metadata": {
    "collapsed": true
   },
   "outputs": [],
   "source": [
    "import pandas as pd\n",
    "import numpy as np"
   ]
  },
  {
   "cell_type": "code",
   "execution_count": 4,
   "metadata": {},
   "outputs": [
    {
     "data": {
      "text/plain": [
       "True"
      ]
     },
     "execution_count": 4,
     "metadata": {},
     "output_type": "execute_result"
    }
   ],
   "source": [
    "from dotenv import load_dotenv\n",
    "load_dotenv('admin.env')"
   ]
  },
  {
   "cell_type": "code",
   "execution_count": 5,
   "metadata": {
    "collapsed": true
   },
   "outputs": [],
   "source": [
    "from db_connect_mag import Session, Paper, PaperAuthorAffiliation"
   ]
  },
  {
   "cell_type": "code",
   "execution_count": 6,
   "metadata": {
    "collapsed": true
   },
   "outputs": [],
   "source": [
    "session = Session()"
   ]
  },
  {
   "cell_type": "code",
   "execution_count": 7,
   "metadata": {},
   "outputs": [
    {
     "data": {
      "text/plain": [
       "'community detection in graphs'"
      ]
     },
     "execution_count": 7,
     "metadata": {},
     "output_type": "execute_result"
    }
   ],
   "source": [
    "# review paper on community detection in graphs\n",
    "review_paper_id = 2127048411\n",
    "review_paper = session.query(Paper).get(review_paper_id)\n",
    "review_paper.title"
   ]
  },
  {
   "cell_type": "code",
   "execution_count": 8,
   "metadata": {},
   "outputs": [
    {
     "name": "stdout",
     "output_type": "stream",
     "text": [
      "447\n"
     ]
    }
   ],
   "source": [
    "papers = [pr.paper_cited for pr in review_paper.paperrefs_citing]\n",
    "print(len(papers))"
   ]
  },
  {
   "cell_type": "code",
   "execution_count": 9,
   "metadata": {
    "collapsed": true
   },
   "outputs": [],
   "source": [
    "from sklearn.model_selection import train_test_split"
   ]
  },
  {
   "cell_type": "code",
   "execution_count": 10,
   "metadata": {
    "scrolled": true
   },
   "outputs": [
    {
     "name": "stderr",
     "output_type": "stream",
     "text": [
      "/home/jporteno/code/autoreview/venv/lib/python3.5/site-packages/sklearn/model_selection/_split.py:2026: FutureWarning: From version 0.21, test_size will always complement train_size unless both are specified.\n",
      "  FutureWarning)\n"
     ]
    }
   ],
   "source": [
    "train_papers, target_papers = train_test_split(papers, train_size=50, random_state=999)"
   ]
  },
  {
   "cell_type": "code",
   "execution_count": 11,
   "metadata": {
    "collapsed": true
   },
   "outputs": [],
   "source": [
    "target_papers = set(target_papers)"
   ]
  },
  {
   "cell_type": "code",
   "execution_count": 13,
   "metadata": {},
   "outputs": [
    {
     "data": {
      "text/plain": [
       "397"
      ]
     },
     "execution_count": 13,
     "metadata": {},
     "output_type": "execute_result"
    }
   ],
   "source": [
    "len(target_papers)"
   ]
  },
  {
   "cell_type": "code",
   "execution_count": 14,
   "metadata": {},
   "outputs": [
    {
     "name": "stdout",
     "output_type": "stream",
     "text": [
      "looping through 50 papers\n",
      "done with 1 papers. len(test_papers)==1031\n",
      "done with 2 papers. len(test_papers)==1100\n",
      "done with 3 papers. len(test_papers)==1408\n",
      "done with 4 papers. len(test_papers)==3121\n",
      "done with 5 papers. len(test_papers)==3172\n",
      "done with 6 papers. len(test_papers)==3323\n",
      "done with 7 papers. len(test_papers)==3379\n",
      "done with 8 papers. len(test_papers)==3401\n",
      "done with 9 papers. len(test_papers)==6800\n",
      "done with 10 papers. len(test_papers)==7966\n",
      "done with 11 papers. len(test_papers)==8034\n",
      "done with 12 papers. len(test_papers)==8065\n",
      "done with 13 papers. len(test_papers)==33110\n",
      "done with 14 papers. len(test_papers)==33198\n",
      "done with 15 papers. len(test_papers)==33203\n",
      "done with 16 papers. len(test_papers)==33392\n",
      "done with 17 papers. len(test_papers)==33434\n",
      "done with 18 papers. len(test_papers)==52126\n",
      "done with 19 papers. len(test_papers)==52530\n",
      "done with 20 papers. len(test_papers)==52632\n",
      "done with 21 papers. len(test_papers)==57916\n",
      "done with 22 papers. len(test_papers)==57938\n",
      "done with 23 papers. len(test_papers)==58006\n",
      "done with 24 papers. len(test_papers)==59074\n",
      "done with 25 papers. len(test_papers)==59553\n",
      "done with 26 papers. len(test_papers)==59570\n",
      "done with 27 papers. len(test_papers)==59639\n",
      "done with 28 papers. len(test_papers)==59687\n",
      "done with 29 papers. len(test_papers)==60927\n",
      "done with 30 papers. len(test_papers)==61430\n",
      "done with 31 papers. len(test_papers)==62324\n",
      "done with 32 papers. len(test_papers)==63284\n",
      "done with 33 papers. len(test_papers)==63563\n",
      "done with 34 papers. len(test_papers)==94932\n",
      "done with 35 papers. len(test_papers)==98133\n",
      "done with 36 papers. len(test_papers)==98134\n",
      "done with 37 papers. len(test_papers)==98153\n",
      "done with 38 papers. len(test_papers)==98288\n",
      "done with 39 papers. len(test_papers)==98298\n",
      "done with 40 papers. len(test_papers)==98326\n",
      "done with 41 papers. len(test_papers)==101075\n",
      "done with 42 papers. len(test_papers)==101314\n",
      "done with 43 papers. len(test_papers)==103039\n",
      "done with 44 papers. len(test_papers)==103283\n",
      "done with 45 papers. len(test_papers)==103307\n",
      "done with 46 papers. len(test_papers)==103346\n",
      "done with 47 papers. len(test_papers)==107307\n",
      "done with 48 papers. len(test_papers)==107331\n",
      "done with 49 papers. len(test_papers)==107533\n",
      "done with 50 papers. len(test_papers)==107626\n",
      "1 minute and 35.96 seconds\n",
      "107626\n"
     ]
    }
   ],
   "source": [
    "start = timer()\n",
    "test_papers = set()\n",
    "c = Counter()\n",
    "cur_papers = list(train_papers)\n",
    "print(\"looping through {} papers\".format(len(cur_papers)))\n",
    "for i, paper in enumerate(cur_papers):\n",
    "    for p in [pr.paper_cited for pr in paper.paperrefs_citing]:\n",
    "        c[p.Paper_ID] += 1\n",
    "        test_papers.add(p)\n",
    "    for p in [pr.paper_citing for pr in paper.paperrefs_cited]:\n",
    "        c[p.Paper_ID] += 1\n",
    "        test_papers.add(p)\n",
    "    print(\"done with {} papers. len(test_papers)=={}\".format(i+1, len(test_papers)))\n",
    "print(format_timespan(timer()-start))\n",
    "print(len(test_papers))"
   ]
  },
  {
   "cell_type": "code",
   "execution_count": 15,
   "metadata": {},
   "outputs": [
    {
     "data": {
      "text/plain": [
       "197"
      ]
     },
     "execution_count": 15,
     "metadata": {},
     "output_type": "execute_result"
    }
   ],
   "source": [
    "len(target_papers.intersection(test_papers))"
   ]
  },
  {
   "cell_type": "code",
   "execution_count": 19,
   "metadata": {
    "collapsed": true
   },
   "outputs": [],
   "source": [
    "def tree_distance(n1, n2, sep=\":\"):\n",
    "    # https://en.wikipedia.org/wiki/Lowest_common_ancestor\n",
    "    # the distance from v to w can be computed as \n",
    "    # the distance from the root to v, plus the distance from \n",
    "    # the root to w, minus twice the distance from \n",
    "    # the root to their lowest common ancestor\n",
    "    v, w = [n.split(sep) for n in [n1, n2]]\n",
    "    distance_root_to_v = len(v)\n",
    "    distance_root_to_w = len(w)\n",
    "    \n",
    "    distance_root_to_lca = 0\n",
    "    for i in range(min(distance_root_to_v, distance_root_to_w)):\n",
    "        if v[i] == w[i]:\n",
    "            distance_root_to_lca += 1\n",
    "        else:\n",
    "            break\n",
    "    return distance_root_to_v + distance_root_to_w - (2*distance_root_to_lca)\n",
    "    "
   ]
  },
  {
   "cell_type": "code",
   "execution_count": 20,
   "metadata": {
    "collapsed": true
   },
   "outputs": [],
   "source": [
    "def distances_two_groups(g1, g2):\n",
    "    distances = []\n",
    "    for n1 in g1:\n",
    "        for n2 in g2:\n",
    "            if n1 == n2:\n",
    "                continue\n",
    "            distances.append(tree_distance(n1, n2))\n",
    "    return distances"
   ]
  },
  {
   "cell_type": "code",
   "execution_count": 21,
   "metadata": {
    "collapsed": true
   },
   "outputs": [],
   "source": [
    "def describe_distances(g1, g2):\n",
    "    distances = distances_two_groups(g1, g2)\n",
    "    distances = pd.Series(distances)\n",
    "    return distances.describe()"
   ]
  },
  {
   "cell_type": "code",
   "execution_count": 23,
   "metadata": {},
   "outputs": [
    {
     "name": "stdout",
     "output_type": "stream",
     "text": [
      "4 minutes and 40.75 seconds\n",
      "107626\n"
     ]
    }
   ],
   "source": [
    "start = timer()\n",
    "clusters = [p.cl for p in test_papers if p.cl]\n",
    "print(format_timespan(timer()-start))\n",
    "print(len(clusters))"
   ]
  },
  {
   "cell_type": "code",
   "execution_count": 25,
   "metadata": {
    "collapsed": true
   },
   "outputs": [],
   "source": [
    "def avg_distance(cl, cl_group):\n",
    "    distances = []\n",
    "    for x in cl_group:\n",
    "        distances.append(tree_distance(cl, x))\n",
    "    return sum(distances) / len(distances)"
   ]
  },
  {
   "cell_type": "code",
   "execution_count": 28,
   "metadata": {},
   "outputs": [
    {
     "name": "stdout",
     "output_type": "stream",
     "text": [
      "107626 rows in 3 minutes and 3.93 seconds\n"
     ]
    }
   ],
   "source": [
    "start = timer()\n",
    "rows = []\n",
    "train_cls = [p.cl for p in train_papers if p.cl]\n",
    "for p in test_papers:\n",
    "    pid = p.Paper_ID\n",
    "    title = p.title\n",
    "    ef = p.EF\n",
    "    cl = p.cl\n",
    "    if cl:\n",
    "        avg_distance_to_train = avg_distance(cl, train_cls)\n",
    "    else:\n",
    "        avg_distance_to_train = None\n",
    "    rows.append({\n",
    "        'Paper_ID': pid,\n",
    "        'title': title,\n",
    "        'EF': ef,\n",
    "        'cl': cl,\n",
    "        'avg_distance_to_train': avg_distance_to_train\n",
    "    })\n",
    "print(\"{} rows in {}\".format(len(rows), format_timespan(timer()-start)))"
   ]
  },
  {
   "cell_type": "code",
   "execution_count": 37,
   "metadata": {
    "collapsed": true
   },
   "outputs": [],
   "source": [
    "df = pd.DataFrame(rows)"
   ]
  },
  {
   "cell_type": "code",
   "execution_count": 38,
   "metadata": {
    "collapsed": true
   },
   "outputs": [],
   "source": [
    "target_pids = set([p.Paper_ID for p in target_papers])"
   ]
  },
  {
   "cell_type": "code",
   "execution_count": 39,
   "metadata": {
    "collapsed": true
   },
   "outputs": [],
   "source": [
    "df['target'] = df.Paper_ID.apply(lambda x: x in target_pids)"
   ]
  },
  {
   "cell_type": "code",
   "execution_count": 40,
   "metadata": {
    "collapsed": true
   },
   "outputs": [],
   "source": [
    "df = df.sort_values('avg_distance_to_train').reset_index(drop=True)"
   ]
  },
  {
   "cell_type": "code",
   "execution_count": 45,
   "metadata": {},
   "outputs": [
    {
     "name": "stdout",
     "output_type": "stream",
     "text": [
      "5.591269035532995\n",
      "6.790269666477396\n"
     ]
    }
   ],
   "source": [
    "print(df[df.target==True].avg_distance_to_train.mean())\n",
    "print(df[df.target==False].avg_distance_to_train.mean())"
   ]
  },
  {
   "cell_type": "code",
   "execution_count": 46,
   "metadata": {},
   "outputs": [
    {
     "name": "stdout",
     "output_type": "stream",
     "text": [
      "9.313932740609136e-07\n",
      "2.2271047048469217e-08\n"
     ]
    }
   ],
   "source": [
    "print(df[df.target==True].EF.mean())\n",
    "print(df[df.target==False].EF.mean())"
   ]
  },
  {
   "cell_type": "code",
   "execution_count": 60,
   "metadata": {},
   "outputs": [
    {
     "name": "stdout",
     "output_type": "stream",
     "text": [
      "107626\n",
      "contains 197 target papers\n",
      "\n",
      "removing papers with EF<=5.43474e-09\n",
      "83008\n",
      "contains 197 target papers\n"
     ]
    }
   ],
   "source": [
    "print(len(df))\n",
    "print(\"contains {} target papers\".format(df.target.sum()))\n",
    "print(\"\")\n",
    "ef_thresh = df.EF.min()\n",
    "print(\"removing papers with EF<={}\".format(ef_thresh))\n",
    "subset = df[df.EF>ef_thresh]\n",
    "print(len(subset))\n",
    "print(\"contains {} target papers\".format(subset.target.sum()))"
   ]
  },
  {
   "cell_type": "code",
   "execution_count": 61,
   "metadata": {},
   "outputs": [
    {
     "name": "stdout",
     "output_type": "stream",
     "text": [
      "5.591269035532995\n",
      "6.813137868157614\n"
     ]
    }
   ],
   "source": [
    "print(subset[subset.target==True].avg_distance_to_train.mean())\n",
    "print(subset[subset.target==False].avg_distance_to_train.mean())"
   ]
  },
  {
   "cell_type": "code",
   "execution_count": 62,
   "metadata": {},
   "outputs": [
    {
     "name": "stdout",
     "output_type": "stream",
     "text": [
      "9.313932740609136e-07\n",
      "2.727613341283163e-08\n"
     ]
    }
   ],
   "source": [
    "print(subset[subset.target==True].EF.mean())\n",
    "print(subset[subset.target==False].EF.mean())"
   ]
  },
  {
   "cell_type": "code",
   "execution_count": 72,
   "metadata": {},
   "outputs": [
    {
     "data": {
      "text/plain": [
       "18156537"
      ]
     },
     "execution_count": 72,
     "metadata": {},
     "output_type": "execute_result"
    }
   ],
   "source": [
    "paper.paperrefs_cited[2].Paper_ID"
   ]
  },
  {
   "cell_type": "code",
   "execution_count": null,
   "metadata": {
    "collapsed": true
   },
   "outputs": [],
   "source": []
  },
  {
   "cell_type": "code",
   "execution_count": null,
   "metadata": {
    "collapsed": true
   },
   "outputs": [],
   "source": []
  },
  {
   "cell_type": "code",
   "execution_count": null,
   "metadata": {
    "collapsed": true
   },
   "outputs": [],
   "source": []
  },
  {
   "cell_type": "code",
   "execution_count": null,
   "metadata": {
    "collapsed": true
   },
   "outputs": [],
   "source": []
  },
  {
   "cell_type": "code",
   "execution_count": 31,
   "metadata": {},
   "outputs": [
    {
     "data": {
      "text/plain": [
       "447"
      ]
     },
     "execution_count": 31,
     "metadata": {},
     "output_type": "execute_result"
    }
   ],
   "source": [
    "cluster_addresses = [p.cl for p in papers]\n",
    "len(cluster_addresses)"
   ]
  },
  {
   "cell_type": "code",
   "execution_count": 39,
   "metadata": {
    "collapsed": true
   },
   "outputs": [],
   "source": [
    "distances_train_pairs = []\n",
    "train_clusters = [p.cl for p in train_papers]\n",
    "for n1, n2 in itertools.combinations(train_clusters, 2):\n",
    "    distances_train_pairs.append(tree_distance(n1, n2))"
   ]
  },
  {
   "cell_type": "code",
   "execution_count": 42,
   "metadata": {},
   "outputs": [
    {
     "data": {
      "text/plain": [
       "count    190.000000\n",
       "mean       6.552632\n",
       "std        2.154083\n",
       "min        2.000000\n",
       "25%        6.000000\n",
       "50%        7.000000\n",
       "75%        8.000000\n",
       "max       10.000000\n",
       "dtype: float64"
      ]
     },
     "execution_count": 42,
     "metadata": {},
     "output_type": "execute_result"
    }
   ],
   "source": [
    "distances_train_pairs = pd.Series(distances_train_pairs)\n",
    "distances_train_pairs.describe()"
   ]
  },
  {
   "cell_type": "code",
   "execution_count": 43,
   "metadata": {},
   "outputs": [
    {
     "name": "stdout",
     "output_type": "stream",
     "text": [
      "248211\n"
     ]
    }
   ],
   "source": [
    "journal_id = 137773608  # Nature\n",
    "nature_papers = session.query(Paper).filter_by(Journal_ID=journal_id).all()\n",
    "print(len(nature_papers))"
   ]
  },
  {
   "cell_type": "code",
   "execution_count": 55,
   "metadata": {},
   "outputs": [
    {
     "data": {
      "text/plain": [
       "137"
      ]
     },
     "execution_count": 55,
     "metadata": {},
     "output_type": "execute_result"
    }
   ],
   "source": [
    "nature_papers = pd.Series(nature_papers)\n",
    "nature_sample = nature_papers.sample(n=200, random_state=999)\n",
    "nature_samples_clusters = [p.cl for p in nature_sample if p.cl]\n",
    "len(nature_samples_clusters)"
   ]
  },
  {
   "cell_type": "code",
   "execution_count": 56,
   "metadata": {},
   "outputs": [
    {
     "data": {
      "text/plain": [
       "count    199362.000000\n",
       "mean          6.061837\n",
       "std           2.034215\n",
       "min           2.000000\n",
       "25%           5.000000\n",
       "50%           7.000000\n",
       "75%           7.000000\n",
       "max          10.000000\n",
       "dtype: float64"
      ]
     },
     "execution_count": 56,
     "metadata": {},
     "output_type": "execute_result"
    }
   ],
   "source": [
    "within_review_papers_distances = distances_two_groups(cluster_addresses, cluster_addresses)\n",
    "within_review_papers_distances = pd.Series(within_review_papers_distances)\n",
    "within_review_papers_distances.describe()"
   ]
  },
  {
   "cell_type": "code",
   "execution_count": 57,
   "metadata": {},
   "outputs": [
    {
     "data": {
      "text/plain": [
       "count    61239.000000\n",
       "mean         6.764856\n",
       "std          1.046019\n",
       "min          4.000000\n",
       "25%          6.000000\n",
       "50%          7.000000\n",
       "75%          7.000000\n",
       "max         10.000000\n",
       "dtype: float64"
      ]
     },
     "execution_count": 57,
     "metadata": {},
     "output_type": "execute_result"
    }
   ],
   "source": [
    "distances_review_to_nature = distances_two_groups(cluster_addresses, nature_samples_clusters)\n",
    "distances_review_to_nature = pd.Series(distances_review_to_nature)\n",
    "distances_review_to_nature.describe()"
   ]
  },
  {
   "cell_type": "code",
   "execution_count": 60,
   "metadata": {
    "collapsed": true
   },
   "outputs": [],
   "source": [
    "paas = session.query(PaperAuthorAffiliation).filter_by(Author_ID=2151641964).all()"
   ]
  },
  {
   "cell_type": "code",
   "execution_count": 64,
   "metadata": {},
   "outputs": [
    {
     "name": "stdout",
     "output_type": "stream",
     "text": [
      "289\n",
      "250\n"
     ]
    }
   ],
   "source": [
    "grinstaff_papers = [paa.paper for paa in paas if paa.paper]\n",
    "print(len(grinstaff_papers))\n",
    "grinstaff_clusters = [p.cl for p in grinstaff_papers if p.cl]\n",
    "print(len(grinstaff_clusters))"
   ]
  },
  {
   "cell_type": "code",
   "execution_count": 65,
   "metadata": {},
   "outputs": [
    {
     "data": {
      "text/plain": [
       "count    111750.000000\n",
       "mean          6.664564\n",
       "std           0.810777\n",
       "min           4.000000\n",
       "25%           6.000000\n",
       "50%           7.000000\n",
       "75%           7.000000\n",
       "max           9.000000\n",
       "dtype: float64"
      ]
     },
     "execution_count": 65,
     "metadata": {},
     "output_type": "execute_result"
    }
   ],
   "source": [
    "describe_distances(cluster_addresses, grinstaff_clusters)"
   ]
  },
  {
   "cell_type": "code",
   "execution_count": 70,
   "metadata": {},
   "outputs": [
    {
     "name": "stdout",
     "output_type": "stream",
     "text": [
      "67 records in 0 seconds\n",
      "67 papers\n",
      "63 clusters\n"
     ]
    }
   ],
   "source": [
    "start = timer()\n",
    "rosvall_paas = session.query(PaperAuthorAffiliation).filter_by(Author_ID=1999253335).all()\n",
    "print(\"{} records in {}\".format(len(rosvall_paas), format_timespan(timer()-start)))\n",
    "rosvall_papers = [paa.paper for paa in rosvall_paas if paa.paper]\n",
    "print(\"{} papers\".format(len(rosvall_papers)))\n",
    "rosvall_clusters = [p.cl for p in rosvall_papers if p.cl]\n",
    "print(\"{} clusters\".format(len(rosvall_clusters)))"
   ]
  },
  {
   "cell_type": "code",
   "execution_count": 71,
   "metadata": {},
   "outputs": [
    {
     "data": {
      "text/plain": [
       "count    28158.000000\n",
       "mean         5.940585\n",
       "std          1.965064\n",
       "min          2.000000\n",
       "25%          4.000000\n",
       "50%          7.000000\n",
       "75%          7.000000\n",
       "max         10.000000\n",
       "dtype: float64"
      ]
     },
     "execution_count": 71,
     "metadata": {},
     "output_type": "execute_result"
    }
   ],
   "source": [
    "describe_distances(cluster_addresses, rosvall_clusters)"
   ]
  },
  {
   "cell_type": "code",
   "execution_count": null,
   "metadata": {
    "collapsed": true
   },
   "outputs": [],
   "source": []
  }
 ],
 "metadata": {
  "kernelspec": {
   "display_name": "autoreview_venv",
   "language": "python",
   "name": "autoreview_venv"
  },
  "language_info": {
   "codemirror_mode": {
    "name": "ipython",
    "version": 3
   },
   "file_extension": ".py",
   "mimetype": "text/x-python",
   "name": "python",
   "nbconvert_exporter": "python",
   "pygments_lexer": "ipython3",
   "version": "3.5.2"
  }
 },
 "nbformat": 4,
 "nbformat_minor": 2
}
