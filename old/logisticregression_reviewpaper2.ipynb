{
 "cells": [
  {
   "cell_type": "code",
   "execution_count": 1,
   "metadata": {},
   "outputs": [],
   "source": [
    "import sys, os, time, pickle\n",
    "from timeit import default_timer as timer\n",
    "from humanfriendly import format_timespan"
   ]
  },
  {
   "cell_type": "code",
   "execution_count": 2,
   "metadata": {},
   "outputs": [],
   "source": [
    "import pandas as pd\n",
    "import numpy as np"
   ]
  },
  {
   "cell_type": "code",
   "execution_count": 3,
   "metadata": {},
   "outputs": [
    {
     "data": {
      "text/plain": [
       "True"
      ]
     },
     "execution_count": 3,
     "metadata": {},
     "output_type": "execute_result"
    }
   ],
   "source": [
    "from dotenv import load_dotenv\n",
    "load_dotenv('admin.env')"
   ]
  },
  {
   "cell_type": "code",
   "execution_count": 4,
   "metadata": {},
   "outputs": [],
   "source": [
    "from db_connect_mag import Session, Paper, PaperAuthorAffiliation, db"
   ]
  },
  {
   "cell_type": "code",
   "execution_count": 5,
   "metadata": {},
   "outputs": [
    {
     "name": "stdout",
     "output_type": "stream",
     "text": [
      "0.49 seconds\n"
     ]
    }
   ],
   "source": [
    "# review paper about machine learning with imbalanced datasets\n",
    "start = timer()\n",
    "test_papers_df = pd.read_pickle('data/collect_haystack_2490420619/test_papers.pickle')\n",
    "target_papers_df = pd.read_pickle('data/collect_haystack_2490420619/target_papers.pickle')\n",
    "train_papers_df = pd.read_pickle('data/collect_haystack_2490420619/train_papers.pickle')\n",
    "print(format_timespan(timer()-start))"
   ]
  },
  {
   "cell_type": "code",
   "execution_count": 6,
   "metadata": {},
   "outputs": [],
   "source": [
    "with open('data/collect_haystack_2490420619/counter.pickle', 'rb') as f:\n",
    "    c = pickle.load(f)"
   ]
  },
  {
   "cell_type": "code",
   "execution_count": 7,
   "metadata": {},
   "outputs": [
    {
     "data": {
      "text/plain": [
       "193"
      ]
     },
     "execution_count": 7,
     "metadata": {},
     "output_type": "execute_result"
    }
   ],
   "source": [
    "def get_target_in_test(test, target, id_colname='Paper_ID'):\n",
    "    return set.intersection(set(test[id_colname]), set(target[id_colname]))\n",
    "len(get_target_in_test(test_papers_df, target_papers_df))"
   ]
  },
  {
   "cell_type": "code",
   "execution_count": 8,
   "metadata": {},
   "outputs": [
    {
     "data": {
      "text/plain": [
       "193"
      ]
     },
     "execution_count": 8,
     "metadata": {},
     "output_type": "execute_result"
    }
   ],
   "source": [
    "len(target_papers_df)"
   ]
  },
  {
   "cell_type": "code",
   "execution_count": 9,
   "metadata": {},
   "outputs": [
    {
     "data": {
      "text/plain": [
       "963851"
      ]
     },
     "execution_count": 9,
     "metadata": {},
     "output_type": "execute_result"
    }
   ],
   "source": [
    "len(test_papers_df)"
   ]
  },
  {
   "cell_type": "code",
   "execution_count": 10,
   "metadata": {},
   "outputs": [
    {
     "name": "stdout",
     "output_type": "stream",
     "text": [
      "removed 50 seed papers from the haystack. size of haystack: 963801\n"
     ]
    }
   ],
   "source": [
    "# remove the train (seed) papers from the test set (haystack)\n",
    "n_before = len(test_papers_df)\n",
    "test_papers_df = test_papers_df.drop(train_papers_df.index, errors='ignore')\n",
    "n_after = len(test_papers_df)\n",
    "print(\"removed {} seed papers from the haystack. size of haystack: {}\".format(n_before-n_after, n_after))"
   ]
  },
  {
   "cell_type": "code",
   "execution_count": 11,
   "metadata": {},
   "outputs": [
    {
     "name": "stdout",
     "output_type": "stream",
     "text": [
      "0.23 seconds\n"
     ]
    }
   ],
   "source": [
    "start = timer()\n",
    "target_ids = set(target_papers_df.Paper_ID)\n",
    "test_papers_df['target'] = test_papers_df.Paper_ID.apply(lambda x: x in target_ids)\n",
    "print(format_timespan(timer()-start))"
   ]
  },
  {
   "cell_type": "code",
   "execution_count": 12,
   "metadata": {},
   "outputs": [],
   "source": [
    "# def tree_distance(n1, n2, sep=\":\"):\n",
    "#     # https://en.wikipedia.org/wiki/Lowest_common_ancestor\n",
    "#     # the distance from v to w can be computed as \n",
    "#     # the distance from the root to v, plus the distance from \n",
    "#     # the root to w, minus twice the distance from \n",
    "#     # the root to their lowest common ancestor\n",
    "#     v, w = [n.split(sep) for n in [n1, n2]]\n",
    "#     distance_root_to_v = len(v)\n",
    "#     distance_root_to_w = len(w)\n",
    "    \n",
    "#     distance_root_to_lca = 0\n",
    "#     for i in range(min(distance_root_to_v, distance_root_to_w)):\n",
    "#         if v[i] == w[i]:\n",
    "#             distance_root_to_lca += 1\n",
    "#         else:\n",
    "#             break\n",
    "#     return distance_root_to_v + distance_root_to_w - (2*distance_root_to_lca)"
   ]
  },
  {
   "cell_type": "code",
   "execution_count": 13,
   "metadata": {},
   "outputs": [],
   "source": [
    "def tree_distance(n1, n2, sep=\":\"):\n",
    "    # since depth is sort of arbitrary, let's try this\n",
    "    v, w = [n.split(sep) for n in [n1, n2]]\n",
    "    distance_root_to_v = len(v)\n",
    "    distance_root_to_w = len(w)\n",
    "    avg_depth = (distance_root_to_v + distance_root_to_w) * .5\n",
    "    \n",
    "    distance_root_to_lca = 0\n",
    "    for i in range(min(distance_root_to_v, distance_root_to_w)):\n",
    "        if v[i] == w[i]:\n",
    "            distance_root_to_lca += 1\n",
    "        else:\n",
    "            break\n",
    "    return (avg_depth - distance_root_to_lca) / avg_depth"
   ]
  },
  {
   "cell_type": "code",
   "execution_count": 14,
   "metadata": {},
   "outputs": [],
   "source": [
    "def avg_distance(cl, cl_group):\n",
    "    distances = []\n",
    "    for x in cl_group:\n",
    "        distances.append(tree_distance(cl, x))\n",
    "    return sum(distances) / len(distances)"
   ]
  },
  {
   "cell_type": "code",
   "execution_count": 15,
   "metadata": {},
   "outputs": [
    {
     "name": "stdout",
     "output_type": "stream",
     "text": [
      "1 minute and 30.58 seconds\n"
     ]
    }
   ],
   "source": [
    "start = timer()\n",
    "test_papers_df['avg_distance_to_train'] = test_papers_df.cl.apply(avg_distance, cl_group=train_papers_df.cl.tolist())\n",
    "print(format_timespan(timer()-start))"
   ]
  },
  {
   "cell_type": "code",
   "execution_count": 16,
   "metadata": {},
   "outputs": [
    {
     "data": {
      "text/html": [
       "<div>\n",
       "<style scoped>\n",
       "    .dataframe tbody tr th:only-of-type {\n",
       "        vertical-align: middle;\n",
       "    }\n",
       "\n",
       "    .dataframe tbody tr th {\n",
       "        vertical-align: top;\n",
       "    }\n",
       "\n",
       "    .dataframe thead th {\n",
       "        text-align: right;\n",
       "    }\n",
       "</style>\n",
       "<table border=\"1\" class=\"dataframe\">\n",
       "  <thead>\n",
       "    <tr style=\"text-align: right;\">\n",
       "      <th></th>\n",
       "      <th>EF</th>\n",
       "      <th>Paper_ID</th>\n",
       "      <th>cl</th>\n",
       "      <th>title</th>\n",
       "      <th>year</th>\n",
       "      <th>target</th>\n",
       "      <th>avg_distance_to_train</th>\n",
       "    </tr>\n",
       "  </thead>\n",
       "  <tbody>\n",
       "    <tr>\n",
       "      <th>895071</th>\n",
       "      <td>2.609080e-07</td>\n",
       "      <td>1993220166</td>\n",
       "      <td>459185:1:5</td>\n",
       "      <td>a study of the behavior of several methods for...</td>\n",
       "      <td>2004.0</td>\n",
       "      <td>False</td>\n",
       "      <td>0.553333</td>\n",
       "    </tr>\n",
       "    <tr>\n",
       "      <th>882145</th>\n",
       "      <td>1.017030e-07</td>\n",
       "      <td>2104167780</td>\n",
       "      <td>459185:1:26</td>\n",
       "      <td>exploratory undersampling for class imbalance ...</td>\n",
       "      <td>2009.0</td>\n",
       "      <td>False</td>\n",
       "      <td>0.553333</td>\n",
       "    </tr>\n",
       "    <tr>\n",
       "      <th>883800</th>\n",
       "      <td>6.068730e-08</td>\n",
       "      <td>2152325113</td>\n",
       "      <td>459185:1:53</td>\n",
       "      <td>concept learning in the presence of between cl...</td>\n",
       "      <td>2001.0</td>\n",
       "      <td>False</td>\n",
       "      <td>0.553333</td>\n",
       "    </tr>\n",
       "    <tr>\n",
       "      <th>892516</th>\n",
       "      <td>5.601040e-08</td>\n",
       "      <td>102369970</td>\n",
       "      <td>459185:1:41</td>\n",
       "      <td>class imbalances versus class overlapping an a...</td>\n",
       "      <td>2004.0</td>\n",
       "      <td>False</td>\n",
       "      <td>0.553333</td>\n",
       "    </tr>\n",
       "    <tr>\n",
       "      <th>895104</th>\n",
       "      <td>5.461220e-08</td>\n",
       "      <td>2015452969</td>\n",
       "      <td>459185:1:47</td>\n",
       "      <td>classification of imbalanced data a review</td>\n",
       "      <td>2009.0</td>\n",
       "      <td>False</td>\n",
       "      <td>0.553333</td>\n",
       "    </tr>\n",
       "    <tr>\n",
       "      <th>893087</th>\n",
       "      <td>4.981480e-08</td>\n",
       "      <td>1551909886</td>\n",
       "      <td>459185:1:69</td>\n",
       "      <td>applying support vector machines to imbalanced...</td>\n",
       "      <td>2004.0</td>\n",
       "      <td>False</td>\n",
       "      <td>0.553333</td>\n",
       "    </tr>\n",
       "    <tr>\n",
       "      <th>884452</th>\n",
       "      <td>4.861670e-08</td>\n",
       "      <td>2164330572</td>\n",
       "      <td>459185:1:56</td>\n",
       "      <td>an insight into classification with imbalanced...</td>\n",
       "      <td>2013.0</td>\n",
       "      <td>False</td>\n",
       "      <td>0.553333</td>\n",
       "    </tr>\n",
       "    <tr>\n",
       "      <th>882865</th>\n",
       "      <td>3.898500e-08</td>\n",
       "      <td>2128965734</td>\n",
       "      <td>459185:1:67</td>\n",
       "      <td>cluster based under sampling approaches for im...</td>\n",
       "      <td>2009.0</td>\n",
       "      <td>False</td>\n",
       "      <td>0.553333</td>\n",
       "    </tr>\n",
       "    <tr>\n",
       "      <th>882836</th>\n",
       "      <td>3.830660e-08</td>\n",
       "      <td>2122591164</td>\n",
       "      <td>459185:1:68</td>\n",
       "      <td>noisy replication in skewed binary classification</td>\n",
       "      <td>2000.0</td>\n",
       "      <td>False</td>\n",
       "      <td>0.553333</td>\n",
       "    </tr>\n",
       "    <tr>\n",
       "      <th>884986</th>\n",
       "      <td>2.744910e-08</td>\n",
       "      <td>2563095622</td>\n",
       "      <td>459185:1:105</td>\n",
       "      <td>boosting prediction accuracy on imbalanced dat...</td>\n",
       "      <td>2006.0</td>\n",
       "      <td>False</td>\n",
       "      <td>0.553333</td>\n",
       "    </tr>\n",
       "    <tr>\n",
       "      <th>882783</th>\n",
       "      <td>2.505950e-08</td>\n",
       "      <td>2116642770</td>\n",
       "      <td>459185:1:132</td>\n",
       "      <td>evaluation of classifiers for an uneven class ...</td>\n",
       "      <td>2006.0</td>\n",
       "      <td>False</td>\n",
       "      <td>0.553333</td>\n",
       "    </tr>\n",
       "    <tr>\n",
       "      <th>892606</th>\n",
       "      <td>2.355550e-08</td>\n",
       "      <td>571200655</td>\n",
       "      <td>459185:1:167</td>\n",
       "      <td>imbalanced learning foundations algorithms and...</td>\n",
       "      <td>2013.0</td>\n",
       "      <td>False</td>\n",
       "      <td>0.553333</td>\n",
       "    </tr>\n",
       "    <tr>\n",
       "      <th>883327</th>\n",
       "      <td>1.441840e-08</td>\n",
       "      <td>2137972942</td>\n",
       "      <td>459185:1:179</td>\n",
       "      <td>granular svm with repetitive undersampling for...</td>\n",
       "      <td>2006.0</td>\n",
       "      <td>False</td>\n",
       "      <td>0.553333</td>\n",
       "    </tr>\n",
       "    <tr>\n",
       "      <th>884468</th>\n",
       "      <td>1.426750e-08</td>\n",
       "      <td>2167464971</td>\n",
       "      <td>459185:1:137</td>\n",
       "      <td>local neighbourhood extension of smote for min...</td>\n",
       "      <td>2011.0</td>\n",
       "      <td>False</td>\n",
       "      <td>0.553333</td>\n",
       "    </tr>\n",
       "    <tr>\n",
       "      <th>892334</th>\n",
       "      <td>1.402020e-08</td>\n",
       "      <td>87312633</td>\n",
       "      <td>459185:1:197</td>\n",
       "      <td>generative oversampling for mining imbalanced ...</td>\n",
       "      <td>2007.0</td>\n",
       "      <td>False</td>\n",
       "      <td>0.553333</td>\n",
       "    </tr>\n",
       "    <tr>\n",
       "      <th>884484</th>\n",
       "      <td>1.289610e-08</td>\n",
       "      <td>2168515294</td>\n",
       "      <td>459185:1:253</td>\n",
       "      <td>letters error back propagation algorithm for c...</td>\n",
       "      <td>2011.0</td>\n",
       "      <td>False</td>\n",
       "      <td>0.553333</td>\n",
       "    </tr>\n",
       "    <tr>\n",
       "      <th>883238</th>\n",
       "      <td>1.187730e-08</td>\n",
       "      <td>2131427446</td>\n",
       "      <td>459185:1:205</td>\n",
       "      <td>class imbalance redux</td>\n",
       "      <td>2011.0</td>\n",
       "      <td>False</td>\n",
       "      <td>0.553333</td>\n",
       "    </tr>\n",
       "    <tr>\n",
       "      <th>881730</th>\n",
       "      <td>1.066010e-08</td>\n",
       "      <td>2087787741</td>\n",
       "      <td>459185:1:226</td>\n",
       "      <td>novel cost sensitive approach to improve the m...</td>\n",
       "      <td>2013.0</td>\n",
       "      <td>False</td>\n",
       "      <td>0.553333</td>\n",
       "    </tr>\n",
       "    <tr>\n",
       "      <th>893815</th>\n",
       "      <td>1.062290e-08</td>\n",
       "      <td>1895692432</td>\n",
       "      <td>459185:1:312</td>\n",
       "      <td>combined effects of class imbalance and class ...</td>\n",
       "      <td>2006.0</td>\n",
       "      <td>False</td>\n",
       "      <td>0.553333</td>\n",
       "    </tr>\n",
       "    <tr>\n",
       "      <th>883313</th>\n",
       "      <td>9.092500e-09</td>\n",
       "      <td>2137880226</td>\n",
       "      <td>459185:1:259</td>\n",
       "      <td>combination approach of smote and biased svm f...</td>\n",
       "      <td>2008.0</td>\n",
       "      <td>False</td>\n",
       "      <td>0.553333</td>\n",
       "    </tr>\n",
       "    <tr>\n",
       "      <th>883739</th>\n",
       "      <td>8.792940e-09</td>\n",
       "      <td>2146386725</td>\n",
       "      <td>459185:1:284</td>\n",
       "      <td>a new performance measure for class imbalance ...</td>\n",
       "      <td>2009.0</td>\n",
       "      <td>False</td>\n",
       "      <td>0.553333</td>\n",
       "    </tr>\n",
       "    <tr>\n",
       "      <th>881706</th>\n",
       "      <td>7.672740e-09</td>\n",
       "      <td>2082344779</td>\n",
       "      <td>459185:1:300</td>\n",
       "      <td>a hybrid method to face class overlap and clas...</td>\n",
       "      <td>2013.0</td>\n",
       "      <td>False</td>\n",
       "      <td>0.553333</td>\n",
       "    </tr>\n",
       "    <tr>\n",
       "      <th>882091</th>\n",
       "      <td>7.603040e-09</td>\n",
       "      <td>2100894633</td>\n",
       "      <td>459185:1:355</td>\n",
       "      <td>a hybrid re sampling method for svm learning f...</td>\n",
       "      <td>2008.0</td>\n",
       "      <td>False</td>\n",
       "      <td>0.553333</td>\n",
       "    </tr>\n",
       "    <tr>\n",
       "      <th>893848</th>\n",
       "      <td>6.645020e-09</td>\n",
       "      <td>1964741102</td>\n",
       "      <td>459185:1:486</td>\n",
       "      <td>exploring of clustering algorithm on class imb...</td>\n",
       "      <td>2013.0</td>\n",
       "      <td>False</td>\n",
       "      <td>0.553333</td>\n",
       "    </tr>\n",
       "    <tr>\n",
       "      <th>894490</th>\n",
       "      <td>6.116180e-09</td>\n",
       "      <td>1983031733</td>\n",
       "      <td>459185:1:648</td>\n",
       "      <td>resampling and cost sensitive methods for imba...</td>\n",
       "      <td>2013.0</td>\n",
       "      <td>False</td>\n",
       "      <td>0.553333</td>\n",
       "    </tr>\n",
       "    <tr>\n",
       "      <th>881712</th>\n",
       "      <td>5.720590e-09</td>\n",
       "      <td>2085006623</td>\n",
       "      <td>459185:1:666</td>\n",
       "      <td>an improved smote imbalanced data classificati...</td>\n",
       "      <td>2014.0</td>\n",
       "      <td>False</td>\n",
       "      <td>0.553333</td>\n",
       "    </tr>\n",
       "    <tr>\n",
       "      <th>893007</th>\n",
       "      <td>5.539950e-09</td>\n",
       "      <td>1510810540</td>\n",
       "      <td>459185:1:668</td>\n",
       "      <td>sneom a sanger network based extended over sam...</td>\n",
       "      <td>2012.0</td>\n",
       "      <td>False</td>\n",
       "      <td>0.553333</td>\n",
       "    </tr>\n",
       "    <tr>\n",
       "      <th>883766</th>\n",
       "      <td>9.414710e-07</td>\n",
       "      <td>2148143831</td>\n",
       "      <td>459185:1:1</td>\n",
       "      <td>smote synthetic minority over sampling technique</td>\n",
       "      <td>2002.0</td>\n",
       "      <td>True</td>\n",
       "      <td>0.560000</td>\n",
       "    </tr>\n",
       "    <tr>\n",
       "      <th>255976</th>\n",
       "      <td>5.938070e-07</td>\n",
       "      <td>1517113043</td>\n",
       "      <td>459185:1:13</td>\n",
       "      <td>adaptive fraud detection</td>\n",
       "      <td>1997.0</td>\n",
       "      <td>False</td>\n",
       "      <td>0.560000</td>\n",
       "    </tr>\n",
       "    <tr>\n",
       "      <th>255379</th>\n",
       "      <td>5.716310e-07</td>\n",
       "      <td>2310420953</td>\n",
       "      <td>459185:1:29</td>\n",
       "      <td>statistical comparisons of classifiers over mu...</td>\n",
       "      <td>2006.0</td>\n",
       "      <td>False</td>\n",
       "      <td>0.560000</td>\n",
       "    </tr>\n",
       "    <tr>\n",
       "      <th>780128</th>\n",
       "      <td>5.591210e-07</td>\n",
       "      <td>2096942889</td>\n",
       "      <td>459185:1:7</td>\n",
       "      <td>robust classification for imprecise environments</td>\n",
       "      <td>2001.0</td>\n",
       "      <td>False</td>\n",
       "      <td>0.560000</td>\n",
       "    </tr>\n",
       "    <tr>\n",
       "      <th>893720</th>\n",
       "      <td>4.489060e-07</td>\n",
       "      <td>1588282782</td>\n",
       "      <td>459185:1:4</td>\n",
       "      <td>machine learning for the detection of oil spil...</td>\n",
       "      <td>1998.0</td>\n",
       "      <td>True</td>\n",
       "      <td>0.560000</td>\n",
       "    </tr>\n",
       "    <tr>\n",
       "      <th>255985</th>\n",
       "      <td>4.439980e-07</td>\n",
       "      <td>1645340075</td>\n",
       "      <td>459185:1:28</td>\n",
       "      <td>adaptive fraud detection data mining and knowl...</td>\n",
       "      <td>1997.0</td>\n",
       "      <td>False</td>\n",
       "      <td>0.560000</td>\n",
       "    </tr>\n",
       "    <tr>\n",
       "      <th>892329</th>\n",
       "      <td>4.283200e-07</td>\n",
       "      <td>85350352</td>\n",
       "      <td>459185:1:2</td>\n",
       "      <td>addressing the curse of imbalanced training se...</td>\n",
       "      <td>1997.0</td>\n",
       "      <td>True</td>\n",
       "      <td>0.560000</td>\n",
       "    </tr>\n",
       "    <tr>\n",
       "      <th>882806</th>\n",
       "      <td>4.084660e-07</td>\n",
       "      <td>2118978333</td>\n",
       "      <td>459185:1:6</td>\n",
       "      <td>learning from imbalanced data</td>\n",
       "      <td>2009.0</td>\n",
       "      <td>True</td>\n",
       "      <td>0.560000</td>\n",
       "    </tr>\n",
       "    <tr>\n",
       "      <th>539205</th>\n",
       "      <td>4.070540e-07</td>\n",
       "      <td>142793689</td>\n",
       "      <td>459185:1:15</td>\n",
       "      <td>data mining for direct marketing problems and ...</td>\n",
       "      <td>1998.0</td>\n",
       "      <td>False</td>\n",
       "      <td>0.560000</td>\n",
       "    </tr>\n",
       "    <tr>\n",
       "      <th>274836</th>\n",
       "      <td>4.021860e-07</td>\n",
       "      <td>31160272</td>\n",
       "      <td>459185:1:37</td>\n",
       "      <td>uci repository of machine learning databases h...</td>\n",
       "      <td>1994.0</td>\n",
       "      <td>False</td>\n",
       "      <td>0.560000</td>\n",
       "    </tr>\n",
       "    <tr>\n",
       "      <th>893833</th>\n",
       "      <td>4.003680e-07</td>\n",
       "      <td>1941659294</td>\n",
       "      <td>459185:1:3</td>\n",
       "      <td>the class imbalance problem a systematic study</td>\n",
       "      <td>2002.0</td>\n",
       "      <td>True</td>\n",
       "      <td>0.560000</td>\n",
       "    </tr>\n",
       "    <tr>\n",
       "      <th>159651</th>\n",
       "      <td>3.457820e-07</td>\n",
       "      <td>1595468493</td>\n",
       "      <td>459185:1:8</td>\n",
       "      <td>reducing misclassification costs</td>\n",
       "      <td>1994.0</td>\n",
       "      <td>False</td>\n",
       "      <td>0.560000</td>\n",
       "    </tr>\n",
       "    <tr>\n",
       "      <th>259122</th>\n",
       "      <td>3.433040e-07</td>\n",
       "      <td>1571391831</td>\n",
       "      <td>459185:1:154</td>\n",
       "      <td>feature selection and extraction</td>\n",
       "      <td>1978.0</td>\n",
       "      <td>False</td>\n",
       "      <td>0.560000</td>\n",
       "    </tr>\n",
       "    <tr>\n",
       "      <th>735637</th>\n",
       "      <td>2.794600e-07</td>\n",
       "      <td>2146935111</td>\n",
       "      <td>459185:1:30</td>\n",
       "      <td>combining data mining and machine learning for...</td>\n",
       "      <td>1996.0</td>\n",
       "      <td>False</td>\n",
       "      <td>0.560000</td>\n",
       "    </tr>\n",
       "    <tr>\n",
       "      <th>895667</th>\n",
       "      <td>2.780770e-07</td>\n",
       "      <td>2053724458</td>\n",
       "      <td>459185:1:10</td>\n",
       "      <td>editorial special issue on learning from imbal...</td>\n",
       "      <td>2004.0</td>\n",
       "      <td>True</td>\n",
       "      <td>0.560000</td>\n",
       "    </tr>\n",
       "    <tr>\n",
       "      <th>894418</th>\n",
       "      <td>2.687120e-07</td>\n",
       "      <td>1965895350</td>\n",
       "      <td>459185:1:9</td>\n",
       "      <td>mining with rarity a unifying framework</td>\n",
       "      <td>2004.0</td>\n",
       "      <td>True</td>\n",
       "      <td>0.560000</td>\n",
       "    </tr>\n",
       "    <tr>\n",
       "      <th>882779</th>\n",
       "      <td>2.236700e-07</td>\n",
       "      <td>2114968414</td>\n",
       "      <td>459185:1:11</td>\n",
       "      <td>learning when training data are costly the eff...</td>\n",
       "      <td>2003.0</td>\n",
       "      <td>True</td>\n",
       "      <td>0.560000</td>\n",
       "    </tr>\n",
       "    <tr>\n",
       "      <th>278571</th>\n",
       "      <td>2.104640e-07</td>\n",
       "      <td>145450961</td>\n",
       "      <td>459185:1:21</td>\n",
       "      <td>toward scalable learning with non uniform clas...</td>\n",
       "      <td>1998.0</td>\n",
       "      <td>False</td>\n",
       "      <td>0.560000</td>\n",
       "    </tr>\n",
       "    <tr>\n",
       "      <th>884476</th>\n",
       "      <td>2.041600e-07</td>\n",
       "      <td>2167793421</td>\n",
       "      <td>459185:1:27</td>\n",
       "      <td>explicitly representing expected cost an alter...</td>\n",
       "      <td>2000.0</td>\n",
       "      <td>True</td>\n",
       "      <td>0.560000</td>\n",
       "    </tr>\n",
       "    <tr>\n",
       "      <th>230124</th>\n",
       "      <td>1.848990e-07</td>\n",
       "      <td>1620454276</td>\n",
       "      <td>459185:1:17</td>\n",
       "      <td>the class imbalance problem significance and s...</td>\n",
       "      <td>2000.0</td>\n",
       "      <td>False</td>\n",
       "      <td>0.560000</td>\n",
       "    </tr>\n",
       "    <tr>\n",
       "      <th>884994</th>\n",
       "      <td>1.790980e-07</td>\n",
       "      <td>2743788284</td>\n",
       "      <td>459185:1:19</td>\n",
       "      <td>applying support vector machines to imbalanced...</td>\n",
       "      <td>2004.0</td>\n",
       "      <td>True</td>\n",
       "      <td>0.560000</td>\n",
       "    </tr>\n",
       "    <tr>\n",
       "      <th>942463</th>\n",
       "      <td>1.760600e-07</td>\n",
       "      <td>2168796272</td>\n",
       "      <td>459185:1:115</td>\n",
       "      <td>rl4 a tool for knowledge based induction</td>\n",
       "      <td>1990.0</td>\n",
       "      <td>False</td>\n",
       "      <td>0.560000</td>\n",
       "    </tr>\n",
       "    <tr>\n",
       "      <th>288744</th>\n",
       "      <td>1.667900e-07</td>\n",
       "      <td>1580049798</td>\n",
       "      <td>459185:1:16</td>\n",
       "      <td>adacost misclassification cost sensitive boosting</td>\n",
       "      <td>1999.0</td>\n",
       "      <td>False</td>\n",
       "      <td>0.560000</td>\n",
       "    </tr>\n",
       "  </tbody>\n",
       "</table>\n",
       "</div>"
      ],
      "text/plain": [
       "                  EF    Paper_ID            cl  \\\n",
       "895071  2.609080e-07  1993220166    459185:1:5   \n",
       "882145  1.017030e-07  2104167780   459185:1:26   \n",
       "883800  6.068730e-08  2152325113   459185:1:53   \n",
       "892516  5.601040e-08   102369970   459185:1:41   \n",
       "895104  5.461220e-08  2015452969   459185:1:47   \n",
       "893087  4.981480e-08  1551909886   459185:1:69   \n",
       "884452  4.861670e-08  2164330572   459185:1:56   \n",
       "882865  3.898500e-08  2128965734   459185:1:67   \n",
       "882836  3.830660e-08  2122591164   459185:1:68   \n",
       "884986  2.744910e-08  2563095622  459185:1:105   \n",
       "882783  2.505950e-08  2116642770  459185:1:132   \n",
       "892606  2.355550e-08   571200655  459185:1:167   \n",
       "883327  1.441840e-08  2137972942  459185:1:179   \n",
       "884468  1.426750e-08  2167464971  459185:1:137   \n",
       "892334  1.402020e-08    87312633  459185:1:197   \n",
       "884484  1.289610e-08  2168515294  459185:1:253   \n",
       "883238  1.187730e-08  2131427446  459185:1:205   \n",
       "881730  1.066010e-08  2087787741  459185:1:226   \n",
       "893815  1.062290e-08  1895692432  459185:1:312   \n",
       "883313  9.092500e-09  2137880226  459185:1:259   \n",
       "883739  8.792940e-09  2146386725  459185:1:284   \n",
       "881706  7.672740e-09  2082344779  459185:1:300   \n",
       "882091  7.603040e-09  2100894633  459185:1:355   \n",
       "893848  6.645020e-09  1964741102  459185:1:486   \n",
       "894490  6.116180e-09  1983031733  459185:1:648   \n",
       "881712  5.720590e-09  2085006623  459185:1:666   \n",
       "893007  5.539950e-09  1510810540  459185:1:668   \n",
       "883766  9.414710e-07  2148143831    459185:1:1   \n",
       "255976  5.938070e-07  1517113043   459185:1:13   \n",
       "255379  5.716310e-07  2310420953   459185:1:29   \n",
       "780128  5.591210e-07  2096942889    459185:1:7   \n",
       "893720  4.489060e-07  1588282782    459185:1:4   \n",
       "255985  4.439980e-07  1645340075   459185:1:28   \n",
       "892329  4.283200e-07    85350352    459185:1:2   \n",
       "882806  4.084660e-07  2118978333    459185:1:6   \n",
       "539205  4.070540e-07   142793689   459185:1:15   \n",
       "274836  4.021860e-07    31160272   459185:1:37   \n",
       "893833  4.003680e-07  1941659294    459185:1:3   \n",
       "159651  3.457820e-07  1595468493    459185:1:8   \n",
       "259122  3.433040e-07  1571391831  459185:1:154   \n",
       "735637  2.794600e-07  2146935111   459185:1:30   \n",
       "895667  2.780770e-07  2053724458   459185:1:10   \n",
       "894418  2.687120e-07  1965895350    459185:1:9   \n",
       "882779  2.236700e-07  2114968414   459185:1:11   \n",
       "278571  2.104640e-07   145450961   459185:1:21   \n",
       "884476  2.041600e-07  2167793421   459185:1:27   \n",
       "230124  1.848990e-07  1620454276   459185:1:17   \n",
       "884994  1.790980e-07  2743788284   459185:1:19   \n",
       "942463  1.760600e-07  2168796272  459185:1:115   \n",
       "288744  1.667900e-07  1580049798   459185:1:16   \n",
       "\n",
       "                                                    title    year  target  \\\n",
       "895071  a study of the behavior of several methods for...  2004.0   False   \n",
       "882145  exploratory undersampling for class imbalance ...  2009.0   False   \n",
       "883800  concept learning in the presence of between cl...  2001.0   False   \n",
       "892516  class imbalances versus class overlapping an a...  2004.0   False   \n",
       "895104         classification of imbalanced data a review  2009.0   False   \n",
       "893087  applying support vector machines to imbalanced...  2004.0   False   \n",
       "884452  an insight into classification with imbalanced...  2013.0   False   \n",
       "882865  cluster based under sampling approaches for im...  2009.0   False   \n",
       "882836  noisy replication in skewed binary classification  2000.0   False   \n",
       "884986  boosting prediction accuracy on imbalanced dat...  2006.0   False   \n",
       "882783  evaluation of classifiers for an uneven class ...  2006.0   False   \n",
       "892606  imbalanced learning foundations algorithms and...  2013.0   False   \n",
       "883327  granular svm with repetitive undersampling for...  2006.0   False   \n",
       "884468  local neighbourhood extension of smote for min...  2011.0   False   \n",
       "892334  generative oversampling for mining imbalanced ...  2007.0   False   \n",
       "884484  letters error back propagation algorithm for c...  2011.0   False   \n",
       "883238                              class imbalance redux  2011.0   False   \n",
       "881730  novel cost sensitive approach to improve the m...  2013.0   False   \n",
       "893815  combined effects of class imbalance and class ...  2006.0   False   \n",
       "883313  combination approach of smote and biased svm f...  2008.0   False   \n",
       "883739  a new performance measure for class imbalance ...  2009.0   False   \n",
       "881706  a hybrid method to face class overlap and clas...  2013.0   False   \n",
       "882091  a hybrid re sampling method for svm learning f...  2008.0   False   \n",
       "893848  exploring of clustering algorithm on class imb...  2013.0   False   \n",
       "894490  resampling and cost sensitive methods for imba...  2013.0   False   \n",
       "881712  an improved smote imbalanced data classificati...  2014.0   False   \n",
       "893007  sneom a sanger network based extended over sam...  2012.0   False   \n",
       "883766   smote synthetic minority over sampling technique  2002.0    True   \n",
       "255976                           adaptive fraud detection  1997.0   False   \n",
       "255379  statistical comparisons of classifiers over mu...  2006.0   False   \n",
       "780128   robust classification for imprecise environments  2001.0   False   \n",
       "893720  machine learning for the detection of oil spil...  1998.0    True   \n",
       "255985  adaptive fraud detection data mining and knowl...  1997.0   False   \n",
       "892329  addressing the curse of imbalanced training se...  1997.0    True   \n",
       "882806                      learning from imbalanced data  2009.0    True   \n",
       "539205  data mining for direct marketing problems and ...  1998.0   False   \n",
       "274836  uci repository of machine learning databases h...  1994.0   False   \n",
       "893833     the class imbalance problem a systematic study  2002.0    True   \n",
       "159651                   reducing misclassification costs  1994.0   False   \n",
       "259122                   feature selection and extraction  1978.0   False   \n",
       "735637  combining data mining and machine learning for...  1996.0   False   \n",
       "895667  editorial special issue on learning from imbal...  2004.0    True   \n",
       "894418            mining with rarity a unifying framework  2004.0    True   \n",
       "882779  learning when training data are costly the eff...  2003.0    True   \n",
       "278571  toward scalable learning with non uniform clas...  1998.0   False   \n",
       "884476  explicitly representing expected cost an alter...  2000.0    True   \n",
       "230124  the class imbalance problem significance and s...  2000.0   False   \n",
       "884994  applying support vector machines to imbalanced...  2004.0    True   \n",
       "942463           rl4 a tool for knowledge based induction  1990.0   False   \n",
       "288744  adacost misclassification cost sensitive boosting  1999.0   False   \n",
       "\n",
       "        avg_distance_to_train  \n",
       "895071               0.553333  \n",
       "882145               0.553333  \n",
       "883800               0.553333  \n",
       "892516               0.553333  \n",
       "895104               0.553333  \n",
       "893087               0.553333  \n",
       "884452               0.553333  \n",
       "882865               0.553333  \n",
       "882836               0.553333  \n",
       "884986               0.553333  \n",
       "882783               0.553333  \n",
       "892606               0.553333  \n",
       "883327               0.553333  \n",
       "884468               0.553333  \n",
       "892334               0.553333  \n",
       "884484               0.553333  \n",
       "883238               0.553333  \n",
       "881730               0.553333  \n",
       "893815               0.553333  \n",
       "883313               0.553333  \n",
       "883739               0.553333  \n",
       "881706               0.553333  \n",
       "882091               0.553333  \n",
       "893848               0.553333  \n",
       "894490               0.553333  \n",
       "881712               0.553333  \n",
       "893007               0.553333  \n",
       "883766               0.560000  \n",
       "255976               0.560000  \n",
       "255379               0.560000  \n",
       "780128               0.560000  \n",
       "893720               0.560000  \n",
       "255985               0.560000  \n",
       "892329               0.560000  \n",
       "882806               0.560000  \n",
       "539205               0.560000  \n",
       "274836               0.560000  \n",
       "893833               0.560000  \n",
       "159651               0.560000  \n",
       "259122               0.560000  \n",
       "735637               0.560000  \n",
       "895667               0.560000  \n",
       "894418               0.560000  \n",
       "882779               0.560000  \n",
       "278571               0.560000  \n",
       "884476               0.560000  \n",
       "230124               0.560000  \n",
       "884994               0.560000  \n",
       "942463               0.560000  \n",
       "288744               0.560000  "
      ]
     },
     "execution_count": 16,
     "metadata": {},
     "output_type": "execute_result"
    }
   ],
   "source": [
    "test_papers_df.sort_values(['avg_distance_to_train', 'EF'], ascending=[True, False]).head(50)"
   ]
  },
  {
   "cell_type": "code",
   "execution_count": 17,
   "metadata": {},
   "outputs": [
    {
     "data": {
      "text/html": [
       "<div>\n",
       "<style scoped>\n",
       "    .dataframe tbody tr th:only-of-type {\n",
       "        vertical-align: middle;\n",
       "    }\n",
       "\n",
       "    .dataframe tbody tr th {\n",
       "        vertical-align: top;\n",
       "    }\n",
       "\n",
       "    .dataframe thead th {\n",
       "        text-align: right;\n",
       "    }\n",
       "</style>\n",
       "<table border=\"1\" class=\"dataframe\">\n",
       "  <thead>\n",
       "    <tr style=\"text-align: right;\">\n",
       "      <th></th>\n",
       "      <th>target</th>\n",
       "      <th>False</th>\n",
       "      <th>True</th>\n",
       "    </tr>\n",
       "  </thead>\n",
       "  <tbody>\n",
       "    <tr>\n",
       "      <th rowspan=\"8\" valign=\"top\">EF</th>\n",
       "      <th>count</th>\n",
       "      <td>9.636080e+05</td>\n",
       "      <td>1.930000e+02</td>\n",
       "    </tr>\n",
       "    <tr>\n",
       "      <th>mean</th>\n",
       "      <td>4.089817e-08</td>\n",
       "      <td>1.752005e-07</td>\n",
       "    </tr>\n",
       "    <tr>\n",
       "      <th>std</th>\n",
       "      <td>4.451369e-07</td>\n",
       "      <td>7.704503e-07</td>\n",
       "    </tr>\n",
       "    <tr>\n",
       "      <th>min</th>\n",
       "      <td>5.434740e-09</td>\n",
       "      <td>5.467630e-09</td>\n",
       "    </tr>\n",
       "    <tr>\n",
       "      <th>25%</th>\n",
       "      <td>5.627220e-09</td>\n",
       "      <td>8.275840e-09</td>\n",
       "    </tr>\n",
       "    <tr>\n",
       "      <th>50%</th>\n",
       "      <td>7.116800e-09</td>\n",
       "      <td>1.783200e-08</td>\n",
       "    </tr>\n",
       "    <tr>\n",
       "      <th>75%</th>\n",
       "      <td>1.404920e-08</td>\n",
       "      <td>7.605160e-08</td>\n",
       "    </tr>\n",
       "    <tr>\n",
       "      <th>max</th>\n",
       "      <td>1.716360e-04</td>\n",
       "      <td>8.659590e-06</td>\n",
       "    </tr>\n",
       "    <tr>\n",
       "      <th rowspan=\"8\" valign=\"top\">avg_distance_to_train</th>\n",
       "      <th>count</th>\n",
       "      <td>9.636080e+05</td>\n",
       "      <td>1.930000e+02</td>\n",
       "    </tr>\n",
       "    <tr>\n",
       "      <th>mean</th>\n",
       "      <td>9.983434e-01</td>\n",
       "      <td>6.711831e-01</td>\n",
       "    </tr>\n",
       "    <tr>\n",
       "      <th>std</th>\n",
       "      <td>2.136874e-02</td>\n",
       "      <td>1.715589e-01</td>\n",
       "    </tr>\n",
       "    <tr>\n",
       "      <th>min</th>\n",
       "      <td>5.533333e-01</td>\n",
       "      <td>5.600000e-01</td>\n",
       "    </tr>\n",
       "    <tr>\n",
       "      <th>25%</th>\n",
       "      <td>1.000000e+00</td>\n",
       "      <td>5.600000e-01</td>\n",
       "    </tr>\n",
       "    <tr>\n",
       "      <th>50%</th>\n",
       "      <td>1.000000e+00</td>\n",
       "      <td>5.600000e-01</td>\n",
       "    </tr>\n",
       "    <tr>\n",
       "      <th>75%</th>\n",
       "      <td>1.000000e+00</td>\n",
       "      <td>7.333333e-01</td>\n",
       "    </tr>\n",
       "    <tr>\n",
       "      <th>max</th>\n",
       "      <td>1.000000e+00</td>\n",
       "      <td>1.000000e+00</td>\n",
       "    </tr>\n",
       "  </tbody>\n",
       "</table>\n",
       "</div>"
      ],
      "text/plain": [
       "target                              False         True \n",
       "EF                    count  9.636080e+05  1.930000e+02\n",
       "                      mean   4.089817e-08  1.752005e-07\n",
       "                      std    4.451369e-07  7.704503e-07\n",
       "                      min    5.434740e-09  5.467630e-09\n",
       "                      25%    5.627220e-09  8.275840e-09\n",
       "                      50%    7.116800e-09  1.783200e-08\n",
       "                      75%    1.404920e-08  7.605160e-08\n",
       "                      max    1.716360e-04  8.659590e-06\n",
       "avg_distance_to_train count  9.636080e+05  1.930000e+02\n",
       "                      mean   9.983434e-01  6.711831e-01\n",
       "                      std    2.136874e-02  1.715589e-01\n",
       "                      min    5.533333e-01  5.600000e-01\n",
       "                      25%    1.000000e+00  5.600000e-01\n",
       "                      50%    1.000000e+00  5.600000e-01\n",
       "                      75%    1.000000e+00  7.333333e-01\n",
       "                      max    1.000000e+00  1.000000e+00"
      ]
     },
     "execution_count": 17,
     "metadata": {},
     "output_type": "execute_result"
    }
   ],
   "source": [
    "test_papers_df.groupby('target')['EF', 'avg_distance_to_train'].describe().T"
   ]
  },
  {
   "cell_type": "code",
   "execution_count": 18,
   "metadata": {},
   "outputs": [],
   "source": [
    "import matplotlib.pyplot as plt"
   ]
  },
  {
   "cell_type": "code",
   "execution_count": 19,
   "metadata": {},
   "outputs": [],
   "source": [
    "%matplotlib inline"
   ]
  },
  {
   "cell_type": "code",
   "execution_count": 20,
   "metadata": {},
   "outputs": [],
   "source": [
    "from sklearn.linear_model import LogisticRegression\n",
    "from sklearn.model_selection import train_test_split"
   ]
  },
  {
   "cell_type": "code",
   "execution_count": 21,
   "metadata": {},
   "outputs": [],
   "source": [
    "X = test_papers_df[['EF', 'avg_distance_to_train']]\n",
    "y = test_papers_df['target']\n",
    "X_train, X_test, y_train, y_test = train_test_split(X, y, test_size=0.2, random_state=999)"
   ]
  },
  {
   "cell_type": "code",
   "execution_count": 22,
   "metadata": {},
   "outputs": [
    {
     "name": "stdout",
     "output_type": "stream",
     "text": [
      "2.97 seconds\n"
     ]
    }
   ],
   "source": [
    "start = timer()\n",
    "model = LogisticRegression()\n",
    "model.fit(X_train, y_train)\n",
    "print(format_timespan(timer()-start))"
   ]
  },
  {
   "cell_type": "code",
   "execution_count": 23,
   "metadata": {},
   "outputs": [
    {
     "data": {
      "text/plain": [
       "array([9.71363365e-05, 9.71363365e-05, 9.71363365e-05, ...,\n",
       "       9.71363365e-05, 9.71363365e-05, 9.71363365e-05])"
      ]
     },
     "execution_count": 23,
     "metadata": {},
     "output_type": "execute_result"
    }
   ],
   "source": [
    "# y_pred_proba = model.predict_proba(X_test)[:, 1]\n",
    "y_pred_proba = model.predict_proba(X)[:, 1]\n",
    "y_pred_proba"
   ]
  },
  {
   "cell_type": "code",
   "execution_count": 24,
   "metadata": {},
   "outputs": [
    {
     "data": {
      "text/plain": [
       "(963801,)"
      ]
     },
     "execution_count": 24,
     "metadata": {},
     "output_type": "execute_result"
    }
   ],
   "source": [
    "y_pred_proba.shape"
   ]
  },
  {
   "cell_type": "code",
   "execution_count": 25,
   "metadata": {},
   "outputs": [
    {
     "data": {
      "text/html": [
       "<div>\n",
       "<style scoped>\n",
       "    .dataframe tbody tr th:only-of-type {\n",
       "        vertical-align: middle;\n",
       "    }\n",
       "\n",
       "    .dataframe tbody tr th {\n",
       "        vertical-align: top;\n",
       "    }\n",
       "\n",
       "    .dataframe thead th {\n",
       "        text-align: right;\n",
       "    }\n",
       "</style>\n",
       "<table border=\"1\" class=\"dataframe\">\n",
       "  <thead>\n",
       "    <tr style=\"text-align: right;\">\n",
       "      <th></th>\n",
       "      <th>EF</th>\n",
       "      <th>Paper_ID</th>\n",
       "      <th>cl</th>\n",
       "      <th>title</th>\n",
       "      <th>year</th>\n",
       "      <th>target</th>\n",
       "      <th>avg_distance_to_train</th>\n",
       "      <th>pred_ranks</th>\n",
       "    </tr>\n",
       "  </thead>\n",
       "  <tbody>\n",
       "    <tr>\n",
       "      <th>895071</th>\n",
       "      <td>2.609080e-07</td>\n",
       "      <td>1993220166</td>\n",
       "      <td>459185:1:5</td>\n",
       "      <td>a study of the behavior of several methods for...</td>\n",
       "      <td>2004.0</td>\n",
       "      <td>False</td>\n",
       "      <td>0.553333</td>\n",
       "      <td>0.053024</td>\n",
       "    </tr>\n",
       "    <tr>\n",
       "      <th>882145</th>\n",
       "      <td>1.017030e-07</td>\n",
       "      <td>2104167780</td>\n",
       "      <td>459185:1:26</td>\n",
       "      <td>exploratory undersampling for class imbalance ...</td>\n",
       "      <td>2009.0</td>\n",
       "      <td>False</td>\n",
       "      <td>0.553333</td>\n",
       "      <td>0.053024</td>\n",
       "    </tr>\n",
       "    <tr>\n",
       "      <th>883800</th>\n",
       "      <td>6.068730e-08</td>\n",
       "      <td>2152325113</td>\n",
       "      <td>459185:1:53</td>\n",
       "      <td>concept learning in the presence of between cl...</td>\n",
       "      <td>2001.0</td>\n",
       "      <td>False</td>\n",
       "      <td>0.553333</td>\n",
       "      <td>0.053024</td>\n",
       "    </tr>\n",
       "    <tr>\n",
       "      <th>892516</th>\n",
       "      <td>5.601040e-08</td>\n",
       "      <td>102369970</td>\n",
       "      <td>459185:1:41</td>\n",
       "      <td>class imbalances versus class overlapping an a...</td>\n",
       "      <td>2004.0</td>\n",
       "      <td>False</td>\n",
       "      <td>0.553333</td>\n",
       "      <td>0.053024</td>\n",
       "    </tr>\n",
       "    <tr>\n",
       "      <th>895104</th>\n",
       "      <td>5.461220e-08</td>\n",
       "      <td>2015452969</td>\n",
       "      <td>459185:1:47</td>\n",
       "      <td>classification of imbalanced data a review</td>\n",
       "      <td>2009.0</td>\n",
       "      <td>False</td>\n",
       "      <td>0.553333</td>\n",
       "      <td>0.053024</td>\n",
       "    </tr>\n",
       "  </tbody>\n",
       "</table>\n",
       "</div>"
      ],
      "text/plain": [
       "                  EF    Paper_ID           cl  \\\n",
       "895071  2.609080e-07  1993220166   459185:1:5   \n",
       "882145  1.017030e-07  2104167780  459185:1:26   \n",
       "883800  6.068730e-08  2152325113  459185:1:53   \n",
       "892516  5.601040e-08   102369970  459185:1:41   \n",
       "895104  5.461220e-08  2015452969  459185:1:47   \n",
       "\n",
       "                                                    title    year  target  \\\n",
       "895071  a study of the behavior of several methods for...  2004.0   False   \n",
       "882145  exploratory undersampling for class imbalance ...  2009.0   False   \n",
       "883800  concept learning in the presence of between cl...  2001.0   False   \n",
       "892516  class imbalances versus class overlapping an a...  2004.0   False   \n",
       "895104         classification of imbalanced data a review  2009.0   False   \n",
       "\n",
       "        avg_distance_to_train  pred_ranks  \n",
       "895071               0.553333    0.053024  \n",
       "882145               0.553333    0.053024  \n",
       "883800               0.553333    0.053024  \n",
       "892516               0.553333    0.053024  \n",
       "895104               0.553333    0.053024  "
      ]
     },
     "execution_count": 25,
     "metadata": {},
     "output_type": "execute_result"
    }
   ],
   "source": [
    "pred_ranks = pd.Series(y_pred_proba, index=X.index, name='pred_ranks')\n",
    "test_papers_df.join(pred_ranks).sort_values('pred_ranks', ascending=False).head()"
   ]
  },
  {
   "cell_type": "code",
   "execution_count": 26,
   "metadata": {},
   "outputs": [
    {
     "data": {
      "text/plain": [
       "963801"
      ]
     },
     "execution_count": 26,
     "metadata": {},
     "output_type": "execute_result"
    }
   ],
   "source": [
    "len(test_papers_df)"
   ]
  },
  {
   "cell_type": "code",
   "execution_count": 27,
   "metadata": {},
   "outputs": [],
   "source": [
    "top_predictions = test_papers_df.join(pred_ranks).sort_values('pred_ranks', ascending=False).head(len(target_papers_df))"
   ]
  },
  {
   "cell_type": "code",
   "execution_count": 28,
   "metadata": {},
   "outputs": [
    {
     "data": {
      "text/plain": [
       "target\n",
       "False    136\n",
       "True      57\n",
       "Name: Paper_ID, dtype: int64"
      ]
     },
     "execution_count": 28,
     "metadata": {},
     "output_type": "execute_result"
    }
   ],
   "source": [
    "top_predictions.groupby('target')['Paper_ID'].count()"
   ]
  },
  {
   "cell_type": "code",
   "execution_count": 29,
   "metadata": {},
   "outputs": [
    {
     "data": {
      "text/plain": [
       "0.04845664482993548"
      ]
     },
     "execution_count": 29,
     "metadata": {},
     "output_type": "execute_result"
    }
   ],
   "source": [
    "top_predictions.pred_ranks.min()"
   ]
  },
  {
   "cell_type": "code",
   "execution_count": 30,
   "metadata": {},
   "outputs": [
    {
     "name": "stdout",
     "output_type": "stream",
     "text": [
      "0.49 seconds\n"
     ]
    }
   ],
   "source": [
    "start = timer()\n",
    "toplevels = test_papers_df.cl.apply(lambda x: x.split(\":\")[0])\n",
    "print(format_timespan(timer()-start))"
   ]
  },
  {
   "cell_type": "code",
   "execution_count": 31,
   "metadata": {},
   "outputs": [],
   "source": [
    "toplevels.name = 'toplevel'"
   ]
  },
  {
   "cell_type": "code",
   "execution_count": 32,
   "metadata": {},
   "outputs": [],
   "source": [
    "toplevels_set = set(toplevels)"
   ]
  },
  {
   "cell_type": "code",
   "execution_count": 33,
   "metadata": {},
   "outputs": [
    {
     "name": "stdout",
     "output_type": "stream",
     "text": [
      "20.43 seconds\n"
     ]
    },
    {
     "name": "stderr",
     "output_type": "stream",
     "text": [
      "/home/jporteno/code/autoreview/venv/lib/python3.5/site-packages/pymysql/cursors.py:165: Warning: (3170, \"Memory capacity of 8388608 bytes for 'range_optimizer_max_mem_size' exceeded. Range optimization was not done for this query.\")\n",
      "  result = self._query(query)\n"
     ]
    }
   ],
   "source": [
    "start = timer()\n",
    "tbl = db.tables['clusters_meta_tree']\n",
    "sq = tbl.select(tbl.c.toplevel_in_tree.in_(toplevels_set))\n",
    "# r = db.engine.execute(sq).fetchall()\n",
    "cl_meta = db.read_sql(sq)\n",
    "print(format_timespan(timer()-start))"
   ]
  },
  {
   "cell_type": "code",
   "execution_count": 34,
   "metadata": {},
   "outputs": [],
   "source": [
    "cl_meta = cl_meta.set_index('id')"
   ]
  },
  {
   "cell_type": "code",
   "execution_count": 35,
   "metadata": {},
   "outputs": [],
   "source": [
    "train_papers_df['toplevel'] = train_papers_df.cl.apply(lambda x: x.split(\":\")[0]).astype(int)"
   ]
  },
  {
   "cell_type": "code",
   "execution_count": 36,
   "metadata": {},
   "outputs": [],
   "source": [
    "meta_map = cl_meta.set_index('toplevel_in_tree').meta_cl"
   ]
  },
  {
   "cell_type": "code",
   "execution_count": 37,
   "metadata": {},
   "outputs": [],
   "source": [
    "train_papers_df['cl_meta'] = train_papers_df.toplevel.map(meta_map)"
   ]
  },
  {
   "cell_type": "code",
   "execution_count": 38,
   "metadata": {},
   "outputs": [],
   "source": [
    "test_papers_df['toplevel'] = toplevels.astype(int)\n",
    "test_papers_df['cl_meta'] = test_papers_df.toplevel.map(meta_map)"
   ]
  },
  {
   "cell_type": "code",
   "execution_count": 39,
   "metadata": {},
   "outputs": [
    {
     "name": "stdout",
     "output_type": "stream",
     "text": [
      "1 minute and 30.75 seconds\n"
     ]
    }
   ],
   "source": [
    "start = timer()\n",
    "test_papers_df['meta_avg_distance_to_train'] = test_papers_df.cl_meta.apply(avg_distance, cl_group=train_papers_df.cl_meta.tolist())\n",
    "print(format_timespan(timer()-start))"
   ]
  },
  {
   "cell_type": "code",
   "execution_count": 40,
   "metadata": {},
   "outputs": [
    {
     "name": "stdout",
     "output_type": "stream",
     "text": [
      "1.72 second\n",
      "(963801,)\n"
     ]
    },
    {
     "data": {
      "text/plain": [
       "target\n",
       "False    136\n",
       "True      57\n",
       "Name: Paper_ID, dtype: int64"
      ]
     },
     "execution_count": 40,
     "metadata": {},
     "output_type": "execute_result"
    }
   ],
   "source": [
    "# logistic regression including meta cl\n",
    "X = test_papers_df[['EF', 'avg_distance_to_train', 'meta_avg_distance_to_train']]\n",
    "y = test_papers_df['target']\n",
    "X_train, X_test, y_train, y_test = train_test_split(X, y, test_size=0.2, random_state=999)\n",
    "\n",
    "start = timer()\n",
    "model_meta = LogisticRegression()\n",
    "model_meta.fit(X_train, y_train)\n",
    "print(format_timespan(timer()-start))\n",
    "\n",
    "# y_pred_proba = model.predict_proba(X_test)[:, 1]\n",
    "y_pred_proba_meta = model_meta.predict_proba(X)[:, 1]\n",
    "#y_pred_proba\n",
    "\n",
    "print(y_pred_proba_meta.shape)\n",
    "\n",
    "pred_ranks_meta = pd.Series(y_pred_proba_meta, index=X.index, name='pred_ranks')\n",
    "#test_papers_df.join(_pred_ranks).sort_values('pred_ranks', ascending=False).head()\n",
    "\n",
    "\n",
    "\n",
    "top_predictions_meta = test_papers_df.join(pred_ranks_meta).sort_values('pred_ranks', ascending=False).head(len(target_papers_df))\n",
    "\n",
    "top_predictions_meta.groupby('target')['Paper_ID'].count()"
   ]
  },
  {
   "cell_type": "code",
   "execution_count": 41,
   "metadata": {
    "scrolled": true
   },
   "outputs": [
    {
     "name": "stdout",
     "output_type": "stream",
     "text": [
      "0.9589185547168299\n",
      "0.9789305864621148\n"
     ]
    },
    {
     "ename": "NameError",
     "evalue": "name '_y_pred_proba' is not defined",
     "output_type": "error",
     "traceback": [
      "\u001b[0;31m---------------------------------------------------------------------------\u001b[0m",
      "\u001b[0;31mNameError\u001b[0m                                 Traceback (most recent call last)",
      "\u001b[0;32m<ipython-input-41-21c53b25eca9>\u001b[0m in \u001b[0;36m<module>\u001b[0;34m()\u001b[0m\n\u001b[1;32m      2\u001b[0m \u001b[0mprint\u001b[0m\u001b[0;34m(\u001b[0m\u001b[0mroc_auc_score\u001b[0m\u001b[0;34m(\u001b[0m\u001b[0my\u001b[0m\u001b[0;34m,\u001b[0m \u001b[0my_pred_proba\u001b[0m\u001b[0;34m)\u001b[0m\u001b[0;34m)\u001b[0m\u001b[0;34m\u001b[0m\u001b[0m\n\u001b[1;32m      3\u001b[0m \u001b[0mprint\u001b[0m\u001b[0;34m(\u001b[0m\u001b[0mroc_auc_score\u001b[0m\u001b[0;34m(\u001b[0m\u001b[0my\u001b[0m\u001b[0;34m,\u001b[0m \u001b[0my_pred_proba_meta\u001b[0m\u001b[0;34m)\u001b[0m\u001b[0;34m)\u001b[0m\u001b[0;34m\u001b[0m\u001b[0m\n\u001b[0;32m----> 4\u001b[0;31m \u001b[0mprint\u001b[0m\u001b[0;34m(\u001b[0m\u001b[0mroc_auc_score\u001b[0m\u001b[0;34m(\u001b[0m\u001b[0my\u001b[0m\u001b[0;34m,\u001b[0m \u001b[0m_y_pred_proba\u001b[0m\u001b[0;34m)\u001b[0m\u001b[0;34m)\u001b[0m\u001b[0;34m\u001b[0m\u001b[0m\n\u001b[0m",
      "\u001b[0;31mNameError\u001b[0m: name '_y_pred_proba' is not defined"
     ]
    }
   ],
   "source": [
    "from sklearn.metrics import roc_auc_score\n",
    "print(roc_auc_score(y, y_pred_proba))\n",
    "print(roc_auc_score(y, y_pred_proba_meta))\n",
    "print(roc_auc_score(y, _y_pred_proba))"
   ]
  },
  {
   "cell_type": "code",
   "execution_count": null,
   "metadata": {},
   "outputs": [],
   "source": []
  }
 ],
 "metadata": {
  "kernelspec": {
   "display_name": "autoreview_venv",
   "language": "python",
   "name": "autoreview_venv"
  },
  "language_info": {
   "codemirror_mode": {
    "name": "ipython",
    "version": 3
   },
   "file_extension": ".py",
   "mimetype": "text/x-python",
   "name": "python",
   "nbconvert_exporter": "python",
   "pygments_lexer": "ipython3",
   "version": "3.5.2"
  }
 },
 "nbformat": 4,
 "nbformat_minor": 2
}
