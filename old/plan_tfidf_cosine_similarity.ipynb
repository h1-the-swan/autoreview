{
 "cells": [
  {
   "cell_type": "code",
   "execution_count": 1,
   "metadata": {},
   "outputs": [],
   "source": [
    "import sys, os, time, pickle\n",
    "from timeit import default_timer as timer\n",
    "from humanfriendly import format_timespan"
   ]
  },
  {
   "cell_type": "code",
   "execution_count": 2,
   "metadata": {},
   "outputs": [],
   "source": [
    "import pandas as pd\n",
    "import numpy as np"
   ]
  },
  {
   "cell_type": "code",
   "execution_count": 24,
   "metadata": {},
   "outputs": [],
   "source": [
    "from sklearn.linear_model import LogisticRegression\n",
    "from sklearn.svm import SVC\n",
    "from sklearn.model_selection import train_test_split"
   ]
  },
  {
   "cell_type": "code",
   "execution_count": 26,
   "metadata": {},
   "outputs": [],
   "source": [
    "from sklearn.base import BaseEstimator, TransformerMixin\n",
    "from sklearn.pipeline import Pipeline, FeatureUnion\n",
    "from sklearn.feature_extraction import DictVectorizer\n",
    "from sklearn.feature_extraction.text import TfidfVectorizer, TfidfTransformer, CountVectorizer\n",
    "from sklearn.metrics import classification_report"
   ]
  },
  {
   "cell_type": "code",
   "execution_count": 3,
   "metadata": {},
   "outputs": [
    {
     "data": {
      "text/plain": [
       "True"
      ]
     },
     "execution_count": 3,
     "metadata": {},
     "output_type": "execute_result"
    }
   ],
   "source": [
    "from dotenv import load_dotenv\n",
    "load_dotenv('admin.env')"
   ]
  },
  {
   "cell_type": "code",
   "execution_count": 4,
   "metadata": {},
   "outputs": [],
   "source": [
    "from db_connect_mag import Session, Paper, PaperAuthorAffiliation, db"
   ]
  },
  {
   "cell_type": "code",
   "execution_count": 5,
   "metadata": {},
   "outputs": [],
   "source": [
    "# test_papers_df = pd.read_pickle('data/collect_haystack_20180409/test_papers.pickle')\n",
    "# target_papers_df = pd.read_pickle('data/collect_haystack_20180409/target_papers.pickle')\n",
    "# train_papers_df = pd.read_pickle('data/collect_haystack_20180409/train_papers.pickle')"
   ]
  },
  {
   "cell_type": "code",
   "execution_count": 6,
   "metadata": {},
   "outputs": [
    {
     "name": "stdout",
     "output_type": "stream",
     "text": [
      "10.88 seconds\n"
     ]
    }
   ],
   "source": [
    "# this is the data for the fortunato review on Community Detection in Graphs\n",
    "start = timer()\n",
    "test_papers_df = pd.read_pickle('data/collect_haystack_20180409_2/test_papers.pickle')\n",
    "target_papers_df = pd.read_pickle('data/collect_haystack_20180409_2/target_papers.pickle')\n",
    "train_papers_df = pd.read_pickle('data/collect_haystack_20180409_2/train_papers.pickle')\n",
    "print(format_timespan(timer()-start))"
   ]
  },
  {
   "cell_type": "code",
   "execution_count": 7,
   "metadata": {},
   "outputs": [],
   "source": [
    "with open('data/collect_haystack_20180409_2/counter.pickle', 'rb') as f:\n",
    "    c = pickle.load(f)"
   ]
  },
  {
   "cell_type": "code",
   "execution_count": 8,
   "metadata": {},
   "outputs": [
    {
     "data": {
      "text/plain": [
       "397"
      ]
     },
     "execution_count": 8,
     "metadata": {},
     "output_type": "execute_result"
    }
   ],
   "source": [
    "def get_target_in_test(test, target, id_colname='Paper_ID'):\n",
    "    return set.intersection(set(test[id_colname]), set(target[id_colname]))\n",
    "len(get_target_in_test(test_papers_df, target_papers_df))"
   ]
  },
  {
   "cell_type": "code",
   "execution_count": 9,
   "metadata": {},
   "outputs": [
    {
     "data": {
      "text/plain": [
       "397"
      ]
     },
     "execution_count": 9,
     "metadata": {},
     "output_type": "execute_result"
    }
   ],
   "source": [
    "len(target_papers_df)"
   ]
  },
  {
   "cell_type": "code",
   "execution_count": 14,
   "metadata": {},
   "outputs": [],
   "source": [
    "test_subset = test_papers_df.sample(n=100000)"
   ]
  },
  {
   "cell_type": "code",
   "execution_count": 15,
   "metadata": {},
   "outputs": [
    {
     "data": {
      "text/plain": [
       "18"
      ]
     },
     "execution_count": 15,
     "metadata": {},
     "output_type": "execute_result"
    }
   ],
   "source": [
    "len(get_target_in_test(test_subset, target_papers_df))"
   ]
  },
  {
   "cell_type": "code",
   "execution_count": 16,
   "metadata": {},
   "outputs": [
    {
     "name": "stdout",
     "output_type": "stream",
     "text": [
      "removed 0 seed papers from the haystack. size of haystack: 100000\n"
     ]
    }
   ],
   "source": [
    "# remove the train (seed) papers from the test set (haystack)\n",
    "n_before = len(test_subset)\n",
    "test_subset = test_subset.drop(train_papers_df.index, errors='ignore')\n",
    "n_after = len(test_subset)\n",
    "print(\"removed {} seed papers from the haystack. size of haystack: {}\".format(n_before-n_after, n_after))"
   ]
  },
  {
   "cell_type": "code",
   "execution_count": 17,
   "metadata": {},
   "outputs": [
    {
     "name": "stdout",
     "output_type": "stream",
     "text": [
      "0.52 seconds\n"
     ]
    }
   ],
   "source": [
    "start = timer()\n",
    "target_ids = set(target_papers_df.Paper_ID)\n",
    "test_papers_df['target'] = test_subset.Paper_ID.apply(lambda x: x in target_ids)\n",
    "print(format_timespan(timer()-start))"
   ]
  },
  {
   "cell_type": "code",
   "execution_count": 19,
   "metadata": {},
   "outputs": [],
   "source": [
    "# def tree_distance(n1, n2, sep=\":\"):\n",
    "#     # https://en.wikipedia.org/wiki/Lowest_common_ancestor\n",
    "#     # the distance from v to w can be computed as \n",
    "#     # the distance from the root to v, plus the distance from \n",
    "#     # the root to w, minus twice the distance from \n",
    "#     # the root to their lowest common ancestor\n",
    "#     v, w = [n.split(sep) for n in [n1, n2]]\n",
    "#     distance_root_to_v = len(v)\n",
    "#     distance_root_to_w = len(w)\n",
    "    \n",
    "#     distance_root_to_lca = 0\n",
    "#     for i in range(min(distance_root_to_v, distance_root_to_w)):\n",
    "#         if v[i] == w[i]:\n",
    "#             distance_root_to_lca += 1\n",
    "#         else:\n",
    "#             break\n",
    "#     return distance_root_to_v + distance_root_to_w - (2*distance_root_to_lca)"
   ]
  },
  {
   "cell_type": "code",
   "execution_count": 20,
   "metadata": {},
   "outputs": [],
   "source": [
    "def tree_distance(n1, n2, sep=\":\"):\n",
    "    # since depth is sort of arbitrary, let's try this\n",
    "    v, w = [n.split(sep) for n in [n1, n2]]\n",
    "    distance_root_to_v = len(v)\n",
    "    distance_root_to_w = len(w)\n",
    "    avg_depth = (distance_root_to_v + distance_root_to_w) * .5\n",
    "    \n",
    "    distance_root_to_lca = 0\n",
    "    for i in range(min(distance_root_to_v, distance_root_to_w)):\n",
    "        if v[i] == w[i]:\n",
    "            distance_root_to_lca += 1\n",
    "        else:\n",
    "            break\n",
    "    return (avg_depth - distance_root_to_lca) / avg_depth"
   ]
  },
  {
   "cell_type": "code",
   "execution_count": 21,
   "metadata": {},
   "outputs": [],
   "source": [
    "def avg_distance(cl, cl_group):\n",
    "    distances = []\n",
    "    for x in cl_group:\n",
    "        distances.append(tree_distance(cl, x))\n",
    "    return sum(distances) / len(distances)"
   ]
  },
  {
   "cell_type": "code",
   "execution_count": 22,
   "metadata": {},
   "outputs": [
    {
     "name": "stdout",
     "output_type": "stream",
     "text": [
      "dropped 6605 rows\n"
     ]
    }
   ],
   "source": [
    "n_before = len(test_subset)\n",
    "test_subset = test_subset.dropna(subset=['title'])\n",
    "n_after = len(test_subset)\n",
    "print(\"dropped {} rows\".format(n_before-n_after))"
   ]
  },
  {
   "cell_type": "code",
   "execution_count": 82,
   "metadata": {},
   "outputs": [],
   "source": [
    "test_subset = test_subset.reset_index()"
   ]
  },
  {
   "cell_type": "code",
   "execution_count": 83,
   "metadata": {},
   "outputs": [
    {
     "name": "stdout",
     "output_type": "stream",
     "text": [
      "1.33 second\n"
     ]
    }
   ],
   "source": [
    "start = timer()\n",
    "vect = CountVectorizer()\n",
    "data = test_subset.title.append(train_papers_df.title).tolist()\n",
    "vect.fit(data)\n",
    "\n",
    "print(format_timespan(timer()-start))"
   ]
  },
  {
   "cell_type": "code",
   "execution_count": 84,
   "metadata": {},
   "outputs": [
    {
     "name": "stdout",
     "output_type": "stream",
     "text": [
      "0 seconds\n"
     ]
    }
   ],
   "source": [
    "start = timer()\n",
    "tf_train = vect.transform(train_papers_df.title.tolist())\n",
    "print(format_timespan(timer()-start))"
   ]
  },
  {
   "cell_type": "code",
   "execution_count": 85,
   "metadata": {},
   "outputs": [
    {
     "name": "stdout",
     "output_type": "stream",
     "text": [
      "1.16 second\n"
     ]
    }
   ],
   "source": [
    "start = timer()\n",
    "tf_test = vect.transform(test_subset.title.tolist())\n",
    "print(format_timespan(timer()-start))"
   ]
  },
  {
   "cell_type": "code",
   "execution_count": 86,
   "metadata": {},
   "outputs": [
    {
     "name": "stdout",
     "output_type": "stream",
     "text": [
      "1.66 second\n"
     ]
    }
   ],
   "source": [
    "start = timer()\n",
    "tf_global = vect.transform(data)\n",
    "print(format_timespan(timer()-start))"
   ]
  },
  {
   "cell_type": "code",
   "execution_count": 87,
   "metadata": {},
   "outputs": [
    {
     "data": {
      "text/plain": [
       "TfidfTransformer(norm='l2', smooth_idf=True, sublinear_tf=False, use_idf=True)"
      ]
     },
     "execution_count": 87,
     "metadata": {},
     "output_type": "execute_result"
    }
   ],
   "source": [
    "tf_transform = TfidfTransformer()\n",
    "tf_transform.fit(tf_global)"
   ]
  },
  {
   "cell_type": "code",
   "execution_count": 88,
   "metadata": {},
   "outputs": [],
   "source": [
    "tfidf_train = tf_transform.transform(tf_train)"
   ]
  },
  {
   "cell_type": "code",
   "execution_count": 90,
   "metadata": {},
   "outputs": [],
   "source": [
    "tfidf_test = tf_transform.transform(tf_test)"
   ]
  },
  {
   "cell_type": "code",
   "execution_count": 92,
   "metadata": {},
   "outputs": [
    {
     "data": {
      "text/plain": [
       "(93395, 50876)"
      ]
     },
     "execution_count": 92,
     "metadata": {},
     "output_type": "execute_result"
    }
   ],
   "source": [
    "tfidf_test.shape"
   ]
  },
  {
   "cell_type": "code",
   "execution_count": 94,
   "metadata": {},
   "outputs": [],
   "source": [
    "from sklearn.metrics.pairwise import cosine_similarity"
   ]
  },
  {
   "cell_type": "code",
   "execution_count": 95,
   "metadata": {},
   "outputs": [],
   "source": [
    "csims = cosine_similarity(tfidf_test, tfidf_train.mean(axis=0))"
   ]
  },
  {
   "cell_type": "code",
   "execution_count": 97,
   "metadata": {},
   "outputs": [],
   "source": [
    "test_subset = test_subset.join(pd.Series(csims.flatten(), name='title_tfidf_cosine_similarity'))"
   ]
  },
  {
   "cell_type": "code",
   "execution_count": 99,
   "metadata": {},
   "outputs": [
    {
     "data": {
      "text/html": [
       "<div>\n",
       "<style scoped>\n",
       "    .dataframe tbody tr th:only-of-type {\n",
       "        vertical-align: middle;\n",
       "    }\n",
       "\n",
       "    .dataframe tbody tr th {\n",
       "        vertical-align: top;\n",
       "    }\n",
       "\n",
       "    .dataframe thead th {\n",
       "        text-align: right;\n",
       "    }\n",
       "</style>\n",
       "<table border=\"1\" class=\"dataframe\">\n",
       "  <thead>\n",
       "    <tr style=\"text-align: right;\">\n",
       "      <th></th>\n",
       "      <th>index</th>\n",
       "      <th>EF</th>\n",
       "      <th>Paper_ID</th>\n",
       "      <th>cl</th>\n",
       "      <th>title</th>\n",
       "      <th>year</th>\n",
       "      <th>title_tfidf_cosine_similarity</th>\n",
       "    </tr>\n",
       "  </thead>\n",
       "  <tbody>\n",
       "    <tr>\n",
       "      <th>59445</th>\n",
       "      <td>1171939</td>\n",
       "      <td>7.707870e-09</td>\n",
       "      <td>2092102472</td>\n",
       "      <td>3372652:1:1:1281</td>\n",
       "      <td>detection of community structure in networks b...</td>\n",
       "      <td>2012.0</td>\n",
       "      <td>0.583353</td>\n",
       "    </tr>\n",
       "    <tr>\n",
       "      <th>3435</th>\n",
       "      <td>107272</td>\n",
       "      <td>1.992670e-06</td>\n",
       "      <td>2095293504</td>\n",
       "      <td>3372652:1:1:2</td>\n",
       "      <td>finding and evaluating community structure in ...</td>\n",
       "      <td>2004.0</td>\n",
       "      <td>0.582090</td>\n",
       "    </tr>\n",
       "    <tr>\n",
       "      <th>38142</th>\n",
       "      <td>166307</td>\n",
       "      <td>5.605830e-09</td>\n",
       "      <td>2483140568</td>\n",
       "      <td>1115862:1</td>\n",
       "      <td>community detection in social networks</td>\n",
       "      <td>2015.0</td>\n",
       "      <td>0.528806</td>\n",
       "    </tr>\n",
       "    <tr>\n",
       "      <th>89978</th>\n",
       "      <td>1528215</td>\n",
       "      <td>5.434740e-09</td>\n",
       "      <td>2554784184</td>\n",
       "      <td>3372652:1:1:2817</td>\n",
       "      <td>evolutionary community detection in complex an...</td>\n",
       "      <td>2016.0</td>\n",
       "      <td>0.522203</td>\n",
       "    </tr>\n",
       "    <tr>\n",
       "      <th>39834</th>\n",
       "      <td>79044</td>\n",
       "      <td>1.703530e-08</td>\n",
       "      <td>2032721088</td>\n",
       "      <td>902576:3:10</td>\n",
       "      <td>o r in the community</td>\n",
       "      <td>1981.0</td>\n",
       "      <td>0.516389</td>\n",
       "    </tr>\n",
       "    <tr>\n",
       "      <th>57222</th>\n",
       "      <td>1268234</td>\n",
       "      <td>6.230730e-09</td>\n",
       "      <td>2053229448</td>\n",
       "      <td>3372652:1:1:1613</td>\n",
       "      <td>finding community structure in spatially const...</td>\n",
       "      <td>2015.0</td>\n",
       "      <td>0.513658</td>\n",
       "    </tr>\n",
       "    <tr>\n",
       "      <th>86563</th>\n",
       "      <td>123169</td>\n",
       "      <td>1.621630e-08</td>\n",
       "      <td>2026143132</td>\n",
       "      <td>22916:2:2:9</td>\n",
       "      <td>adaptive clustering algorithm for community de...</td>\n",
       "      <td>2008.0</td>\n",
       "      <td>0.513363</td>\n",
       "    </tr>\n",
       "    <tr>\n",
       "      <th>50236</th>\n",
       "      <td>1599825</td>\n",
       "      <td>7.191750e-09</td>\n",
       "      <td>2014541072</td>\n",
       "      <td>3372652:1:1:665</td>\n",
       "      <td>detecting the community structure in complex n...</td>\n",
       "      <td>2008.0</td>\n",
       "      <td>0.493491</td>\n",
       "    </tr>\n",
       "    <tr>\n",
       "      <th>24901</th>\n",
       "      <td>2541308</td>\n",
       "      <td>5.525310e-09</td>\n",
       "      <td>2616094075</td>\n",
       "      <td>3372652:1:1:2732</td>\n",
       "      <td>adaptive community detection in complex networ...</td>\n",
       "      <td>2017.0</td>\n",
       "      <td>0.480367</td>\n",
       "    </tr>\n",
       "    <tr>\n",
       "      <th>30605</th>\n",
       "      <td>144134</td>\n",
       "      <td>6.579060e-08</td>\n",
       "      <td>125376580</td>\n",
       "      <td>3372652:1:1:65</td>\n",
       "      <td>an algorithm to find overlapping community str...</td>\n",
       "      <td>2007.0</td>\n",
       "      <td>0.470975</td>\n",
       "    </tr>\n",
       "    <tr>\n",
       "      <th>70668</th>\n",
       "      <td>1174736</td>\n",
       "      <td>8.005310e-09</td>\n",
       "      <td>2093067948</td>\n",
       "      <td>3372652:1:1:982</td>\n",
       "      <td>clustering dynamics of complex discrete time n...</td>\n",
       "      <td>2014.0</td>\n",
       "      <td>0.470036</td>\n",
       "    </tr>\n",
       "    <tr>\n",
       "      <th>93332</th>\n",
       "      <td>2605656</td>\n",
       "      <td>5.951740e-09</td>\n",
       "      <td>2263392086</td>\n",
       "      <td>3372652:1:33:173</td>\n",
       "      <td>centrality measures for networks with communit...</td>\n",
       "      <td>2016.0</td>\n",
       "      <td>0.467516</td>\n",
       "    </tr>\n",
       "    <tr>\n",
       "      <th>86276</th>\n",
       "      <td>1959918</td>\n",
       "      <td>7.416540e-09</td>\n",
       "      <td>1994508398</td>\n",
       "      <td>55582:12:22</td>\n",
       "      <td>pinning controllability of complex networks wi...</td>\n",
       "      <td>2013.0</td>\n",
       "      <td>0.445316</td>\n",
       "    </tr>\n",
       "    <tr>\n",
       "      <th>8875</th>\n",
       "      <td>2236503</td>\n",
       "      <td>7.979660e-09</td>\n",
       "      <td>2040379910</td>\n",
       "      <td>3372652:1:1:566</td>\n",
       "      <td>detecting community structure in networks usin...</td>\n",
       "      <td>2012.0</td>\n",
       "      <td>0.444869</td>\n",
       "    </tr>\n",
       "    <tr>\n",
       "      <th>35204</th>\n",
       "      <td>2423892</td>\n",
       "      <td>6.340590e-09</td>\n",
       "      <td>2076272170</td>\n",
       "      <td>3372652:1:1:1173</td>\n",
       "      <td>density based modularity for evaluating commun...</td>\n",
       "      <td>2015.0</td>\n",
       "      <td>0.443443</td>\n",
       "    </tr>\n",
       "    <tr>\n",
       "      <th>59684</th>\n",
       "      <td>2531842</td>\n",
       "      <td>5.434740e-09</td>\n",
       "      <td>2479105263</td>\n",
       "      <td>3431446:2:26:18</td>\n",
       "      <td>connectivity and structure in large networks</td>\n",
       "      <td>2016.0</td>\n",
       "      <td>0.436100</td>\n",
       "    </tr>\n",
       "    <tr>\n",
       "      <th>6814</th>\n",
       "      <td>484385</td>\n",
       "      <td>6.185410e-09</td>\n",
       "      <td>2363939925</td>\n",
       "      <td>3372652:1:1:1807</td>\n",
       "      <td>detecting community in complex networks using ...</td>\n",
       "      <td>2009.0</td>\n",
       "      <td>0.435543</td>\n",
       "    </tr>\n",
       "    <tr>\n",
       "      <th>74288</th>\n",
       "      <td>1851430</td>\n",
       "      <td>2.346900e-08</td>\n",
       "      <td>2161229014</td>\n",
       "      <td>488833:1</td>\n",
       "      <td>community and virtual community</td>\n",
       "      <td>2005.0</td>\n",
       "      <td>0.423742</td>\n",
       "    </tr>\n",
       "    <tr>\n",
       "      <th>57809</th>\n",
       "      <td>2249276</td>\n",
       "      <td>6.098770e-09</td>\n",
       "      <td>1772104138</td>\n",
       "      <td>3372652:1:1:1347</td>\n",
       "      <td>model based clustering in networks with stocha...</td>\n",
       "      <td>2012.0</td>\n",
       "      <td>0.421036</td>\n",
       "    </tr>\n",
       "    <tr>\n",
       "      <th>80339</th>\n",
       "      <td>1804752</td>\n",
       "      <td>5.434740e-09</td>\n",
       "      <td>248094817</td>\n",
       "      <td>3372652:1:1:3671</td>\n",
       "      <td>an energy model for network community structur...</td>\n",
       "      <td>2013.0</td>\n",
       "      <td>0.412714</td>\n",
       "    </tr>\n",
       "    <tr>\n",
       "      <th>88966</th>\n",
       "      <td>1284477</td>\n",
       "      <td>7.122460e-09</td>\n",
       "      <td>2292103443</td>\n",
       "      <td>3372652:1:73:31</td>\n",
       "      <td>predicting community evolution in social networks</td>\n",
       "      <td>2015.0</td>\n",
       "      <td>0.410431</td>\n",
       "    </tr>\n",
       "    <tr>\n",
       "      <th>8773</th>\n",
       "      <td>2421612</td>\n",
       "      <td>5.558220e-09</td>\n",
       "      <td>124672703</td>\n",
       "      <td>3372652:1:1:4102</td>\n",
       "      <td>the small community phenomenon in networks mod...</td>\n",
       "      <td>2012.0</td>\n",
       "      <td>0.409344</td>\n",
       "    </tr>\n",
       "    <tr>\n",
       "      <th>35980</th>\n",
       "      <td>2563524</td>\n",
       "      <td>7.150560e-09</td>\n",
       "      <td>1966350077</td>\n",
       "      <td>3372652:1:1:926</td>\n",
       "      <td>community detection in social networks using i...</td>\n",
       "      <td>2012.0</td>\n",
       "      <td>0.409186</td>\n",
       "    </tr>\n",
       "    <tr>\n",
       "      <th>38689</th>\n",
       "      <td>1486030</td>\n",
       "      <td>6.708860e-09</td>\n",
       "      <td>2087812679</td>\n",
       "      <td>3372652:1:13:84</td>\n",
       "      <td>sampling from complex networks with high commu...</td>\n",
       "      <td>2012.0</td>\n",
       "      <td>0.406996</td>\n",
       "    </tr>\n",
       "    <tr>\n",
       "      <th>29561</th>\n",
       "      <td>1623132</td>\n",
       "      <td>5.927570e-09</td>\n",
       "      <td>1489232115</td>\n",
       "      <td>3372652:1:1:1615</td>\n",
       "      <td>community detection for multiplex social netwo...</td>\n",
       "      <td>2014.0</td>\n",
       "      <td>0.402372</td>\n",
       "    </tr>\n",
       "    <tr>\n",
       "      <th>24081</th>\n",
       "      <td>2445764</td>\n",
       "      <td>6.861000e-09</td>\n",
       "      <td>77450235</td>\n",
       "      <td>3372652:1:13:248</td>\n",
       "      <td>knowledge networks structure and dynamics</td>\n",
       "      <td>2009.0</td>\n",
       "      <td>0.401402</td>\n",
       "    </tr>\n",
       "    <tr>\n",
       "      <th>20451</th>\n",
       "      <td>2380349</td>\n",
       "      <td>5.434740e-09</td>\n",
       "      <td>1517475404</td>\n",
       "      <td>3372652:1:1:2672</td>\n",
       "      <td>a community detection algorithm based on commu...</td>\n",
       "      <td>2015.0</td>\n",
       "      <td>0.400720</td>\n",
       "    </tr>\n",
       "    <tr>\n",
       "      <th>75390</th>\n",
       "      <td>2571148</td>\n",
       "      <td>6.876600e-09</td>\n",
       "      <td>1973523034</td>\n",
       "      <td>3372652:1:1:802</td>\n",
       "      <td>uncovering the overlapping community structure...</td>\n",
       "      <td>2014.0</td>\n",
       "      <td>0.395570</td>\n",
       "    </tr>\n",
       "    <tr>\n",
       "      <th>18261</th>\n",
       "      <td>2384008</td>\n",
       "      <td>5.612750e-09</td>\n",
       "      <td>1608499393</td>\n",
       "      <td>3372652:1:1:2032</td>\n",
       "      <td>community detection in multiplex social networks</td>\n",
       "      <td>2015.0</td>\n",
       "      <td>0.395433</td>\n",
       "    </tr>\n",
       "    <tr>\n",
       "      <th>43301</th>\n",
       "      <td>2433125</td>\n",
       "      <td>5.888440e-09</td>\n",
       "      <td>2076507994</td>\n",
       "      <td>3372652:1:1:1814</td>\n",
       "      <td>community structure identification a probabili...</td>\n",
       "      <td>2009.0</td>\n",
       "      <td>0.391584</td>\n",
       "    </tr>\n",
       "    <tr>\n",
       "      <th>...</th>\n",
       "      <td>...</td>\n",
       "      <td>...</td>\n",
       "      <td>...</td>\n",
       "      <td>...</td>\n",
       "      <td>...</td>\n",
       "      <td>...</td>\n",
       "      <td>...</td>\n",
       "    </tr>\n",
       "    <tr>\n",
       "      <th>63808</th>\n",
       "      <td>1838084</td>\n",
       "      <td>1.628660e-07</td>\n",
       "      <td>1547114826</td>\n",
       "      <td>40225:2</td>\n",
       "      <td>dive into python 3</td>\n",
       "      <td>2004.0</td>\n",
       "      <td>0.000000</td>\n",
       "    </tr>\n",
       "    <tr>\n",
       "      <th>12777</th>\n",
       "      <td>114989</td>\n",
       "      <td>5.434740e-09</td>\n",
       "      <td>2273288795</td>\n",
       "      <td>1305651:3:1</td>\n",
       "      <td>building services standard solutions</td>\n",
       "      <td>2001.0</td>\n",
       "      <td>0.000000</td>\n",
       "    </tr>\n",
       "    <tr>\n",
       "      <th>78879</th>\n",
       "      <td>1857288</td>\n",
       "      <td>5.434740e-09</td>\n",
       "      <td>2285746040</td>\n",
       "      <td>3895735:5:3447</td>\n",
       "      <td>marker fur brustkrebs</td>\n",
       "      <td>2006.0</td>\n",
       "      <td>0.000000</td>\n",
       "    </tr>\n",
       "    <tr>\n",
       "      <th>50614</th>\n",
       "      <td>1039678</td>\n",
       "      <td>5.733140e-08</td>\n",
       "      <td>1699825480</td>\n",
       "      <td>1303141:16:6</td>\n",
       "      <td>benchmarking spatial joins a la carte</td>\n",
       "      <td>1998.0</td>\n",
       "      <td>0.000000</td>\n",
       "    </tr>\n",
       "    <tr>\n",
       "      <th>50616</th>\n",
       "      <td>765504</td>\n",
       "      <td>8.328690e-09</td>\n",
       "      <td>2187141778</td>\n",
       "      <td>2673051:2:8:2</td>\n",
       "      <td>trace asymptotics via almost analytic extensions</td>\n",
       "      <td>1996.0</td>\n",
       "      <td>0.000000</td>\n",
       "    </tr>\n",
       "    <tr>\n",
       "      <th>25961</th>\n",
       "      <td>1611503</td>\n",
       "      <td>6.846780e-09</td>\n",
       "      <td>2330768632</td>\n",
       "      <td>746760:15:1</td>\n",
       "      <td>behavioural complexity behavioural complexity</td>\n",
       "      <td>2011.0</td>\n",
       "      <td>0.000000</td>\n",
       "    </tr>\n",
       "    <tr>\n",
       "      <th>88388</th>\n",
       "      <td>918456</td>\n",
       "      <td>6.013200e-09</td>\n",
       "      <td>1701043026</td>\n",
       "      <td>1655364:1:2358</td>\n",
       "      <td>multivariate elliptic processes</td>\n",
       "      <td>2010.0</td>\n",
       "      <td>0.000000</td>\n",
       "    </tr>\n",
       "    <tr>\n",
       "      <th>4311</th>\n",
       "      <td>1507975</td>\n",
       "      <td>8.386350e-09</td>\n",
       "      <td>850488429</td>\n",
       "      <td>56851:8:146</td>\n",
       "      <td>analise e modelizacao de problemas de localiza...</td>\n",
       "      <td>2004.0</td>\n",
       "      <td>0.000000</td>\n",
       "    </tr>\n",
       "    <tr>\n",
       "      <th>25948</th>\n",
       "      <td>1885608</td>\n",
       "      <td>1.578210e-08</td>\n",
       "      <td>2153664306</td>\n",
       "      <td>651907:17:48</td>\n",
       "      <td>understanding vertebrate brain evolution</td>\n",
       "      <td>2002.0</td>\n",
       "      <td>0.000000</td>\n",
       "    </tr>\n",
       "    <tr>\n",
       "      <th>88422</th>\n",
       "      <td>46106</td>\n",
       "      <td>5.598470e-09</td>\n",
       "      <td>1510335289</td>\n",
       "      <td>753060:3:544</td>\n",
       "      <td>les conditions de travail au quebec une analys...</td>\n",
       "      <td>2013.0</td>\n",
       "      <td>0.000000</td>\n",
       "    </tr>\n",
       "    <tr>\n",
       "      <th>50583</th>\n",
       "      <td>2115017</td>\n",
       "      <td>5.557800e-09</td>\n",
       "      <td>2134635126</td>\n",
       "      <td>36925:1:549</td>\n",
       "      <td>what atypical adults can teach us about develo...</td>\n",
       "      <td>2015.0</td>\n",
       "      <td>0.000000</td>\n",
       "    </tr>\n",
       "    <tr>\n",
       "      <th>25931</th>\n",
       "      <td>509736</td>\n",
       "      <td>9.084160e-09</td>\n",
       "      <td>2126371981</td>\n",
       "      <td>23870:2:221</td>\n",
       "      <td>emergent neutrality drives phytoplankton speci...</td>\n",
       "      <td>2011.0</td>\n",
       "      <td>0.000000</td>\n",
       "    </tr>\n",
       "    <tr>\n",
       "      <th>78797</th>\n",
       "      <td>2491538</td>\n",
       "      <td>1.642870e-08</td>\n",
       "      <td>2095909770</td>\n",
       "      <td>681239:44:9</td>\n",
       "      <td>contact dermatitis a practice parameter</td>\n",
       "      <td>2006.0</td>\n",
       "      <td>0.000000</td>\n",
       "    </tr>\n",
       "    <tr>\n",
       "      <th>63903</th>\n",
       "      <td>1501244</td>\n",
       "      <td>3.394040e-08</td>\n",
       "      <td>1983519908</td>\n",
       "      <td>16393:3:66</td>\n",
       "      <td>a clock work somite</td>\n",
       "      <td>2000.0</td>\n",
       "      <td>0.000000</td>\n",
       "    </tr>\n",
       "    <tr>\n",
       "      <th>88464</th>\n",
       "      <td>724700</td>\n",
       "      <td>5.434740e-09</td>\n",
       "      <td>2574926767</td>\n",
       "      <td>96080:11:93</td>\n",
       "      <td>unsupervised storyline extraction from news ar...</td>\n",
       "      <td>2016.0</td>\n",
       "      <td>0.000000</td>\n",
       "    </tr>\n",
       "    <tr>\n",
       "      <th>63894</th>\n",
       "      <td>666836</td>\n",
       "      <td>6.204660e-09</td>\n",
       "      <td>289989577</td>\n",
       "      <td>684392:1:3:126</td>\n",
       "      <td>relational linear programs</td>\n",
       "      <td>2014.0</td>\n",
       "      <td>0.000000</td>\n",
       "    </tr>\n",
       "    <tr>\n",
       "      <th>4232</th>\n",
       "      <td>1753112</td>\n",
       "      <td>7.702160e-09</td>\n",
       "      <td>2213256377</td>\n",
       "      <td>204299:3:84</td>\n",
       "      <td>a novel perceptual secret sharing scheme</td>\n",
       "      <td>2014.0</td>\n",
       "      <td>0.000000</td>\n",
       "    </tr>\n",
       "    <tr>\n",
       "      <th>25875</th>\n",
       "      <td>1070080</td>\n",
       "      <td>3.282050e-08</td>\n",
       "      <td>2111319078</td>\n",
       "      <td>2412369:13:60</td>\n",
       "      <td>bruit bandwidth reservation under interference...</td>\n",
       "      <td>2001.0</td>\n",
       "      <td>0.000000</td>\n",
       "    </tr>\n",
       "    <tr>\n",
       "      <th>37693</th>\n",
       "      <td>525877</td>\n",
       "      <td>1.003080e-08</td>\n",
       "      <td>194344261</td>\n",
       "      <td>900403:22</td>\n",
       "      <td>optical transfer functions</td>\n",
       "      <td>1993.0</td>\n",
       "      <td>0.000000</td>\n",
       "    </tr>\n",
       "    <tr>\n",
       "      <th>25892</th>\n",
       "      <td>1274672</td>\n",
       "      <td>9.564180e-08</td>\n",
       "      <td>2070909433</td>\n",
       "      <td>37311:3:2:2</td>\n",
       "      <td>eeg classification by learning vector quantiza...</td>\n",
       "      <td>1992.0</td>\n",
       "      <td>0.000000</td>\n",
       "    </tr>\n",
       "    <tr>\n",
       "      <th>4250</th>\n",
       "      <td>171480</td>\n",
       "      <td>5.634510e-09</td>\n",
       "      <td>2034546095</td>\n",
       "      <td>48293:13:100</td>\n",
       "      <td>dark matter searches at lhc</td>\n",
       "      <td>2011.0</td>\n",
       "      <td>0.000000</td>\n",
       "    </tr>\n",
       "    <tr>\n",
       "      <th>37663</th>\n",
       "      <td>1934549</td>\n",
       "      <td>5.790080e-09</td>\n",
       "      <td>1595055854</td>\n",
       "      <td>2678893:5</td>\n",
       "      <td>광역도시권 설정방법에 관한 연구</td>\n",
       "      <td>2000.0</td>\n",
       "      <td>0.000000</td>\n",
       "    </tr>\n",
       "    <tr>\n",
       "      <th>63849</th>\n",
       "      <td>302438</td>\n",
       "      <td>1.142830e-07</td>\n",
       "      <td>1495157997</td>\n",
       "      <td>721278:20:6</td>\n",
       "      <td>a new look at causal independence</td>\n",
       "      <td>1994.0</td>\n",
       "      <td>0.000000</td>\n",
       "    </tr>\n",
       "    <tr>\n",
       "      <th>4263</th>\n",
       "      <td>1432361</td>\n",
       "      <td>5.390990e-08</td>\n",
       "      <td>2101653254</td>\n",
       "      <td>203873:7:6</td>\n",
       "      <td>asymptotically fair transmission scheduling ov...</td>\n",
       "      <td>2004.0</td>\n",
       "      <td>0.000000</td>\n",
       "    </tr>\n",
       "    <tr>\n",
       "      <th>25930</th>\n",
       "      <td>2181207</td>\n",
       "      <td>7.265430e-09</td>\n",
       "      <td>1560684300</td>\n",
       "      <td>333330:157:1</td>\n",
       "      <td>image encryption a communication perspective</td>\n",
       "      <td>2013.0</td>\n",
       "      <td>0.000000</td>\n",
       "    </tr>\n",
       "    <tr>\n",
       "      <th>78844</th>\n",
       "      <td>1478601</td>\n",
       "      <td>8.908970e-09</td>\n",
       "      <td>2007199417</td>\n",
       "      <td>1350034:14</td>\n",
       "      <td>making software agents user friendly</td>\n",
       "      <td>2006.0</td>\n",
       "      <td>0.000000</td>\n",
       "    </tr>\n",
       "    <tr>\n",
       "      <th>88436</th>\n",
       "      <td>2490425</td>\n",
       "      <td>5.749790e-08</td>\n",
       "      <td>1534895118</td>\n",
       "      <td>56460:2:131</td>\n",
       "      <td>radiosity a programmer s perspective</td>\n",
       "      <td>1994.0</td>\n",
       "      <td>0.000000</td>\n",
       "    </tr>\n",
       "    <tr>\n",
       "      <th>50575</th>\n",
       "      <td>2512034</td>\n",
       "      <td>1.261690e-06</td>\n",
       "      <td>2472214273</td>\n",
       "      <td>580501:1:1</td>\n",
       "      <td>applied physics letters</td>\n",
       "      <td>2012.0</td>\n",
       "      <td>0.000000</td>\n",
       "    </tr>\n",
       "    <tr>\n",
       "      <th>63845</th>\n",
       "      <td>702068</td>\n",
       "      <td>1.037860e-08</td>\n",
       "      <td>2100244678</td>\n",
       "      <td>2273214:8</td>\n",
       "      <td>missing prenatal records at a birth center a c...</td>\n",
       "      <td>2005.0</td>\n",
       "      <td>0.000000</td>\n",
       "    </tr>\n",
       "    <tr>\n",
       "      <th>43743</th>\n",
       "      <td>2409995</td>\n",
       "      <td>6.119030e-09</td>\n",
       "      <td>1964809704</td>\n",
       "      <td>1639630:5:28</td>\n",
       "      <td>double hashing thresholds via local weak conve...</td>\n",
       "      <td>2013.0</td>\n",
       "      <td>0.000000</td>\n",
       "    </tr>\n",
       "  </tbody>\n",
       "</table>\n",
       "<p>93395 rows × 7 columns</p>\n",
       "</div>"
      ],
      "text/plain": [
       "         index            EF    Paper_ID                cl  \\\n",
       "59445  1171939  7.707870e-09  2092102472  3372652:1:1:1281   \n",
       "3435    107272  1.992670e-06  2095293504     3372652:1:1:2   \n",
       "38142   166307  5.605830e-09  2483140568         1115862:1   \n",
       "89978  1528215  5.434740e-09  2554784184  3372652:1:1:2817   \n",
       "39834    79044  1.703530e-08  2032721088       902576:3:10   \n",
       "57222  1268234  6.230730e-09  2053229448  3372652:1:1:1613   \n",
       "86563   123169  1.621630e-08  2026143132       22916:2:2:9   \n",
       "50236  1599825  7.191750e-09  2014541072   3372652:1:1:665   \n",
       "24901  2541308  5.525310e-09  2616094075  3372652:1:1:2732   \n",
       "30605   144134  6.579060e-08   125376580    3372652:1:1:65   \n",
       "70668  1174736  8.005310e-09  2093067948   3372652:1:1:982   \n",
       "93332  2605656  5.951740e-09  2263392086  3372652:1:33:173   \n",
       "86276  1959918  7.416540e-09  1994508398       55582:12:22   \n",
       "8875   2236503  7.979660e-09  2040379910   3372652:1:1:566   \n",
       "35204  2423892  6.340590e-09  2076272170  3372652:1:1:1173   \n",
       "59684  2531842  5.434740e-09  2479105263   3431446:2:26:18   \n",
       "6814    484385  6.185410e-09  2363939925  3372652:1:1:1807   \n",
       "74288  1851430  2.346900e-08  2161229014          488833:1   \n",
       "57809  2249276  6.098770e-09  1772104138  3372652:1:1:1347   \n",
       "80339  1804752  5.434740e-09   248094817  3372652:1:1:3671   \n",
       "88966  1284477  7.122460e-09  2292103443   3372652:1:73:31   \n",
       "8773   2421612  5.558220e-09   124672703  3372652:1:1:4102   \n",
       "35980  2563524  7.150560e-09  1966350077   3372652:1:1:926   \n",
       "38689  1486030  6.708860e-09  2087812679   3372652:1:13:84   \n",
       "29561  1623132  5.927570e-09  1489232115  3372652:1:1:1615   \n",
       "24081  2445764  6.861000e-09    77450235  3372652:1:13:248   \n",
       "20451  2380349  5.434740e-09  1517475404  3372652:1:1:2672   \n",
       "75390  2571148  6.876600e-09  1973523034   3372652:1:1:802   \n",
       "18261  2384008  5.612750e-09  1608499393  3372652:1:1:2032   \n",
       "43301  2433125  5.888440e-09  2076507994  3372652:1:1:1814   \n",
       "...        ...           ...         ...               ...   \n",
       "63808  1838084  1.628660e-07  1547114826           40225:2   \n",
       "12777   114989  5.434740e-09  2273288795       1305651:3:1   \n",
       "78879  1857288  5.434740e-09  2285746040    3895735:5:3447   \n",
       "50614  1039678  5.733140e-08  1699825480      1303141:16:6   \n",
       "50616   765504  8.328690e-09  2187141778     2673051:2:8:2   \n",
       "25961  1611503  6.846780e-09  2330768632       746760:15:1   \n",
       "88388   918456  6.013200e-09  1701043026    1655364:1:2358   \n",
       "4311   1507975  8.386350e-09   850488429       56851:8:146   \n",
       "25948  1885608  1.578210e-08  2153664306      651907:17:48   \n",
       "88422    46106  5.598470e-09  1510335289      753060:3:544   \n",
       "50583  2115017  5.557800e-09  2134635126       36925:1:549   \n",
       "25931   509736  9.084160e-09  2126371981       23870:2:221   \n",
       "78797  2491538  1.642870e-08  2095909770       681239:44:9   \n",
       "63903  1501244  3.394040e-08  1983519908        16393:3:66   \n",
       "88464   724700  5.434740e-09  2574926767       96080:11:93   \n",
       "63894   666836  6.204660e-09   289989577    684392:1:3:126   \n",
       "4232   1753112  7.702160e-09  2213256377       204299:3:84   \n",
       "25875  1070080  3.282050e-08  2111319078     2412369:13:60   \n",
       "37693   525877  1.003080e-08   194344261         900403:22   \n",
       "25892  1274672  9.564180e-08  2070909433       37311:3:2:2   \n",
       "4250    171480  5.634510e-09  2034546095      48293:13:100   \n",
       "37663  1934549  5.790080e-09  1595055854         2678893:5   \n",
       "63849   302438  1.142830e-07  1495157997       721278:20:6   \n",
       "4263   1432361  5.390990e-08  2101653254        203873:7:6   \n",
       "25930  2181207  7.265430e-09  1560684300      333330:157:1   \n",
       "78844  1478601  8.908970e-09  2007199417        1350034:14   \n",
       "88436  2490425  5.749790e-08  1534895118       56460:2:131   \n",
       "50575  2512034  1.261690e-06  2472214273        580501:1:1   \n",
       "63845   702068  1.037860e-08  2100244678         2273214:8   \n",
       "43743  2409995  6.119030e-09  1964809704      1639630:5:28   \n",
       "\n",
       "                                                   title    year  \\\n",
       "59445  detection of community structure in networks b...  2012.0   \n",
       "3435   finding and evaluating community structure in ...  2004.0   \n",
       "38142             community detection in social networks  2015.0   \n",
       "89978  evolutionary community detection in complex an...  2016.0   \n",
       "39834                               o r in the community  1981.0   \n",
       "57222  finding community structure in spatially const...  2015.0   \n",
       "86563  adaptive clustering algorithm for community de...  2008.0   \n",
       "50236  detecting the community structure in complex n...  2008.0   \n",
       "24901  adaptive community detection in complex networ...  2017.0   \n",
       "30605  an algorithm to find overlapping community str...  2007.0   \n",
       "70668  clustering dynamics of complex discrete time n...  2014.0   \n",
       "93332  centrality measures for networks with communit...  2016.0   \n",
       "86276  pinning controllability of complex networks wi...  2013.0   \n",
       "8875   detecting community structure in networks usin...  2012.0   \n",
       "35204  density based modularity for evaluating commun...  2015.0   \n",
       "59684       connectivity and structure in large networks  2016.0   \n",
       "6814   detecting community in complex networks using ...  2009.0   \n",
       "74288                    community and virtual community  2005.0   \n",
       "57809  model based clustering in networks with stocha...  2012.0   \n",
       "80339  an energy model for network community structur...  2013.0   \n",
       "88966  predicting community evolution in social networks  2015.0   \n",
       "8773   the small community phenomenon in networks mod...  2012.0   \n",
       "35980  community detection in social networks using i...  2012.0   \n",
       "38689  sampling from complex networks with high commu...  2012.0   \n",
       "29561  community detection for multiplex social netwo...  2014.0   \n",
       "24081          knowledge networks structure and dynamics  2009.0   \n",
       "20451  a community detection algorithm based on commu...  2015.0   \n",
       "75390  uncovering the overlapping community structure...  2014.0   \n",
       "18261   community detection in multiplex social networks  2015.0   \n",
       "43301  community structure identification a probabili...  2009.0   \n",
       "...                                                  ...     ...   \n",
       "63808                                 dive into python 3  2004.0   \n",
       "12777               building services standard solutions  2001.0   \n",
       "78879                              marker fur brustkrebs  2006.0   \n",
       "50614              benchmarking spatial joins a la carte  1998.0   \n",
       "50616   trace asymptotics via almost analytic extensions  1996.0   \n",
       "25961      behavioural complexity behavioural complexity  2011.0   \n",
       "88388                    multivariate elliptic processes  2010.0   \n",
       "4311   analise e modelizacao de problemas de localiza...  2004.0   \n",
       "25948           understanding vertebrate brain evolution  2002.0   \n",
       "88422  les conditions de travail au quebec une analys...  2013.0   \n",
       "50583  what atypical adults can teach us about develo...  2015.0   \n",
       "25931  emergent neutrality drives phytoplankton speci...  2011.0   \n",
       "78797            contact dermatitis a practice parameter  2006.0   \n",
       "63903                                a clock work somite  2000.0   \n",
       "88464  unsupervised storyline extraction from news ar...  2016.0   \n",
       "63894                         relational linear programs  2014.0   \n",
       "4232            a novel perceptual secret sharing scheme  2014.0   \n",
       "25875  bruit bandwidth reservation under interference...  2001.0   \n",
       "37693                         optical transfer functions  1993.0   \n",
       "25892  eeg classification by learning vector quantiza...  1992.0   \n",
       "4250                         dark matter searches at lhc  2011.0   \n",
       "37663                                  광역도시권 설정방법에 관한 연구  2000.0   \n",
       "63849                  a new look at causal independence  1994.0   \n",
       "4263   asymptotically fair transmission scheduling ov...  2004.0   \n",
       "25930       image encryption a communication perspective  2013.0   \n",
       "78844               making software agents user friendly  2006.0   \n",
       "88436               radiosity a programmer s perspective  1994.0   \n",
       "50575                            applied physics letters  2012.0   \n",
       "63845  missing prenatal records at a birth center a c...  2005.0   \n",
       "43743  double hashing thresholds via local weak conve...  2013.0   \n",
       "\n",
       "       title_tfidf_cosine_similarity  \n",
       "59445                       0.583353  \n",
       "3435                        0.582090  \n",
       "38142                       0.528806  \n",
       "89978                       0.522203  \n",
       "39834                       0.516389  \n",
       "57222                       0.513658  \n",
       "86563                       0.513363  \n",
       "50236                       0.493491  \n",
       "24901                       0.480367  \n",
       "30605                       0.470975  \n",
       "70668                       0.470036  \n",
       "93332                       0.467516  \n",
       "86276                       0.445316  \n",
       "8875                        0.444869  \n",
       "35204                       0.443443  \n",
       "59684                       0.436100  \n",
       "6814                        0.435543  \n",
       "74288                       0.423742  \n",
       "57809                       0.421036  \n",
       "80339                       0.412714  \n",
       "88966                       0.410431  \n",
       "8773                        0.409344  \n",
       "35980                       0.409186  \n",
       "38689                       0.406996  \n",
       "29561                       0.402372  \n",
       "24081                       0.401402  \n",
       "20451                       0.400720  \n",
       "75390                       0.395570  \n",
       "18261                       0.395433  \n",
       "43301                       0.391584  \n",
       "...                              ...  \n",
       "63808                       0.000000  \n",
       "12777                       0.000000  \n",
       "78879                       0.000000  \n",
       "50614                       0.000000  \n",
       "50616                       0.000000  \n",
       "25961                       0.000000  \n",
       "88388                       0.000000  \n",
       "4311                        0.000000  \n",
       "25948                       0.000000  \n",
       "88422                       0.000000  \n",
       "50583                       0.000000  \n",
       "25931                       0.000000  \n",
       "78797                       0.000000  \n",
       "63903                       0.000000  \n",
       "88464                       0.000000  \n",
       "63894                       0.000000  \n",
       "4232                        0.000000  \n",
       "25875                       0.000000  \n",
       "37693                       0.000000  \n",
       "25892                       0.000000  \n",
       "4250                        0.000000  \n",
       "37663                       0.000000  \n",
       "63849                       0.000000  \n",
       "4263                        0.000000  \n",
       "25930                       0.000000  \n",
       "78844                       0.000000  \n",
       "88436                       0.000000  \n",
       "50575                       0.000000  \n",
       "63845                       0.000000  \n",
       "43743                       0.000000  \n",
       "\n",
       "[93395 rows x 7 columns]"
      ]
     },
     "execution_count": 99,
     "metadata": {},
     "output_type": "execute_result"
    }
   ],
   "source": [
    "test_subset.sort_values('title_tfidf_cosine_similarity', ascending=False)"
   ]
  },
  {
   "cell_type": "code",
   "execution_count": null,
   "metadata": {},
   "outputs": [],
   "source": []
  },
  {
   "cell_type": "code",
   "execution_count": null,
   "metadata": {},
   "outputs": [],
   "source": []
  },
  {
   "cell_type": "code",
   "execution_count": null,
   "metadata": {},
   "outputs": [],
   "source": []
  },
  {
   "cell_type": "code",
   "execution_count": null,
   "metadata": {},
   "outputs": [],
   "source": []
  },
  {
   "cell_type": "code",
   "execution_count": null,
   "metadata": {},
   "outputs": [],
   "source": []
  },
  {
   "cell_type": "code",
   "execution_count": 30,
   "metadata": {},
   "outputs": [
    {
     "name": "stdout",
     "output_type": "stream",
     "text": [
      "4 minutes and 0.95 seconds\n"
     ]
    }
   ],
   "source": [
    "start = timer()\n",
    "test_papers_df['avg_distance_to_train'] = test_papers_df.cl.apply(avg_distance, cl_group=train_papers_df.cl.tolist())\n",
    "print(format_timespan(timer()-start))"
   ]
  },
  {
   "cell_type": "code",
   "execution_count": 31,
   "metadata": {},
   "outputs": [
    {
     "data": {
      "text/html": [
       "<div>\n",
       "<style scoped>\n",
       "    .dataframe tbody tr th:only-of-type {\n",
       "        vertical-align: middle;\n",
       "    }\n",
       "\n",
       "    .dataframe tbody tr th {\n",
       "        vertical-align: top;\n",
       "    }\n",
       "\n",
       "    .dataframe thead th {\n",
       "        text-align: right;\n",
       "    }\n",
       "</style>\n",
       "<table border=\"1\" class=\"dataframe\">\n",
       "  <thead>\n",
       "    <tr style=\"text-align: right;\">\n",
       "      <th></th>\n",
       "      <th>EF</th>\n",
       "      <th>Paper_ID</th>\n",
       "      <th>cl</th>\n",
       "      <th>title</th>\n",
       "      <th>year</th>\n",
       "      <th>target</th>\n",
       "      <th>avg_distance_to_train</th>\n",
       "    </tr>\n",
       "  </thead>\n",
       "  <tbody>\n",
       "    <tr>\n",
       "      <th>107272</th>\n",
       "      <td>1.992670e-06</td>\n",
       "      <td>2095293504</td>\n",
       "      <td>3372652:1:1:2</td>\n",
       "      <td>finding and evaluating community structure in ...</td>\n",
       "      <td>2004.0</td>\n",
       "      <td>False</td>\n",
       "      <td>0.611111</td>\n",
       "    </tr>\n",
       "    <tr>\n",
       "      <th>110154</th>\n",
       "      <td>9.501080e-07</td>\n",
       "      <td>2131681506</td>\n",
       "      <td>3372652:1:1:9</td>\n",
       "      <td>fast unfolding of communities in large networks</td>\n",
       "      <td>2008.0</td>\n",
       "      <td>False</td>\n",
       "      <td>0.611111</td>\n",
       "    </tr>\n",
       "    <tr>\n",
       "      <th>109495</th>\n",
       "      <td>8.579680e-07</td>\n",
       "      <td>2120043163</td>\n",
       "      <td>3372652:1:1:7</td>\n",
       "      <td>comparing community structure identification</td>\n",
       "      <td>2005.0</td>\n",
       "      <td>False</td>\n",
       "      <td>0.611111</td>\n",
       "    </tr>\n",
       "    <tr>\n",
       "      <th>114759</th>\n",
       "      <td>3.484730e-07</td>\n",
       "      <td>2606584716</td>\n",
       "      <td>3372652:1:1:29</td>\n",
       "      <td>e mail as spectroscopy automated discovery of ...</td>\n",
       "      <td>2005.0</td>\n",
       "      <td>False</td>\n",
       "      <td>0.611111</td>\n",
       "    </tr>\n",
       "    <tr>\n",
       "      <th>110902</th>\n",
       "      <td>8.711380e-08</td>\n",
       "      <td>2139818818</td>\n",
       "      <td>3372652:1:1:55</td>\n",
       "      <td>mixture models and exploratory analysis in net...</td>\n",
       "      <td>2007.0</td>\n",
       "      <td>False</td>\n",
       "      <td>0.611111</td>\n",
       "    </tr>\n",
       "    <tr>\n",
       "      <th>107228</th>\n",
       "      <td>8.128820e-08</td>\n",
       "      <td>2091202730</td>\n",
       "      <td>3372652:1:1:52</td>\n",
       "      <td>detect overlapping and hierarchical community ...</td>\n",
       "      <td>2009.0</td>\n",
       "      <td>False</td>\n",
       "      <td>0.611111</td>\n",
       "    </tr>\n",
       "    <tr>\n",
       "      <th>109443</th>\n",
       "      <td>6.873940e-08</td>\n",
       "      <td>2117526408</td>\n",
       "      <td>3372652:1:1:68</td>\n",
       "      <td>towards real time community detection in large...</td>\n",
       "      <td>2009.0</td>\n",
       "      <td>False</td>\n",
       "      <td>0.611111</td>\n",
       "    </tr>\n",
       "    <tr>\n",
       "      <th>118641</th>\n",
       "      <td>2.728230e-08</td>\n",
       "      <td>1967752035</td>\n",
       "      <td>3372652:1:1:148</td>\n",
       "      <td>finding instabilities in the community structu...</td>\n",
       "      <td>2005.0</td>\n",
       "      <td>False</td>\n",
       "      <td>0.611111</td>\n",
       "    </tr>\n",
       "    <tr>\n",
       "      <th>123223</th>\n",
       "      <td>2.550930e-08</td>\n",
       "      <td>2033507223</td>\n",
       "      <td>3372652:1:1:128</td>\n",
       "      <td>quantifying and identifying the overlapping co...</td>\n",
       "      <td>2009.0</td>\n",
       "      <td>False</td>\n",
       "      <td>0.611111</td>\n",
       "    </tr>\n",
       "    <tr>\n",
       "      <th>106490</th>\n",
       "      <td>2.393100e-08</td>\n",
       "      <td>2069629462</td>\n",
       "      <td>3372652:1:1:170</td>\n",
       "      <td>comparison and validation of community structu...</td>\n",
       "      <td>2006.0</td>\n",
       "      <td>False</td>\n",
       "      <td>0.611111</td>\n",
       "    </tr>\n",
       "    <tr>\n",
       "      <th>114126</th>\n",
       "      <td>2.355810e-08</td>\n",
       "      <td>2171059110</td>\n",
       "      <td>3372652:1:1:205</td>\n",
       "      <td>community structure in the united states house...</td>\n",
       "      <td>2007.0</td>\n",
       "      <td>False</td>\n",
       "      <td>0.611111</td>\n",
       "    </tr>\n",
       "    <tr>\n",
       "      <th>107807</th>\n",
       "      <td>2.333670e-08</td>\n",
       "      <td>2103094896</td>\n",
       "      <td>3372652:1:1:266</td>\n",
       "      <td>community structure in congressional cosponsor...</td>\n",
       "      <td>2008.0</td>\n",
       "      <td>False</td>\n",
       "      <td>0.611111</td>\n",
       "    </tr>\n",
       "    <tr>\n",
       "      <th>110980</th>\n",
       "      <td>2.128610e-08</td>\n",
       "      <td>2146057107</td>\n",
       "      <td>3372652:1:1:330</td>\n",
       "      <td>on the np completeness of some graph cluster m...</td>\n",
       "      <td>2006.0</td>\n",
       "      <td>False</td>\n",
       "      <td>0.611111</td>\n",
       "    </tr>\n",
       "    <tr>\n",
       "      <th>125217</th>\n",
       "      <td>1.892030e-08</td>\n",
       "      <td>2052898451</td>\n",
       "      <td>3372652:1:1:234</td>\n",
       "      <td>optimal partition and effective dynamics of co...</td>\n",
       "      <td>2008.0</td>\n",
       "      <td>False</td>\n",
       "      <td>0.611111</td>\n",
       "    </tr>\n",
       "    <tr>\n",
       "      <th>113255</th>\n",
       "      <td>1.862940e-08</td>\n",
       "      <td>2167065750</td>\n",
       "      <td>3372652:1:1:343</td>\n",
       "      <td>a network based method for target selection in...</td>\n",
       "      <td>2007.0</td>\n",
       "      <td>False</td>\n",
       "      <td>0.611111</td>\n",
       "    </tr>\n",
       "    <tr>\n",
       "      <th>113358</th>\n",
       "      <td>1.704290e-08</td>\n",
       "      <td>2170768441</td>\n",
       "      <td>3372652:1:1:219</td>\n",
       "      <td>synchronization and modularity in complex netw...</td>\n",
       "      <td>2007.0</td>\n",
       "      <td>False</td>\n",
       "      <td>0.611111</td>\n",
       "    </tr>\n",
       "    <tr>\n",
       "      <th>125208</th>\n",
       "      <td>1.608180e-08</td>\n",
       "      <td>2051741861</td>\n",
       "      <td>3372652:1:1:203</td>\n",
       "      <td>finding community structures in complex networ...</td>\n",
       "      <td>2007.0</td>\n",
       "      <td>False</td>\n",
       "      <td>0.611111</td>\n",
       "    </tr>\n",
       "    <tr>\n",
       "      <th>124244</th>\n",
       "      <td>1.604080e-08</td>\n",
       "      <td>2041414850</td>\n",
       "      <td>3372652:1:1:544</td>\n",
       "      <td>social network topology a bayesian approach</td>\n",
       "      <td>2007.0</td>\n",
       "      <td>False</td>\n",
       "      <td>0.611111</td>\n",
       "    </tr>\n",
       "    <tr>\n",
       "      <th>122251</th>\n",
       "      <td>1.597520e-08</td>\n",
       "      <td>2024529797</td>\n",
       "      <td>3372652:1:1:262</td>\n",
       "      <td>communicability graph and community structures...</td>\n",
       "      <td>2009.0</td>\n",
       "      <td>False</td>\n",
       "      <td>0.611111</td>\n",
       "    </tr>\n",
       "    <tr>\n",
       "      <th>116908</th>\n",
       "      <td>1.546510e-08</td>\n",
       "      <td>1539854304</td>\n",
       "      <td>3372652:1:1:236</td>\n",
       "      <td>effective algorithm for detecting community st...</td>\n",
       "      <td>2007.0</td>\n",
       "      <td>False</td>\n",
       "      <td>0.611111</td>\n",
       "    </tr>\n",
       "    <tr>\n",
       "      <th>122244</th>\n",
       "      <td>1.433300e-08</td>\n",
       "      <td>2024495622</td>\n",
       "      <td>3372652:1:1:308</td>\n",
       "      <td>improved community structure detection using a...</td>\n",
       "      <td>2009.0</td>\n",
       "      <td>False</td>\n",
       "      <td>0.611111</td>\n",
       "    </tr>\n",
       "    <tr>\n",
       "      <th>116458</th>\n",
       "      <td>7.692950e-09</td>\n",
       "      <td>187852867</td>\n",
       "      <td>3372652:1:1:776</td>\n",
       "      <td>changing opinions in a changing world</td>\n",
       "      <td>2005.0</td>\n",
       "      <td>False</td>\n",
       "      <td>0.611111</td>\n",
       "    </tr>\n",
       "    <tr>\n",
       "      <th>106526</th>\n",
       "      <td>7.669920e-09</td>\n",
       "      <td>2077715475</td>\n",
       "      <td>3372652:1:1:727</td>\n",
       "      <td>modularity density of network community divisions</td>\n",
       "      <td>2009.0</td>\n",
       "      <td>False</td>\n",
       "      <td>0.611111</td>\n",
       "    </tr>\n",
       "    <tr>\n",
       "      <th>119371</th>\n",
       "      <td>2.348880e-06</td>\n",
       "      <td>1971421925</td>\n",
       "      <td>3372652:1:1:1</td>\n",
       "      <td>community structure in social and biological n...</td>\n",
       "      <td>2002.0</td>\n",
       "      <td>True</td>\n",
       "      <td>0.616111</td>\n",
       "    </tr>\n",
       "    <tr>\n",
       "      <th>121705</th>\n",
       "      <td>1.604670e-06</td>\n",
       "      <td>2015370254</td>\n",
       "      <td>3372652:1:1:13</td>\n",
       "      <td>social network analysis a handbook</td>\n",
       "      <td>1991.0</td>\n",
       "      <td>True</td>\n",
       "      <td>0.616111</td>\n",
       "    </tr>\n",
       "    <tr>\n",
       "      <th>2400979</th>\n",
       "      <td>1.041950e-06</td>\n",
       "      <td>2147824439</td>\n",
       "      <td>3372652:1:1:10</td>\n",
       "      <td>the structure and dynamics of networks</td>\n",
       "      <td>2006.0</td>\n",
       "      <td>False</td>\n",
       "      <td>0.616111</td>\n",
       "    </tr>\n",
       "    <tr>\n",
       "      <th>196561</th>\n",
       "      <td>1.001200e-06</td>\n",
       "      <td>2127048411</td>\n",
       "      <td>3372652:1:1:3</td>\n",
       "      <td>community detection in graphs</td>\n",
       "      <td>2010.0</td>\n",
       "      <td>False</td>\n",
       "      <td>0.616111</td>\n",
       "    </tr>\n",
       "    <tr>\n",
       "      <th>111629</th>\n",
       "      <td>9.649470e-07</td>\n",
       "      <td>2151936673</td>\n",
       "      <td>3372652:1:1:8</td>\n",
       "      <td>modularity and community structure in networks</td>\n",
       "      <td>2006.0</td>\n",
       "      <td>True</td>\n",
       "      <td>0.616111</td>\n",
       "    </tr>\n",
       "    <tr>\n",
       "      <th>107210</th>\n",
       "      <td>9.554800e-07</td>\n",
       "      <td>2089458547</td>\n",
       "      <td>3372652:1:1:4</td>\n",
       "      <td>fast algorithm for detecting community structu...</td>\n",
       "      <td>2004.0</td>\n",
       "      <td>True</td>\n",
       "      <td>0.616111</td>\n",
       "    </tr>\n",
       "    <tr>\n",
       "      <th>124383</th>\n",
       "      <td>9.428180e-07</td>\n",
       "      <td>2047940964</td>\n",
       "      <td>3372652:1:1:5</td>\n",
       "      <td>finding community structure in very large netw...</td>\n",
       "      <td>2004.0</td>\n",
       "      <td>True</td>\n",
       "      <td>0.616111</td>\n",
       "    </tr>\n",
       "    <tr>\n",
       "      <th>112473</th>\n",
       "      <td>9.152910e-07</td>\n",
       "      <td>2164928285</td>\n",
       "      <td>3372652:1:1:6</td>\n",
       "      <td>uncovering the overlapping community structure...</td>\n",
       "      <td>2005.0</td>\n",
       "      <td>True</td>\n",
       "      <td>0.616111</td>\n",
       "    </tr>\n",
       "    <tr>\n",
       "      <th>1831985</th>\n",
       "      <td>7.493270e-07</td>\n",
       "      <td>57870279</td>\n",
       "      <td>3372652:1:1:19</td>\n",
       "      <td>social network analysis a handbook 2nd ed</td>\n",
       "      <td>2000.0</td>\n",
       "      <td>False</td>\n",
       "      <td>0.616111</td>\n",
       "    </tr>\n",
       "    <tr>\n",
       "      <th>5634</th>\n",
       "      <td>5.522150e-07</td>\n",
       "      <td>2025572017</td>\n",
       "      <td>3372652:1:1:17</td>\n",
       "      <td>scientific collaboration networks i network co...</td>\n",
       "      <td>2001.0</td>\n",
       "      <td>False</td>\n",
       "      <td>0.616111</td>\n",
       "    </tr>\n",
       "    <tr>\n",
       "      <th>110089</th>\n",
       "      <td>5.370510e-07</td>\n",
       "      <td>2125050594</td>\n",
       "      <td>3372652:1:1:15</td>\n",
       "      <td>detecting community structure in networks</td>\n",
       "      <td>2004.0</td>\n",
       "      <td>True</td>\n",
       "      <td>0.616111</td>\n",
       "    </tr>\n",
       "    <tr>\n",
       "      <th>124225</th>\n",
       "      <td>4.880740e-07</td>\n",
       "      <td>2038920443</td>\n",
       "      <td>3372652:1:1:11</td>\n",
       "      <td>defining and identifying communities in networks</td>\n",
       "      <td>2004.0</td>\n",
       "      <td>True</td>\n",
       "      <td>0.616111</td>\n",
       "    </tr>\n",
       "    <tr>\n",
       "      <th>122090</th>\n",
       "      <td>4.858850e-07</td>\n",
       "      <td>2015953751</td>\n",
       "      <td>3372652:1:1:12</td>\n",
       "      <td>finding community structure in networks using ...</td>\n",
       "      <td>2006.0</td>\n",
       "      <td>True</td>\n",
       "      <td>0.616111</td>\n",
       "    </tr>\n",
       "    <tr>\n",
       "      <th>107789</th>\n",
       "      <td>4.761340e-07</td>\n",
       "      <td>2102931907</td>\n",
       "      <td>3372652:1:1:22</td>\n",
       "      <td>self organization and identification of web co...</td>\n",
       "      <td>2002.0</td>\n",
       "      <td>True</td>\n",
       "      <td>0.616111</td>\n",
       "    </tr>\n",
       "    <tr>\n",
       "      <th>122148</th>\n",
       "      <td>4.345630e-07</td>\n",
       "      <td>2017987256</td>\n",
       "      <td>3372652:1:1:16</td>\n",
       "      <td>functional cartography of complex metabolic ne...</td>\n",
       "      <td>2005.0</td>\n",
       "      <td>True</td>\n",
       "      <td>0.616111</td>\n",
       "    </tr>\n",
       "    <tr>\n",
       "      <th>120237</th>\n",
       "      <td>3.420010e-07</td>\n",
       "      <td>1983345514</td>\n",
       "      <td>3372652:1:1:27</td>\n",
       "      <td>analysis of weighted networks</td>\n",
       "      <td>2004.0</td>\n",
       "      <td>True</td>\n",
       "      <td>0.616111</td>\n",
       "    </tr>\n",
       "    <tr>\n",
       "      <th>110123</th>\n",
       "      <td>3.408270e-07</td>\n",
       "      <td>2128366083</td>\n",
       "      <td>3372652:1:1:14</td>\n",
       "      <td>resolution limit in community detection</td>\n",
       "      <td>2007.0</td>\n",
       "      <td>True</td>\n",
       "      <td>0.616111</td>\n",
       "    </tr>\n",
       "    <tr>\n",
       "      <th>109525</th>\n",
       "      <td>3.167810e-07</td>\n",
       "      <td>2122407999</td>\n",
       "      <td>3372652:1:1:25</td>\n",
       "      <td>subnetwork hierarchies of biochemical pathways</td>\n",
       "      <td>2003.0</td>\n",
       "      <td>True</td>\n",
       "      <td>0.616111</td>\n",
       "    </tr>\n",
       "    <tr>\n",
       "      <th>112482</th>\n",
       "      <td>2.981850e-07</td>\n",
       "      <td>2164998314</td>\n",
       "      <td>3372652:1:1:20</td>\n",
       "      <td>maps of random walks on complex networks revea...</td>\n",
       "      <td>2008.0</td>\n",
       "      <td>True</td>\n",
       "      <td>0.616111</td>\n",
       "    </tr>\n",
       "    <tr>\n",
       "      <th>121695</th>\n",
       "      <td>2.710320e-07</td>\n",
       "      <td>2013307517</td>\n",
       "      <td>3372652:1:1:23</td>\n",
       "      <td>community structure in jazz</td>\n",
       "      <td>2003.0</td>\n",
       "      <td>True</td>\n",
       "      <td>0.616111</td>\n",
       "    </tr>\n",
       "    <tr>\n",
       "      <th>1832291</th>\n",
       "      <td>2.678910e-07</td>\n",
       "      <td>2053374102</td>\n",
       "      <td>3372652:1:1:35</td>\n",
       "      <td>a set of measures of centrality based upon bet...</td>\n",
       "      <td>2004.0</td>\n",
       "      <td>False</td>\n",
       "      <td>0.616111</td>\n",
       "    </tr>\n",
       "    <tr>\n",
       "      <th>5640</th>\n",
       "      <td>2.326530e-07</td>\n",
       "      <td>2033590892</td>\n",
       "      <td>3372652:1:1:26</td>\n",
       "      <td>computing communities in large networks using ...</td>\n",
       "      <td>2006.0</td>\n",
       "      <td>False</td>\n",
       "      <td>0.616111</td>\n",
       "    </tr>\n",
       "    <tr>\n",
       "      <th>112405</th>\n",
       "      <td>2.274990e-07</td>\n",
       "      <td>2157082398</td>\n",
       "      <td>3372652:1:1:28</td>\n",
       "      <td>hierarchical structure and the prediction of m...</td>\n",
       "      <td>2008.0</td>\n",
       "      <td>True</td>\n",
       "      <td>0.616111</td>\n",
       "    </tr>\n",
       "    <tr>\n",
       "      <th>109485</th>\n",
       "      <td>2.218210e-07</td>\n",
       "      <td>2118608338</td>\n",
       "      <td>3372652:1:1:21</td>\n",
       "      <td>detecting the overlapping and hierarchical com...</td>\n",
       "      <td>2009.0</td>\n",
       "      <td>True</td>\n",
       "      <td>0.616111</td>\n",
       "    </tr>\n",
       "    <tr>\n",
       "      <th>122221</th>\n",
       "      <td>2.181870e-07</td>\n",
       "      <td>2023655578</td>\n",
       "      <td>3372652:1:1:18</td>\n",
       "      <td>benchmark graphs for testing community detecti...</td>\n",
       "      <td>2008.0</td>\n",
       "      <td>True</td>\n",
       "      <td>0.616111</td>\n",
       "    </tr>\n",
       "    <tr>\n",
       "      <th>110985</th>\n",
       "      <td>2.130870e-07</td>\n",
       "      <td>2146591355</td>\n",
       "      <td>3372652:1:1:30</td>\n",
       "      <td>community structure in large networks natural ...</td>\n",
       "      <td>2009.0</td>\n",
       "      <td>True</td>\n",
       "      <td>0.616111</td>\n",
       "    </tr>\n",
       "    <tr>\n",
       "      <th>108857</th>\n",
       "      <td>2.034420e-07</td>\n",
       "      <td>2110620844</td>\n",
       "      <td>3372652:1:1:24</td>\n",
       "      <td>link communities reveal multiscale complexity ...</td>\n",
       "      <td>2010.0</td>\n",
       "      <td>True</td>\n",
       "      <td>0.616111</td>\n",
       "    </tr>\n",
       "  </tbody>\n",
       "</table>\n",
       "</div>"
      ],
      "text/plain": [
       "                   EF    Paper_ID               cl  \\\n",
       "107272   1.992670e-06  2095293504    3372652:1:1:2   \n",
       "110154   9.501080e-07  2131681506    3372652:1:1:9   \n",
       "109495   8.579680e-07  2120043163    3372652:1:1:7   \n",
       "114759   3.484730e-07  2606584716   3372652:1:1:29   \n",
       "110902   8.711380e-08  2139818818   3372652:1:1:55   \n",
       "107228   8.128820e-08  2091202730   3372652:1:1:52   \n",
       "109443   6.873940e-08  2117526408   3372652:1:1:68   \n",
       "118641   2.728230e-08  1967752035  3372652:1:1:148   \n",
       "123223   2.550930e-08  2033507223  3372652:1:1:128   \n",
       "106490   2.393100e-08  2069629462  3372652:1:1:170   \n",
       "114126   2.355810e-08  2171059110  3372652:1:1:205   \n",
       "107807   2.333670e-08  2103094896  3372652:1:1:266   \n",
       "110980   2.128610e-08  2146057107  3372652:1:1:330   \n",
       "125217   1.892030e-08  2052898451  3372652:1:1:234   \n",
       "113255   1.862940e-08  2167065750  3372652:1:1:343   \n",
       "113358   1.704290e-08  2170768441  3372652:1:1:219   \n",
       "125208   1.608180e-08  2051741861  3372652:1:1:203   \n",
       "124244   1.604080e-08  2041414850  3372652:1:1:544   \n",
       "122251   1.597520e-08  2024529797  3372652:1:1:262   \n",
       "116908   1.546510e-08  1539854304  3372652:1:1:236   \n",
       "122244   1.433300e-08  2024495622  3372652:1:1:308   \n",
       "116458   7.692950e-09   187852867  3372652:1:1:776   \n",
       "106526   7.669920e-09  2077715475  3372652:1:1:727   \n",
       "119371   2.348880e-06  1971421925    3372652:1:1:1   \n",
       "121705   1.604670e-06  2015370254   3372652:1:1:13   \n",
       "2400979  1.041950e-06  2147824439   3372652:1:1:10   \n",
       "196561   1.001200e-06  2127048411    3372652:1:1:3   \n",
       "111629   9.649470e-07  2151936673    3372652:1:1:8   \n",
       "107210   9.554800e-07  2089458547    3372652:1:1:4   \n",
       "124383   9.428180e-07  2047940964    3372652:1:1:5   \n",
       "112473   9.152910e-07  2164928285    3372652:1:1:6   \n",
       "1831985  7.493270e-07    57870279   3372652:1:1:19   \n",
       "5634     5.522150e-07  2025572017   3372652:1:1:17   \n",
       "110089   5.370510e-07  2125050594   3372652:1:1:15   \n",
       "124225   4.880740e-07  2038920443   3372652:1:1:11   \n",
       "122090   4.858850e-07  2015953751   3372652:1:1:12   \n",
       "107789   4.761340e-07  2102931907   3372652:1:1:22   \n",
       "122148   4.345630e-07  2017987256   3372652:1:1:16   \n",
       "120237   3.420010e-07  1983345514   3372652:1:1:27   \n",
       "110123   3.408270e-07  2128366083   3372652:1:1:14   \n",
       "109525   3.167810e-07  2122407999   3372652:1:1:25   \n",
       "112482   2.981850e-07  2164998314   3372652:1:1:20   \n",
       "121695   2.710320e-07  2013307517   3372652:1:1:23   \n",
       "1832291  2.678910e-07  2053374102   3372652:1:1:35   \n",
       "5640     2.326530e-07  2033590892   3372652:1:1:26   \n",
       "112405   2.274990e-07  2157082398   3372652:1:1:28   \n",
       "109485   2.218210e-07  2118608338   3372652:1:1:21   \n",
       "122221   2.181870e-07  2023655578   3372652:1:1:18   \n",
       "110985   2.130870e-07  2146591355   3372652:1:1:30   \n",
       "108857   2.034420e-07  2110620844   3372652:1:1:24   \n",
       "\n",
       "                                                     title    year  target  \\\n",
       "107272   finding and evaluating community structure in ...  2004.0   False   \n",
       "110154     fast unfolding of communities in large networks  2008.0   False   \n",
       "109495        comparing community structure identification  2005.0   False   \n",
       "114759   e mail as spectroscopy automated discovery of ...  2005.0   False   \n",
       "110902   mixture models and exploratory analysis in net...  2007.0   False   \n",
       "107228   detect overlapping and hierarchical community ...  2009.0   False   \n",
       "109443   towards real time community detection in large...  2009.0   False   \n",
       "118641   finding instabilities in the community structu...  2005.0   False   \n",
       "123223   quantifying and identifying the overlapping co...  2009.0   False   \n",
       "106490   comparison and validation of community structu...  2006.0   False   \n",
       "114126   community structure in the united states house...  2007.0   False   \n",
       "107807   community structure in congressional cosponsor...  2008.0   False   \n",
       "110980   on the np completeness of some graph cluster m...  2006.0   False   \n",
       "125217   optimal partition and effective dynamics of co...  2008.0   False   \n",
       "113255   a network based method for target selection in...  2007.0   False   \n",
       "113358   synchronization and modularity in complex netw...  2007.0   False   \n",
       "125208   finding community structures in complex networ...  2007.0   False   \n",
       "124244         social network topology a bayesian approach  2007.0   False   \n",
       "122251   communicability graph and community structures...  2009.0   False   \n",
       "116908   effective algorithm for detecting community st...  2007.0   False   \n",
       "122244   improved community structure detection using a...  2009.0   False   \n",
       "116458               changing opinions in a changing world  2005.0   False   \n",
       "106526   modularity density of network community divisions  2009.0   False   \n",
       "119371   community structure in social and biological n...  2002.0    True   \n",
       "121705                  social network analysis a handbook  1991.0    True   \n",
       "2400979             the structure and dynamics of networks  2006.0   False   \n",
       "196561                       community detection in graphs  2010.0   False   \n",
       "111629      modularity and community structure in networks  2006.0    True   \n",
       "107210   fast algorithm for detecting community structu...  2004.0    True   \n",
       "124383   finding community structure in very large netw...  2004.0    True   \n",
       "112473   uncovering the overlapping community structure...  2005.0    True   \n",
       "1831985          social network analysis a handbook 2nd ed  2000.0   False   \n",
       "5634     scientific collaboration networks i network co...  2001.0   False   \n",
       "110089           detecting community structure in networks  2004.0    True   \n",
       "124225    defining and identifying communities in networks  2004.0    True   \n",
       "122090   finding community structure in networks using ...  2006.0    True   \n",
       "107789   self organization and identification of web co...  2002.0    True   \n",
       "122148   functional cartography of complex metabolic ne...  2005.0    True   \n",
       "120237                       analysis of weighted networks  2004.0    True   \n",
       "110123             resolution limit in community detection  2007.0    True   \n",
       "109525      subnetwork hierarchies of biochemical pathways  2003.0    True   \n",
       "112482   maps of random walks on complex networks revea...  2008.0    True   \n",
       "121695                         community structure in jazz  2003.0    True   \n",
       "1832291  a set of measures of centrality based upon bet...  2004.0   False   \n",
       "5640     computing communities in large networks using ...  2006.0   False   \n",
       "112405   hierarchical structure and the prediction of m...  2008.0    True   \n",
       "109485   detecting the overlapping and hierarchical com...  2009.0    True   \n",
       "122221   benchmark graphs for testing community detecti...  2008.0    True   \n",
       "110985   community structure in large networks natural ...  2009.0    True   \n",
       "108857   link communities reveal multiscale complexity ...  2010.0    True   \n",
       "\n",
       "         avg_distance_to_train  \n",
       "107272                0.611111  \n",
       "110154                0.611111  \n",
       "109495                0.611111  \n",
       "114759                0.611111  \n",
       "110902                0.611111  \n",
       "107228                0.611111  \n",
       "109443                0.611111  \n",
       "118641                0.611111  \n",
       "123223                0.611111  \n",
       "106490                0.611111  \n",
       "114126                0.611111  \n",
       "107807                0.611111  \n",
       "110980                0.611111  \n",
       "125217                0.611111  \n",
       "113255                0.611111  \n",
       "113358                0.611111  \n",
       "125208                0.611111  \n",
       "124244                0.611111  \n",
       "122251                0.611111  \n",
       "116908                0.611111  \n",
       "122244                0.611111  \n",
       "116458                0.611111  \n",
       "106526                0.611111  \n",
       "119371                0.616111  \n",
       "121705                0.616111  \n",
       "2400979               0.616111  \n",
       "196561                0.616111  \n",
       "111629                0.616111  \n",
       "107210                0.616111  \n",
       "124383                0.616111  \n",
       "112473                0.616111  \n",
       "1831985               0.616111  \n",
       "5634                  0.616111  \n",
       "110089                0.616111  \n",
       "124225                0.616111  \n",
       "122090                0.616111  \n",
       "107789                0.616111  \n",
       "122148                0.616111  \n",
       "120237                0.616111  \n",
       "110123                0.616111  \n",
       "109525                0.616111  \n",
       "112482                0.616111  \n",
       "121695                0.616111  \n",
       "1832291               0.616111  \n",
       "5640                  0.616111  \n",
       "112405                0.616111  \n",
       "109485                0.616111  \n",
       "122221                0.616111  \n",
       "110985                0.616111  \n",
       "108857                0.616111  "
      ]
     },
     "execution_count": 31,
     "metadata": {},
     "output_type": "execute_result"
    }
   ],
   "source": [
    "test_papers_df.sort_values(['avg_distance_to_train', 'EF'], ascending=[True, False]).head(50)"
   ]
  },
  {
   "cell_type": "code",
   "execution_count": 32,
   "metadata": {},
   "outputs": [
    {
     "data": {
      "text/html": [
       "<div>\n",
       "<style scoped>\n",
       "    .dataframe tbody tr th:only-of-type {\n",
       "        vertical-align: middle;\n",
       "    }\n",
       "\n",
       "    .dataframe tbody tr th {\n",
       "        vertical-align: top;\n",
       "    }\n",
       "\n",
       "    .dataframe thead th {\n",
       "        text-align: right;\n",
       "    }\n",
       "</style>\n",
       "<table border=\"1\" class=\"dataframe\">\n",
       "  <thead>\n",
       "    <tr style=\"text-align: right;\">\n",
       "      <th></th>\n",
       "      <th>target</th>\n",
       "      <th>False</th>\n",
       "      <th>True</th>\n",
       "    </tr>\n",
       "  </thead>\n",
       "  <tbody>\n",
       "    <tr>\n",
       "      <th rowspan=\"8\" valign=\"top\">EF</th>\n",
       "      <th>count</th>\n",
       "      <td>2.612894e+06</td>\n",
       "      <td>3.970000e+02</td>\n",
       "    </tr>\n",
       "    <tr>\n",
       "      <th>mean</th>\n",
       "      <td>3.942335e-08</td>\n",
       "      <td>9.342797e-07</td>\n",
       "    </tr>\n",
       "    <tr>\n",
       "      <th>std</th>\n",
       "      <td>3.210841e-07</td>\n",
       "      <td>2.630972e-06</td>\n",
       "    </tr>\n",
       "    <tr>\n",
       "      <th>min</th>\n",
       "      <td>5.434740e-09</td>\n",
       "      <td>7.338580e-09</td>\n",
       "    </tr>\n",
       "    <tr>\n",
       "      <th>25%</th>\n",
       "      <td>5.717760e-09</td>\n",
       "      <td>2.819180e-08</td>\n",
       "    </tr>\n",
       "    <tr>\n",
       "      <th>50%</th>\n",
       "      <td>7.594130e-09</td>\n",
       "      <td>9.191400e-08</td>\n",
       "    </tr>\n",
       "    <tr>\n",
       "      <th>75%</th>\n",
       "      <td>1.667440e-08</td>\n",
       "      <td>4.857660e-07</td>\n",
       "    </tr>\n",
       "    <tr>\n",
       "      <th>max</th>\n",
       "      <td>1.716360e-04</td>\n",
       "      <td>2.707530e-05</td>\n",
       "    </tr>\n",
       "    <tr>\n",
       "      <th rowspan=\"8\" valign=\"top\">avg_distance_to_train</th>\n",
       "      <th>count</th>\n",
       "      <td>2.612894e+06</td>\n",
       "      <td>3.970000e+02</td>\n",
       "    </tr>\n",
       "    <tr>\n",
       "      <th>mean</th>\n",
       "      <td>9.971833e-01</td>\n",
       "      <td>8.228729e-01</td>\n",
       "    </tr>\n",
       "    <tr>\n",
       "      <th>std</th>\n",
       "      <td>2.735958e-02</td>\n",
       "      <td>1.772978e-01</td>\n",
       "    </tr>\n",
       "    <tr>\n",
       "      <th>min</th>\n",
       "      <td>6.111111e-01</td>\n",
       "      <td>6.161111e-01</td>\n",
       "    </tr>\n",
       "    <tr>\n",
       "      <th>25%</th>\n",
       "      <td>1.000000e+00</td>\n",
       "      <td>6.161111e-01</td>\n",
       "    </tr>\n",
       "    <tr>\n",
       "      <th>50%</th>\n",
       "      <td>1.000000e+00</td>\n",
       "      <td>8.505556e-01</td>\n",
       "    </tr>\n",
       "    <tr>\n",
       "      <th>75%</th>\n",
       "      <td>1.000000e+00</td>\n",
       "      <td>1.000000e+00</td>\n",
       "    </tr>\n",
       "    <tr>\n",
       "      <th>max</th>\n",
       "      <td>1.000000e+00</td>\n",
       "      <td>1.000000e+00</td>\n",
       "    </tr>\n",
       "  </tbody>\n",
       "</table>\n",
       "</div>"
      ],
      "text/plain": [
       "target                              False         True \n",
       "EF                    count  2.612894e+06  3.970000e+02\n",
       "                      mean   3.942335e-08  9.342797e-07\n",
       "                      std    3.210841e-07  2.630972e-06\n",
       "                      min    5.434740e-09  7.338580e-09\n",
       "                      25%    5.717760e-09  2.819180e-08\n",
       "                      50%    7.594130e-09  9.191400e-08\n",
       "                      75%    1.667440e-08  4.857660e-07\n",
       "                      max    1.716360e-04  2.707530e-05\n",
       "avg_distance_to_train count  2.612894e+06  3.970000e+02\n",
       "                      mean   9.971833e-01  8.228729e-01\n",
       "                      std    2.735958e-02  1.772978e-01\n",
       "                      min    6.111111e-01  6.161111e-01\n",
       "                      25%    1.000000e+00  6.161111e-01\n",
       "                      50%    1.000000e+00  8.505556e-01\n",
       "                      75%    1.000000e+00  1.000000e+00\n",
       "                      max    1.000000e+00  1.000000e+00"
      ]
     },
     "execution_count": 32,
     "metadata": {},
     "output_type": "execute_result"
    }
   ],
   "source": [
    "test_papers_df.groupby('target')['EF', 'avg_distance_to_train'].describe().T"
   ]
  },
  {
   "cell_type": "code",
   "execution_count": 33,
   "metadata": {},
   "outputs": [],
   "source": [
    "import matplotlib.pyplot as plt"
   ]
  },
  {
   "cell_type": "code",
   "execution_count": 34,
   "metadata": {},
   "outputs": [],
   "source": [
    "%matplotlib inline"
   ]
  },
  {
   "cell_type": "code",
   "execution_count": 37,
   "metadata": {},
   "outputs": [],
   "source": [
    "# http://scikit-learn.org/stable/auto_examples/hetero_feature_union.html\n",
    "class ItemSelector(BaseEstimator, TransformerMixin):\n",
    "    \"\"\"For data grouped by feature, select subset of data at a provided key.\n",
    "\n",
    "    The data is expected to be stored in a 2D data structure, where the first\n",
    "    index is over features and the second is over samples.  i.e.\n",
    "\n",
    "    >> len(data[key]) == n_samples\n",
    "\n",
    "    Please note that this is the opposite convention to scikit-learn feature\n",
    "    matrixes (where the first index corresponds to sample).\n",
    "\n",
    "    ItemSelector only requires that the collection implement getitem\n",
    "    (data[key]).  Examples include: a dict of lists, 2D numpy array, Pandas\n",
    "    DataFrame, numpy record array, etc.\n",
    "\n",
    "    >> data = {'a': [1, 5, 2, 5, 2, 8],\n",
    "               'b': [9, 4, 1, 4, 1, 3]}\n",
    "    >> ds = ItemSelector(key='a')\n",
    "    >> data['a'] == ds.transform(data)\n",
    "\n",
    "    ItemSelector is not designed to handle data grouped by sample.  (e.g. a\n",
    "    list of dicts).  If your data is structured this way, consider a\n",
    "    transformer along the lines of `sklearn.feature_extraction.DictVectorizer`.\n",
    "\n",
    "    Parameters\n",
    "    ----------\n",
    "    key : hashable, required\n",
    "        The key corresponding to the desired value in a mappable.\n",
    "    \"\"\"\n",
    "    def __init__(self, key):\n",
    "        self.key = key\n",
    "\n",
    "    def fit(self, x, y=None):\n",
    "        return self\n",
    "\n",
    "    def transform(self, data_dict):\n",
    "        return data_dict[self.key]"
   ]
  },
  {
   "cell_type": "code",
   "execution_count": 100,
   "metadata": {},
   "outputs": [],
   "source": [
    "class ClusterTransformer(BaseEstimator, TransformerMixin):\n",
    "    def __init__(self, colname='cl'):\n",
    "        self.colname = colname\n",
    "        \n",
    "    def fit(self, x, y=None):\n",
    "        return self\n",
    "    \n",
    "    def transform(self, df):\n",
    "        avg_dist = df[self.colname].apply(avg_distance, cl_group=train_papers_df.cl.tolist())\n",
    "        return avg_dist.as_matrix().reshape(-1, 1)"
   ]
  },
  {
   "cell_type": "code",
   "execution_count": 101,
   "metadata": {},
   "outputs": [],
   "source": [
    "class DataFrameColumnTransformer(BaseEstimator, TransformerMixin):\n",
    "    def __init__(self, colname):\n",
    "        self.colname = colname\n",
    "        \n",
    "    def fit(self, x, y=None):\n",
    "        return self\n",
    "    \n",
    "    def transform(self, df):\n",
    "        return df[self.colname].as_matrix().reshape(-1, 1)"
   ]
  },
  {
   "cell_type": "code",
   "execution_count": null,
   "metadata": {},
   "outputs": [],
   "source": []
  },
  {
   "cell_type": "code",
   "execution_count": 190,
   "metadata": {},
   "outputs": [],
   "source": [
    "pipeline = Pipeline([\n",
    "    ('union', FeatureUnion(\n",
    "        transformer_list = [\n",
    "            ('avg_distance_to_train', Pipeline([\n",
    "#                 ('selector', ItemSelector(key='avg_distance_to_train')),\n",
    "#                 ('vect', DictVectorizer(X.avg_distance_to_train.to_dict))\n",
    "                ('cl_feat', ClusterTransformer()),\n",
    "            ])),\n",
    "            ('ef', Pipeline([\n",
    "#                 ('selector', ItemSelector(key='avg_distance_to_train')),\n",
    "#                 ('vect', DictVectorizer(X.avg_distance_to_train.to_dict))\n",
    "                ('ef_feat', DataFrameColumnTransformer('EF')),\n",
    "            ])),\n",
    "            \n",
    "            # NOTE: this is just to test.\n",
    "            # we probably want features that relate the titles to the seed papers. not just straight features in test set.\n",
    "            ('title_bow', Pipeline([\n",
    "                ('selector', ItemSelector(key='title')),\n",
    "                ('tfidf', TfidfVectorizer(min_df=10)),\n",
    "            ]))\n",
    "        ],\n",
    "    )),\n",
    "    \n",
    "    ('svc', SVC(kernel='linear', probability=True))\n",
    "])"
   ]
  },
  {
   "cell_type": "code",
   "execution_count": 191,
   "metadata": {},
   "outputs": [],
   "source": [
    "# X = test_papers_df[['EF', 'avg_distance_to_train']]\n",
    "X = test_papers_df[test_papers_df.title.notnull()]\n",
    "# Fortunato paper was published in 2010\n",
    "X = X[X.year<=2010]\n",
    "\n",
    "# y = test_papers_df['target']\n",
    "y = X['target']\n",
    "X_train, X_test, y_train, y_test = train_test_split(X, y, test_size=0.2, random_state=999)"
   ]
  },
  {
   "cell_type": "code",
   "execution_count": 192,
   "metadata": {},
   "outputs": [
    {
     "name": "stdout",
     "output_type": "stream",
     "text": [
      "1 hour, 41 minutes and 34.3 seconds\n"
     ]
    }
   ],
   "source": [
    "start = timer()\n",
    "pipeline.fit(X_train, y_train)\n",
    "print(format_timespan(timer()-start))"
   ]
  },
  {
   "cell_type": "code",
   "execution_count": 193,
   "metadata": {},
   "outputs": [
    {
     "name": "stdout",
     "output_type": "stream",
     "text": [
      "6 minutes and 32.97 seconds\n"
     ]
    },
    {
     "data": {
      "text/plain": [
       "array([2.52947189e-05, 4.21541038e-05, 7.42309923e-05, ...,\n",
       "       1.28252908e-04, 1.77193432e-04, 1.38100486e-04])"
      ]
     },
     "execution_count": 193,
     "metadata": {},
     "output_type": "execute_result"
    }
   ],
   "source": [
    "start = timer()\n",
    "# y_pred_proba = model.predict_proba(X_test)[:, 1]\n",
    "y_pred_proba = pipeline.predict_proba(X)[:, 1]\n",
    "print(format_timespan(timer()-start))\n",
    "y_pred_proba\n"
   ]
  },
  {
   "cell_type": "code",
   "execution_count": 194,
   "metadata": {},
   "outputs": [
    {
     "data": {
      "text/plain": [
       "(1521097,)"
      ]
     },
     "execution_count": 194,
     "metadata": {},
     "output_type": "execute_result"
    }
   ],
   "source": [
    "y_pred_proba.shape"
   ]
  },
  {
   "cell_type": "code",
   "execution_count": 195,
   "metadata": {},
   "outputs": [
    {
     "data": {
      "text/html": [
       "<div>\n",
       "<style scoped>\n",
       "    .dataframe tbody tr th:only-of-type {\n",
       "        vertical-align: middle;\n",
       "    }\n",
       "\n",
       "    .dataframe tbody tr th {\n",
       "        vertical-align: top;\n",
       "    }\n",
       "\n",
       "    .dataframe thead th {\n",
       "        text-align: right;\n",
       "    }\n",
       "</style>\n",
       "<table border=\"1\" class=\"dataframe\">\n",
       "  <thead>\n",
       "    <tr style=\"text-align: right;\">\n",
       "      <th></th>\n",
       "      <th>EF</th>\n",
       "      <th>Paper_ID</th>\n",
       "      <th>cl</th>\n",
       "      <th>title</th>\n",
       "      <th>year</th>\n",
       "      <th>target</th>\n",
       "      <th>avg_distance_to_train</th>\n",
       "      <th>pred_ranks</th>\n",
       "    </tr>\n",
       "  </thead>\n",
       "  <tbody>\n",
       "    <tr>\n",
       "      <th>110985</th>\n",
       "      <td>2.130870e-07</td>\n",
       "      <td>2146591355</td>\n",
       "      <td>3372652:1:1:30</td>\n",
       "      <td>community structure in large networks natural ...</td>\n",
       "      <td>2009.0</td>\n",
       "      <td>True</td>\n",
       "      <td>0.616111</td>\n",
       "      <td>0.929936</td>\n",
       "    </tr>\n",
       "    <tr>\n",
       "      <th>114140</th>\n",
       "      <td>1.096330e-08</td>\n",
       "      <td>2171551254</td>\n",
       "      <td>3372652:1:1:624</td>\n",
       "      <td>analysis of bidding networks in ebay aggregate...</td>\n",
       "      <td>2007.0</td>\n",
       "      <td>True</td>\n",
       "      <td>0.616111</td>\n",
       "      <td>0.893195</td>\n",
       "    </tr>\n",
       "    <tr>\n",
       "      <th>123194</th>\n",
       "      <td>2.714580e-08</td>\n",
       "      <td>2029373408</td>\n",
       "      <td>3372652:1:1:140</td>\n",
       "      <td>efficient modularity optimization by multistep...</td>\n",
       "      <td>2008.0</td>\n",
       "      <td>True</td>\n",
       "      <td>0.616111</td>\n",
       "      <td>0.873199</td>\n",
       "    </tr>\n",
       "    <tr>\n",
       "      <th>107817</th>\n",
       "      <td>1.115010e-08</td>\n",
       "      <td>2103980282</td>\n",
       "      <td>3372652:1:1:376</td>\n",
       "      <td>revealing network communities through modulari...</td>\n",
       "      <td>2009.0</td>\n",
       "      <td>True</td>\n",
       "      <td>0.616111</td>\n",
       "      <td>0.861771</td>\n",
       "    </tr>\n",
       "    <tr>\n",
       "      <th>119424</th>\n",
       "      <td>1.272820e-08</td>\n",
       "      <td>1971844861</td>\n",
       "      <td>3372652:1:1:292</td>\n",
       "      <td>multistep greedy algorithm identifies communit...</td>\n",
       "      <td>2008.0</td>\n",
       "      <td>True</td>\n",
       "      <td>0.616111</td>\n",
       "      <td>0.842784</td>\n",
       "    </tr>\n",
       "  </tbody>\n",
       "</table>\n",
       "</div>"
      ],
      "text/plain": [
       "                  EF    Paper_ID               cl  \\\n",
       "110985  2.130870e-07  2146591355   3372652:1:1:30   \n",
       "114140  1.096330e-08  2171551254  3372652:1:1:624   \n",
       "123194  2.714580e-08  2029373408  3372652:1:1:140   \n",
       "107817  1.115010e-08  2103980282  3372652:1:1:376   \n",
       "119424  1.272820e-08  1971844861  3372652:1:1:292   \n",
       "\n",
       "                                                    title    year  target  \\\n",
       "110985  community structure in large networks natural ...  2009.0    True   \n",
       "114140  analysis of bidding networks in ebay aggregate...  2007.0    True   \n",
       "123194  efficient modularity optimization by multistep...  2008.0    True   \n",
       "107817  revealing network communities through modulari...  2009.0    True   \n",
       "119424  multistep greedy algorithm identifies communit...  2008.0    True   \n",
       "\n",
       "        avg_distance_to_train  pred_ranks  \n",
       "110985               0.616111    0.929936  \n",
       "114140               0.616111    0.893195  \n",
       "123194               0.616111    0.873199  \n",
       "107817               0.616111    0.861771  \n",
       "119424               0.616111    0.842784  "
      ]
     },
     "execution_count": 195,
     "metadata": {},
     "output_type": "execute_result"
    }
   ],
   "source": [
    "pred_ranks = pd.Series(y_pred_proba, index=X.index, name='pred_ranks')\n",
    "test_papers_df.join(pred_ranks).sort_values('pred_ranks', ascending=False).head()"
   ]
  },
  {
   "cell_type": "code",
   "execution_count": 196,
   "metadata": {},
   "outputs": [
    {
     "data": {
      "text/plain": [
       "2613291"
      ]
     },
     "execution_count": 196,
     "metadata": {},
     "output_type": "execute_result"
    }
   ],
   "source": [
    "len(test_papers_df)"
   ]
  },
  {
   "cell_type": "code",
   "execution_count": 197,
   "metadata": {},
   "outputs": [
    {
     "data": {
      "text/plain": [
       "1521097"
      ]
     },
     "execution_count": 197,
     "metadata": {},
     "output_type": "execute_result"
    }
   ],
   "source": [
    "len(X)"
   ]
  },
  {
   "cell_type": "code",
   "execution_count": 198,
   "metadata": {},
   "outputs": [],
   "source": [
    "# top_predictions = test_papers_df.join(pred_ranks).sort_values('pred_ranks', ascending=False).head(len(target_papers_df))\n",
    "top_predictions = X.join(pred_ranks).sort_values('pred_ranks', ascending=False).head(len(target_papers_df))"
   ]
  },
  {
   "cell_type": "code",
   "execution_count": 199,
   "metadata": {},
   "outputs": [
    {
     "data": {
      "text/plain": [
       "target\n",
       "False    213\n",
       "True     184\n",
       "Name: Paper_ID, dtype: int64"
      ]
     },
     "execution_count": 199,
     "metadata": {},
     "output_type": "execute_result"
    }
   ],
   "source": [
    "top_predictions.groupby('target')['Paper_ID'].count()"
   ]
  },
  {
   "cell_type": "code",
   "execution_count": 200,
   "metadata": {},
   "outputs": [
    {
     "data": {
      "text/plain": [
       "0.017612516717949805"
      ]
     },
     "execution_count": 200,
     "metadata": {},
     "output_type": "execute_result"
    }
   ],
   "source": [
    "top_predictions.pred_ranks.min()"
   ]
  },
  {
   "cell_type": "code",
   "execution_count": 201,
   "metadata": {},
   "outputs": [
    {
     "name": "stdout",
     "output_type": "stream",
     "text": [
      "1 minute and 12.06 seconds\n"
     ]
    }
   ],
   "source": [
    "start = timer()\n",
    "y_test_pred = pipeline.predict(X_test)\n",
    "print(format_timespan(timer()-start))"
   ]
  },
  {
   "cell_type": "code",
   "execution_count": 202,
   "metadata": {},
   "outputs": [
    {
     "name": "stdout",
     "output_type": "stream",
     "text": [
      "             precision    recall  f1-score   support\n",
      "\n",
      "      False       1.00      1.00      1.00    304138\n",
      "       True       0.00      0.00      0.00        82\n",
      "\n",
      "avg / total       1.00      1.00      1.00    304220\n",
      "\n"
     ]
    },
    {
     "name": "stderr",
     "output_type": "stream",
     "text": [
      "/home/jporteno/code/autoreview/venv/lib/python3.5/site-packages/sklearn/metrics/classification.py:1135: UndefinedMetricWarning: Precision and F-score are ill-defined and being set to 0.0 in labels with no predicted samples.\n",
      "  'precision', 'predicted', average, warn_for)\n"
     ]
    }
   ],
   "source": [
    "print(classification_report(y_test, y_test_pred))"
   ]
  },
  {
   "cell_type": "code",
   "execution_count": null,
   "metadata": {},
   "outputs": [],
   "source": []
  },
  {
   "cell_type": "code",
   "execution_count": null,
   "metadata": {},
   "outputs": [],
   "source": []
  },
  {
   "cell_type": "code",
   "execution_count": null,
   "metadata": {},
   "outputs": [],
   "source": []
  },
  {
   "cell_type": "code",
   "execution_count": 159,
   "metadata": {},
   "outputs": [],
   "source": [
    "pipeline = Pipeline([\n",
    "    ('union', FeatureUnion(\n",
    "        transformer_list = [\n",
    "            ('avg_distance_to_train', Pipeline([\n",
    "#                 ('selector', ItemSelector(key='avg_distance_to_train')),\n",
    "#                 ('vect', DictVectorizer(X.avg_distance_to_train.to_dict))\n",
    "                ('cl_feat', ClusterTransformer()),\n",
    "            ])),\n",
    "            ('ef', Pipeline([\n",
    "#                 ('selector', ItemSelector(key='avg_distance_to_train')),\n",
    "#                 ('vect', DictVectorizer(X.avg_distance_to_train.to_dict))\n",
    "                ('ef_feat', DataFrameColumnTransformer('EF')),\n",
    "            ])),\n",
    "            \n",
    "            # NOTE: this is just to test.\n",
    "            # we probably want features that relate the titles to the seed papers. not just straight features in test set.\n",
    "#             ('title_bow', Pipeline([\n",
    "#                 ('selector', ItemSelector(key='title')),\n",
    "#                 ('tfidf', TfidfVectorizer(min_df=10)),\n",
    "#             ]))\n",
    "        ],\n",
    "    )),\n",
    "    \n",
    "    ('logreg', LogisticRegression())\n",
    "])"
   ]
  },
  {
   "cell_type": "code",
   "execution_count": 160,
   "metadata": {},
   "outputs": [],
   "source": [
    "# X = test_papers_df[['EF', 'avg_distance_to_train']]\n",
    "X = test_papers_df[test_papers_df.title.notnull()]\n",
    "# Fortunato paper was published in 2010\n",
    "X = X[X.year<=2010]\n",
    "\n",
    "# y = test_papers_df['target']\n",
    "y = X['target']\n",
    "X_train, X_test, y_train, y_test = train_test_split(X, y, test_size=0.2, random_state=999)"
   ]
  },
  {
   "cell_type": "code",
   "execution_count": 161,
   "metadata": {},
   "outputs": [
    {
     "name": "stdout",
     "output_type": "stream",
     "text": [
      "1 minute and 59.51 seconds\n"
     ]
    }
   ],
   "source": [
    "start = timer()\n",
    "pipeline.fit(X_train, y_train)\n",
    "print(format_timespan(timer()-start))"
   ]
  },
  {
   "cell_type": "code",
   "execution_count": 162,
   "metadata": {},
   "outputs": [
    {
     "name": "stdout",
     "output_type": "stream",
     "text": [
      "2 minutes and 21.45 seconds\n"
     ]
    },
    {
     "data": {
      "text/plain": [
       "array([0.00016925, 0.00016925, 0.00016925, ..., 0.00016925, 0.00016925,\n",
       "       0.00016925])"
      ]
     },
     "execution_count": 162,
     "metadata": {},
     "output_type": "execute_result"
    }
   ],
   "source": [
    "start = timer()\n",
    "# y_pred_proba = model.predict_proba(X_test)[:, 1]\n",
    "y_pred_proba = pipeline.predict_proba(X)[:, 1]\n",
    "print(format_timespan(timer()-start))\n",
    "y_pred_proba\n"
   ]
  },
  {
   "cell_type": "code",
   "execution_count": 163,
   "metadata": {},
   "outputs": [
    {
     "data": {
      "text/plain": [
       "(1521097,)"
      ]
     },
     "execution_count": 163,
     "metadata": {},
     "output_type": "execute_result"
    }
   ],
   "source": [
    "y_pred_proba.shape"
   ]
  },
  {
   "cell_type": "code",
   "execution_count": 164,
   "metadata": {},
   "outputs": [
    {
     "data": {
      "text/html": [
       "<div>\n",
       "<style scoped>\n",
       "    .dataframe tbody tr th:only-of-type {\n",
       "        vertical-align: middle;\n",
       "    }\n",
       "\n",
       "    .dataframe tbody tr th {\n",
       "        vertical-align: top;\n",
       "    }\n",
       "\n",
       "    .dataframe thead th {\n",
       "        text-align: right;\n",
       "    }\n",
       "</style>\n",
       "<table border=\"1\" class=\"dataframe\">\n",
       "  <thead>\n",
       "    <tr style=\"text-align: right;\">\n",
       "      <th></th>\n",
       "      <th>EF</th>\n",
       "      <th>Paper_ID</th>\n",
       "      <th>cl</th>\n",
       "      <th>title</th>\n",
       "      <th>year</th>\n",
       "      <th>target</th>\n",
       "      <th>avg_distance_to_train</th>\n",
       "      <th>pred_ranks</th>\n",
       "    </tr>\n",
       "  </thead>\n",
       "  <tbody>\n",
       "    <tr>\n",
       "      <th>107272</th>\n",
       "      <td>1.992670e-06</td>\n",
       "      <td>2095293504</td>\n",
       "      <td>3372652:1:1:2</td>\n",
       "      <td>finding and evaluating community structure in ...</td>\n",
       "      <td>2004.0</td>\n",
       "      <td>False</td>\n",
       "      <td>0.611111</td>\n",
       "      <td>0.062686</td>\n",
       "    </tr>\n",
       "    <tr>\n",
       "      <th>110154</th>\n",
       "      <td>9.501080e-07</td>\n",
       "      <td>2131681506</td>\n",
       "      <td>3372652:1:1:9</td>\n",
       "      <td>fast unfolding of communities in large networks</td>\n",
       "      <td>2008.0</td>\n",
       "      <td>False</td>\n",
       "      <td>0.611111</td>\n",
       "      <td>0.062686</td>\n",
       "    </tr>\n",
       "    <tr>\n",
       "      <th>109495</th>\n",
       "      <td>8.579680e-07</td>\n",
       "      <td>2120043163</td>\n",
       "      <td>3372652:1:1:7</td>\n",
       "      <td>comparing community structure identification</td>\n",
       "      <td>2005.0</td>\n",
       "      <td>False</td>\n",
       "      <td>0.611111</td>\n",
       "      <td>0.062686</td>\n",
       "    </tr>\n",
       "    <tr>\n",
       "      <th>114759</th>\n",
       "      <td>3.484730e-07</td>\n",
       "      <td>2606584716</td>\n",
       "      <td>3372652:1:1:29</td>\n",
       "      <td>e mail as spectroscopy automated discovery of ...</td>\n",
       "      <td>2005.0</td>\n",
       "      <td>False</td>\n",
       "      <td>0.611111</td>\n",
       "      <td>0.062686</td>\n",
       "    </tr>\n",
       "    <tr>\n",
       "      <th>110902</th>\n",
       "      <td>8.711380e-08</td>\n",
       "      <td>2139818818</td>\n",
       "      <td>3372652:1:1:55</td>\n",
       "      <td>mixture models and exploratory analysis in net...</td>\n",
       "      <td>2007.0</td>\n",
       "      <td>False</td>\n",
       "      <td>0.611111</td>\n",
       "      <td>0.062686</td>\n",
       "    </tr>\n",
       "  </tbody>\n",
       "</table>\n",
       "</div>"
      ],
      "text/plain": [
       "                  EF    Paper_ID              cl  \\\n",
       "107272  1.992670e-06  2095293504   3372652:1:1:2   \n",
       "110154  9.501080e-07  2131681506   3372652:1:1:9   \n",
       "109495  8.579680e-07  2120043163   3372652:1:1:7   \n",
       "114759  3.484730e-07  2606584716  3372652:1:1:29   \n",
       "110902  8.711380e-08  2139818818  3372652:1:1:55   \n",
       "\n",
       "                                                    title    year  target  \\\n",
       "107272  finding and evaluating community structure in ...  2004.0   False   \n",
       "110154    fast unfolding of communities in large networks  2008.0   False   \n",
       "109495       comparing community structure identification  2005.0   False   \n",
       "114759  e mail as spectroscopy automated discovery of ...  2005.0   False   \n",
       "110902  mixture models and exploratory analysis in net...  2007.0   False   \n",
       "\n",
       "        avg_distance_to_train  pred_ranks  \n",
       "107272               0.611111    0.062686  \n",
       "110154               0.611111    0.062686  \n",
       "109495               0.611111    0.062686  \n",
       "114759               0.611111    0.062686  \n",
       "110902               0.611111    0.062686  "
      ]
     },
     "execution_count": 164,
     "metadata": {},
     "output_type": "execute_result"
    }
   ],
   "source": [
    "pred_ranks = pd.Series(y_pred_proba, index=X.index, name='pred_ranks')\n",
    "test_papers_df.join(pred_ranks).sort_values('pred_ranks', ascending=False).head()"
   ]
  },
  {
   "cell_type": "code",
   "execution_count": 165,
   "metadata": {},
   "outputs": [
    {
     "data": {
      "text/plain": [
       "2613291"
      ]
     },
     "execution_count": 165,
     "metadata": {},
     "output_type": "execute_result"
    }
   ],
   "source": [
    "len(test_papers_df)"
   ]
  },
  {
   "cell_type": "code",
   "execution_count": 166,
   "metadata": {},
   "outputs": [
    {
     "data": {
      "text/plain": [
       "1521097"
      ]
     },
     "execution_count": 166,
     "metadata": {},
     "output_type": "execute_result"
    }
   ],
   "source": [
    "len(X)"
   ]
  },
  {
   "cell_type": "code",
   "execution_count": 167,
   "metadata": {},
   "outputs": [],
   "source": [
    "# top_predictions = test_papers_df.join(pred_ranks).sort_values('pred_ranks', ascending=False).head(len(target_papers_df))\n",
    "top_predictions = X.join(pred_ranks).sort_values('pred_ranks', ascending=False).head(len(target_papers_df))"
   ]
  },
  {
   "cell_type": "code",
   "execution_count": 168,
   "metadata": {},
   "outputs": [
    {
     "data": {
      "text/plain": [
       "target\n",
       "False    270\n",
       "True     127\n",
       "Name: Paper_ID, dtype: int64"
      ]
     },
     "execution_count": 168,
     "metadata": {},
     "output_type": "execute_result"
    }
   ],
   "source": [
    "top_predictions.groupby('target')['Paper_ID'].count()"
   ]
  },
  {
   "cell_type": "code",
   "execution_count": 169,
   "metadata": {},
   "outputs": [
    {
     "data": {
      "text/plain": [
       "0.058318146270451454"
      ]
     },
     "execution_count": 169,
     "metadata": {},
     "output_type": "execute_result"
    }
   ],
   "source": [
    "top_predictions.pred_ranks.min()"
   ]
  },
  {
   "cell_type": "code",
   "execution_count": 170,
   "metadata": {},
   "outputs": [
    {
     "name": "stdout",
     "output_type": "stream",
     "text": [
      "28.94 seconds\n"
     ]
    }
   ],
   "source": [
    "start = timer()\n",
    "y_test_pred = pipeline.predict(X_test)\n",
    "print(format_timespan(timer()-start))"
   ]
  },
  {
   "cell_type": "code",
   "execution_count": 171,
   "metadata": {},
   "outputs": [
    {
     "name": "stdout",
     "output_type": "stream",
     "text": [
      "             precision    recall  f1-score   support\n",
      "\n",
      "      False       1.00      1.00      1.00    304138\n",
      "       True       0.00      0.00      0.00        82\n",
      "\n",
      "avg / total       1.00      1.00      1.00    304220\n",
      "\n"
     ]
    },
    {
     "name": "stderr",
     "output_type": "stream",
     "text": [
      "/home/jporteno/code/autoreview/venv/lib/python3.5/site-packages/sklearn/metrics/classification.py:1135: UndefinedMetricWarning: Precision and F-score are ill-defined and being set to 0.0 in labels with no predicted samples.\n",
      "  'precision', 'predicted', average, warn_for)\n"
     ]
    }
   ],
   "source": [
    "print(classification_report(y_test, y_test_pred))"
   ]
  },
  {
   "cell_type": "code",
   "execution_count": null,
   "metadata": {},
   "outputs": [],
   "source": []
  },
  {
   "cell_type": "code",
   "execution_count": null,
   "metadata": {},
   "outputs": [],
   "source": []
  },
  {
   "cell_type": "code",
   "execution_count": null,
   "metadata": {},
   "outputs": [],
   "source": []
  },
  {
   "cell_type": "code",
   "execution_count": null,
   "metadata": {},
   "outputs": [],
   "source": []
  },
  {
   "cell_type": "code",
   "execution_count": null,
   "metadata": {},
   "outputs": [],
   "source": []
  },
  {
   "cell_type": "code",
   "execution_count": 32,
   "metadata": {
    "collapsed": true
   },
   "outputs": [
    {
     "name": "stdout",
     "output_type": "stream",
     "text": [
      "4.23 seconds\n",
      "(2613291,)\n"
     ]
    },
    {
     "data": {
      "text/plain": [
       "target\n",
       "False    388\n",
       "True       9\n",
       "Name: Paper_ID, dtype: int64"
      ]
     },
     "execution_count": 32,
     "metadata": {},
     "output_type": "execute_result"
    }
   ],
   "source": [
    "# what if we only use pagerank?\n",
    "X = test_papers_df[['EF']]\n",
    "y = test_papers_df['target']\n",
    "X_train, X_test, y_train, y_test = train_test_split(X, y, test_size=0.2, random_state=999)\n",
    "\n",
    "start = timer()\n",
    "_model = LogisticRegression()\n",
    "_model.fit(X_train, y_train)\n",
    "print(format_timespan(timer()-start))\n",
    "\n",
    "# y_pred_proba = model.predict_proba(X_test)[:, 1]\n",
    "_y_pred_proba = _model.predict_proba(X)[:, 1]\n",
    "#y_pred_proba\n",
    "\n",
    "print(y_pred_proba.shape)\n",
    "\n",
    "_pred_ranks = pd.Series(_y_pred_proba, index=X.index, name='pred_ranks')\n",
    "#test_papers_df.join(_pred_ranks).sort_values('pred_ranks', ascending=False).head()\n",
    "\n",
    "\n",
    "\n",
    "_top_predictions = test_papers_df.join(_pred_ranks).sort_values('pred_ranks', ascending=False).head(len(target_papers_df))\n",
    "\n",
    "_top_predictions.groupby('target')['Paper_ID'].count()"
   ]
  },
  {
   "cell_type": "code",
   "execution_count": null,
   "metadata": {
    "collapsed": true
   },
   "outputs": [],
   "source": []
  },
  {
   "cell_type": "code",
   "execution_count": 33,
   "metadata": {},
   "outputs": [
    {
     "name": "stdout",
     "output_type": "stream",
     "text": [
      "4.6 seconds\n",
      "(2613291,)\n"
     ]
    },
    {
     "data": {
      "text/plain": [
       "target\n",
       "False    377\n",
       "True      20\n",
       "Name: Paper_ID, dtype: int64"
      ]
     },
     "execution_count": 33,
     "metadata": {},
     "output_type": "execute_result"
    }
   ],
   "source": [
    "# what if we only use avg distance?\n",
    "X = test_papers_df[['avg_distance_to_train']]\n",
    "y = test_papers_df['target']\n",
    "X_train, X_test, y_train, y_test = train_test_split(X, y, test_size=0.2, random_state=999)\n",
    "\n",
    "start = timer()\n",
    "_model = LogisticRegression()\n",
    "_model.fit(X_train, y_train)\n",
    "print(format_timespan(timer()-start))\n",
    "\n",
    "# y_pred_proba = model.predict_proba(X_test)[:, 1]\n",
    "_y_pred_proba = _model.predict_proba(X)[:, 1]\n",
    "#y_pred_proba\n",
    "\n",
    "print(y_pred_proba.shape)\n",
    "\n",
    "_pred_ranks = pd.Series(_y_pred_proba, index=X.index, name='pred_ranks')\n",
    "#test_papers_df.join(_pred_ranks).sort_values('pred_ranks', ascending=False).head()\n",
    "\n",
    "\n",
    "\n",
    "_top_predictions = test_papers_df.join(_pred_ranks).sort_values('pred_ranks', ascending=False).head(len(target_papers_df))\n",
    "\n",
    "_top_predictions.groupby('target')['Paper_ID'].count()"
   ]
  },
  {
   "cell_type": "code",
   "execution_count": null,
   "metadata": {
    "collapsed": true
   },
   "outputs": [],
   "source": []
  },
  {
   "cell_type": "code",
   "execution_count": null,
   "metadata": {},
   "outputs": [],
   "source": []
  },
  {
   "cell_type": "code",
   "execution_count": null,
   "metadata": {},
   "outputs": [],
   "source": []
  },
  {
   "cell_type": "code",
   "execution_count": null,
   "metadata": {},
   "outputs": [],
   "source": []
  },
  {
   "cell_type": "code",
   "execution_count": 34,
   "metadata": {},
   "outputs": [
    {
     "name": "stdout",
     "output_type": "stream",
     "text": [
      "2.39 seconds\n"
     ]
    }
   ],
   "source": [
    "start = timer()\n",
    "toplevels = test_papers_df.cl.apply(lambda x: x.split(\":\")[0])\n",
    "print(format_timespan(timer()-start))"
   ]
  },
  {
   "cell_type": "code",
   "execution_count": 55,
   "metadata": {},
   "outputs": [],
   "source": [
    "toplevels.name = 'toplevel'"
   ]
  },
  {
   "cell_type": "code",
   "execution_count": 37,
   "metadata": {},
   "outputs": [],
   "source": [
    "toplevels_set = set(toplevels)"
   ]
  },
  {
   "cell_type": "code",
   "execution_count": 46,
   "metadata": {},
   "outputs": [
    {
     "name": "stderr",
     "output_type": "stream",
     "text": [
      "/home/jporteno/code/autoreview/venv/lib/python3.5/site-packages/pymysql/cursors.py:165: Warning: (3170, \"Memory capacity of 8388608 bytes for 'range_optimizer_max_mem_size' exceeded. Range optimization was not done for this query.\")\n",
      "  result = self._query(query)\n"
     ]
    },
    {
     "name": "stdout",
     "output_type": "stream",
     "text": [
      "19.19 seconds\n"
     ]
    }
   ],
   "source": [
    "start = timer()\n",
    "tbl = db.tables['clusters_meta_tree']\n",
    "sq = tbl.select(tbl.c.toplevel_in_tree.in_(toplevels_set))\n",
    "# r = db.engine.execute(sq).fetchall()\n",
    "cl_meta = db.read_sql(sq)\n",
    "print(format_timespan(timer()-start))"
   ]
  },
  {
   "cell_type": "code",
   "execution_count": 50,
   "metadata": {},
   "outputs": [],
   "source": [
    "cl_meta = cl_meta.set_index('id')"
   ]
  },
  {
   "cell_type": "code",
   "execution_count": 82,
   "metadata": {},
   "outputs": [],
   "source": [
    "train_papers_df['toplevel'] = train_papers_df.cl.apply(lambda x: x.split(\":\")[0]).astype(int)"
   ]
  },
  {
   "cell_type": "code",
   "execution_count": 83,
   "metadata": {},
   "outputs": [],
   "source": [
    "meta_map = cl_meta.set_index('toplevel_in_tree').meta_cl"
   ]
  },
  {
   "cell_type": "code",
   "execution_count": 84,
   "metadata": {},
   "outputs": [],
   "source": [
    "train_papers_df['cl_meta'] = train_papers_df.toplevel.map(meta_map)"
   ]
  },
  {
   "cell_type": "code",
   "execution_count": 87,
   "metadata": {},
   "outputs": [],
   "source": [
    "test_papers_df['toplevel'] = toplevels.astype(int)\n",
    "test_papers_df['cl_meta'] = test_papers_df.toplevel.map(meta_map)"
   ]
  },
  {
   "cell_type": "code",
   "execution_count": 89,
   "metadata": {},
   "outputs": [
    {
     "name": "stdout",
     "output_type": "stream",
     "text": [
      "4 minutes and 10.75 seconds\n"
     ]
    }
   ],
   "source": [
    "start = timer()\n",
    "test_papers_df['meta_avg_distance_to_train'] = test_papers_df.cl_meta.apply(avg_distance, cl_group=train_papers_df.cl_meta.tolist())\n",
    "print(format_timespan(timer()-start))"
   ]
  },
  {
   "cell_type": "code",
   "execution_count": 94,
   "metadata": {},
   "outputs": [
    {
     "name": "stdout",
     "output_type": "stream",
     "text": [
      "6.54 seconds\n",
      "(2613291,)\n"
     ]
    },
    {
     "data": {
      "text/plain": [
       "target\n",
       "False    289\n",
       "True     108\n",
       "Name: Paper_ID, dtype: int64"
      ]
     },
     "execution_count": 94,
     "metadata": {},
     "output_type": "execute_result"
    }
   ],
   "source": [
    "# logistic regression including meta cl\n",
    "X = test_papers_df[['EF', 'avg_distance_to_train', 'meta_avg_distance_to_train']]\n",
    "y = test_papers_df['target']\n",
    "X_train, X_test, y_train, y_test = train_test_split(X, y, test_size=0.2, random_state=999)\n",
    "\n",
    "start = timer()\n",
    "model_meta = LogisticRegression()\n",
    "model_meta.fit(X_train, y_train)\n",
    "print(format_timespan(timer()-start))\n",
    "\n",
    "# y_pred_proba = model.predict_proba(X_test)[:, 1]\n",
    "y_pred_proba_meta = model_meta.predict_proba(X)[:, 1]\n",
    "#y_pred_proba\n",
    "\n",
    "print(y_pred_proba_meta.shape)\n",
    "\n",
    "pred_ranks_meta = pd.Series(y_pred_proba_meta, index=X.index, name='pred_ranks')\n",
    "#test_papers_df.join(_pred_ranks).sort_values('pred_ranks', ascending=False).head()\n",
    "\n",
    "\n",
    "\n",
    "top_predictions_meta = test_papers_df.join(pred_ranks_meta).sort_values('pred_ranks', ascending=False).head(len(target_papers_df))\n",
    "\n",
    "top_predictions_meta.groupby('target')['Paper_ID'].count()"
   ]
  },
  {
   "cell_type": "code",
   "execution_count": 105,
   "metadata": {
    "scrolled": true
   },
   "outputs": [
    {
     "name": "stdout",
     "output_type": "stream",
     "text": [
      "0.9553407108497369\n",
      "0.8686914172329787\n",
      "0.7952530679672806\n"
     ]
    }
   ],
   "source": [
    "from sklearn.metrics import roc_auc_score\n",
    "print(roc_auc_score(y, y_pred_proba))\n",
    "print(roc_auc_score(y, y_pred_proba_meta))\n",
    "print(roc_auc_score(y, _y_pred_proba))"
   ]
  }
 ],
 "metadata": {
  "kernelspec": {
   "display_name": "autoreview_venv",
   "language": "python",
   "name": "autoreview_venv"
  },
  "language_info": {
   "codemirror_mode": {
    "name": "ipython",
    "version": 3
   },
   "file_extension": ".py",
   "mimetype": "text/x-python",
   "name": "python",
   "nbconvert_exporter": "python",
   "pygments_lexer": "ipython3",
   "version": "3.5.2"
  }
 },
 "nbformat": 4,
 "nbformat_minor": 2
}
