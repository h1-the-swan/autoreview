{
 "cells": [
  {
   "cell_type": "code",
   "execution_count": 104,
   "metadata": {
    "ExecuteTime": {
     "end_time": "2019-05-11T04:09:03.384111Z",
     "start_time": "2019-05-11T04:09:03.373073Z"
    }
   },
   "outputs": [],
   "source": [
    "import sys, os, time, pickle\n",
    "from glob import glob\n",
    "from timeit import default_timer as timer\n",
    "from humanfriendly import format_timespan"
   ]
  },
  {
   "cell_type": "code",
   "execution_count": 105,
   "metadata": {
    "ExecuteTime": {
     "end_time": "2019-05-11T04:09:03.389032Z",
     "start_time": "2019-05-11T04:09:03.386506Z"
    }
   },
   "outputs": [],
   "source": [
    "import pandas as pd\n",
    "import numpy as np\n",
    "import matplotlib.pyplot as plt"
   ]
  },
  {
   "cell_type": "code",
   "execution_count": 106,
   "metadata": {
    "ExecuteTime": {
     "end_time": "2019-05-11T04:09:03.540676Z",
     "start_time": "2019-05-11T04:09:03.390783Z"
    }
   },
   "outputs": [],
   "source": [
    "%matplotlib inline"
   ]
  },
  {
   "cell_type": "code",
   "execution_count": 107,
   "metadata": {
    "ExecuteTime": {
     "end_time": "2019-05-11T04:09:03.545908Z",
     "start_time": "2019-05-11T04:09:03.542843Z"
    }
   },
   "outputs": [],
   "source": [
    "from sklearn.ensemble import RandomForestClassifier\n",
    "from sklearn.model_selection import train_test_split\n",
    "from sklearn.externals import joblib"
   ]
  },
  {
   "cell_type": "code",
   "execution_count": 108,
   "metadata": {
    "ExecuteTime": {
     "end_time": "2019-05-11T04:09:03.550453Z",
     "start_time": "2019-05-11T04:09:03.547895Z"
    }
   },
   "outputs": [],
   "source": [
    "from pipeline_experiments import load_data_from_pickles, remove_missing_titles, year_lowpass_filter"
   ]
  },
  {
   "cell_type": "code",
   "execution_count": 109,
   "metadata": {
    "ExecuteTime": {
     "end_time": "2019-05-11T04:09:03.563927Z",
     "start_time": "2019-05-11T04:09:03.552385Z"
    }
   },
   "outputs": [
    {
     "data": {
      "text/plain": [
       "True"
      ]
     },
     "execution_count": 109,
     "metadata": {},
     "output_type": "execute_result"
    }
   ],
   "source": [
    "from dotenv import load_dotenv\n",
    "load_dotenv('admin.env')"
   ]
  },
  {
   "cell_type": "code",
   "execution_count": 110,
   "metadata": {
    "ExecuteTime": {
     "end_time": "2019-05-11T04:09:03.698988Z",
     "start_time": "2019-05-11T04:09:03.565877Z"
    }
   },
   "outputs": [],
   "source": [
    "from mysql_connect import get_db_connection\n",
    "db = get_db_connection('jp_autoreview')"
   ]
  },
  {
   "cell_type": "code",
   "execution_count": 111,
   "metadata": {
    "ExecuteTime": {
     "end_time": "2019-05-11T04:09:07.044014Z",
     "start_time": "2019-05-11T04:09:03.703889Z"
    }
   },
   "outputs": [],
   "source": [
    "df = db.read_sql(db.tables['pipeline_tests'].select())\n",
    "df.set_index('id', inplace=True)"
   ]
  },
  {
   "cell_type": "code",
   "execution_count": 112,
   "metadata": {
    "ExecuteTime": {
     "end_time": "2019-05-11T04:09:07.117842Z",
     "start_time": "2019-05-11T04:09:07.046159Z"
    }
   },
   "outputs": [],
   "source": [
    "top_results = df.sort_values('score_correctly_predicted', ascending=False).drop_duplicates(['review_paper_id', 'random_seed'])"
   ]
  },
  {
   "cell_type": "code",
   "execution_count": 113,
   "metadata": {
    "ExecuteTime": {
     "end_time": "2019-05-11T04:09:07.203536Z",
     "start_time": "2019-05-11T04:09:07.120132Z"
    }
   },
   "outputs": [],
   "source": [
    "sample_row = top_results.sample(n=1, random_state=999).iloc[0]"
   ]
  },
  {
   "cell_type": "code",
   "execution_count": 114,
   "metadata": {
    "ExecuteTime": {
     "end_time": "2019-05-11T04:09:07.211319Z",
     "start_time": "2019-05-11T04:09:07.205873Z"
    }
   },
   "outputs": [
    {
     "data": {
      "text/plain": [
       "datetime_added                                             2018-07-07 02:23:45\n",
       "review_paper_id                                                     2298456115\n",
       "random_seed                                                                  2\n",
       "datadir                                        data/review_2298456115/seed_002\n",
       "num_correctly_predicted                                                    198\n",
       "num_target_papers                                                          658\n",
       "num_target_in_candidates                                                   658\n",
       "num_seed_papers                                                             50\n",
       "score_correctly_predicted                                             0.300912\n",
       "num_candidates                                                          485103\n",
       "features                     ['avg_distance_to_train', 'ef', 'avg_title_tfi...\n",
       "clf                          RandomForestClassifier(bootstrap=True, class_w...\n",
       "clf_type                                                RandomForestClassifier\n",
       "time_fit                                                                  1371\n",
       "time_predict                                                               669\n",
       "saved_model                  data/review_2298456115/seed_002/best_model_201...\n",
       "Name: 90895, dtype: object"
      ]
     },
     "execution_count": 114,
     "metadata": {},
     "output_type": "execute_result"
    }
   ],
   "source": [
    "sample_row"
   ]
  },
  {
   "cell_type": "code",
   "execution_count": 115,
   "metadata": {
    "ExecuteTime": {
     "end_time": "2019-05-11T04:09:09.078478Z",
     "start_time": "2019-05-11T04:09:07.213138Z"
    }
   },
   "outputs": [
    {
     "name": "stdout",
     "output_type": "stream",
     "text": [
      "1.86 second\n"
     ]
    }
   ],
   "source": [
    "start = timer()\n",
    "data_dir = sample_row.datadir\n",
    "test_papers, seed_papers, target_papers = load_data_from_pickles(data_dir)\n",
    "print(format_timespan(timer()-start))"
   ]
  },
  {
   "cell_type": "code",
   "execution_count": 116,
   "metadata": {
    "ExecuteTime": {
     "end_time": "2019-05-11T04:09:09.084164Z",
     "start_time": "2019-05-11T04:09:09.080568Z"
    }
   },
   "outputs": [
    {
     "data": {
      "text/plain": [
       "'data/review_2298456115/seed_002'"
      ]
     },
     "execution_count": 116,
     "metadata": {},
     "output_type": "execute_result"
    }
   ],
   "source": [
    "data_dir"
   ]
  },
  {
   "cell_type": "code",
   "execution_count": 117,
   "metadata": {
    "ExecuteTime": {
     "end_time": "2019-05-11T04:09:09.636759Z",
     "start_time": "2019-05-11T04:09:09.086131Z"
    }
   },
   "outputs": [],
   "source": [
    "\n",
    "target_ids = set(target_papers.Paper_ID)\n",
    "test_papers['target'] = test_papers.Paper_ID.apply(lambda x: x in target_ids)\n",
    "test_papers = remove_missing_titles(test_papers)\n",
    "test_papers = year_lowpass_filter(test_papers, year=2009)"
   ]
  },
  {
   "cell_type": "code",
   "execution_count": 118,
   "metadata": {
    "ExecuteTime": {
     "end_time": "2019-05-11T04:09:09.862514Z",
     "start_time": "2019-05-11T04:09:09.638763Z"
    }
   },
   "outputs": [],
   "source": [
    "X = test_papers.reset_index()\n",
    "y = X['target']\n",
    "X_train, X_test, y_train, y_test = train_test_split(X, y, test_size=0.2, random_state=999)"
   ]
  },
  {
   "cell_type": "code",
   "execution_count": 119,
   "metadata": {
    "ExecuteTime": {
     "end_time": "2019-05-11T04:09:09.866992Z",
     "start_time": "2019-05-11T04:09:09.864543Z"
    }
   },
   "outputs": [],
   "source": [
    "from sklearn.metrics import average_precision_score, precision_recall_curve"
   ]
  },
  {
   "cell_type": "code",
   "execution_count": 120,
   "metadata": {
    "ExecuteTime": {
     "end_time": "2019-05-11T04:09:09.906924Z",
     "start_time": "2019-05-11T04:09:09.868788Z"
    }
   },
   "outputs": [
    {
     "name": "stderr",
     "output_type": "stream",
     "text": [
      "/home/jporteno/code/autoreview/venv/lib/python3.7/site-packages/sklearn/base.py:253: UserWarning: Trying to unpickle estimator Pipeline from version 0.19.1 when using version 0.20.3. This might lead to breaking code or invalid results. Use at your own risk.\n",
      "  UserWarning)\n",
      "/home/jporteno/code/autoreview/venv/lib/python3.7/site-packages/sklearn/base.py:253: UserWarning: Trying to unpickle estimator FeatureUnion from version 0.19.1 when using version 0.20.3. This might lead to breaking code or invalid results. Use at your own risk.\n",
      "  UserWarning)\n",
      "/home/jporteno/code/autoreview/venv/lib/python3.7/site-packages/sklearn/base.py:253: UserWarning: Trying to unpickle estimator LogisticRegression from version 0.19.1 when using version 0.20.3. This might lead to breaking code or invalid results. Use at your own risk.\n",
      "  UserWarning)\n"
     ]
    }
   ],
   "source": [
    "model_fname = glob(os.path.join(data_dir, 'best_model*', '*.pickle'))[-1]\n",
    "pipeline = joblib.load(model_fname)"
   ]
  },
  {
   "cell_type": "code",
   "execution_count": 121,
   "metadata": {
    "ExecuteTime": {
     "end_time": "2019-05-11T04:09:13.923730Z",
     "start_time": "2019-05-11T04:09:09.908681Z"
    }
   },
   "outputs": [
    {
     "name": "stdout",
     "output_type": "stream",
     "text": [
      "4.01 seconds\n"
     ]
    },
    {
     "name": "stderr",
     "output_type": "stream",
     "text": [
      "/home/jporteno/code/autoreview/utils/autoreview_utils.py:189: FutureWarning: Method .as_matrix will be removed in a future version. Use .values instead.\n",
      "  return avg_dist.as_matrix().reshape(-1, 1)\n",
      "/home/jporteno/code/autoreview/utils/autoreview_utils.py:200: FutureWarning: Method .as_matrix will be removed in a future version. Use .values instead.\n",
      "  return df[self.colname].as_matrix().reshape(-1, 1)\n"
     ]
    }
   ],
   "source": [
    "start = timer()\n",
    "y_score = pipeline.predict_proba(X_test)[:, 1]\n",
    "print(format_timespan(timer()-start))"
   ]
  },
  {
   "cell_type": "code",
   "execution_count": 122,
   "metadata": {
    "ExecuteTime": {
     "end_time": "2019-05-11T04:09:13.939149Z",
     "start_time": "2019-05-11T04:09:13.925454Z"
    }
   },
   "outputs": [
    {
     "name": "stdout",
     "output_type": "stream",
     "text": [
      "0.01 seconds\n"
     ]
    }
   ],
   "source": [
    "start = timer()\n",
    "average_precision = average_precision_score(y_test, y_score)\n",
    "print(format_timespan(timer()-start))"
   ]
  },
  {
   "cell_type": "code",
   "execution_count": 123,
   "metadata": {
    "ExecuteTime": {
     "end_time": "2019-05-11T04:09:13.955238Z",
     "start_time": "2019-05-11T04:09:13.941020Z"
    }
   },
   "outputs": [
    {
     "name": "stdout",
     "output_type": "stream",
     "text": [
      "0.01 seconds\n"
     ]
    }
   ],
   "source": [
    "start = timer()\n",
    "precision, recall, threshold = precision_recall_curve(y_test, y_score)\n",
    "print(format_timespan(timer()-start))"
   ]
  },
  {
   "cell_type": "code",
   "execution_count": 124,
   "metadata": {
    "ExecuteTime": {
     "end_time": "2019-05-11T04:09:13.978649Z",
     "start_time": "2019-05-11T04:09:13.960855Z"
    }
   },
   "outputs": [
    {
     "data": {
      "text/plain": [
       "0.0011745154685440216"
      ]
     },
     "execution_count": 124,
     "metadata": {},
     "output_type": "execute_result"
    }
   ],
   "source": [
    "no_skill = (y==True).sum() / len(y)\n",
    "no_skill"
   ]
  },
  {
   "cell_type": "code",
   "execution_count": 125,
   "metadata": {
    "ExecuteTime": {
     "end_time": "2019-05-11T04:09:14.124526Z",
     "start_time": "2019-05-11T04:09:13.984087Z"
    }
   },
   "outputs": [
    {
     "data": {
      "text/plain": [
       "[<matplotlib.lines.Line2D at 0x7ff7e0ce39e8>]"
      ]
     },
     "execution_count": 125,
     "metadata": {},
     "output_type": "execute_result"
    },
    {
     "data": {
      "image/png": "[encoded data removed]",
      "text/plain": [
       "<Figure size 432x288 with 1 Axes>"
      ]
     },
     "metadata": {},
     "output_type": "display_data"
    }
   ],
   "source": [
    "plt.step(recall, precision, color='b', where='post')\n",
    "plt.plot([0, 1], [no_skill, no_skill], linestyle='--')"
   ]
  },
  {
   "cell_type": "code",
   "execution_count": 126,
   "metadata": {
    "ExecuteTime": {
     "end_time": "2019-05-11T04:09:14.250321Z",
     "start_time": "2019-05-11T04:09:14.126463Z"
    }
   },
   "outputs": [
    {
     "data": {
      "text/plain": [
       "Text(0.5,1,'2-class Precision-Recall curve: AP=0.03')"
      ]
     },
     "execution_count": 126,
     "metadata": {},
     "output_type": "execute_result"
    },
    {
     "data": {
      "image/png": "[encoded data removed]",
      "text/plain": [
       "<Figure size 432x288 with 1 Axes>"
      ]
     },
     "metadata": {},
     "output_type": "display_data"
    }
   ],
   "source": [
    "plt.step(recall, precision, color='b', where='post')\n",
    "plt.plot([0, 1], [no_skill, no_skill], linestyle='--')\n",
    "plt.ylim(0,.1)\n",
    "plt.title('2-class Precision-Recall curve: AP={0:0.2f}'.format(average_precision))"
   ]
  },
  {
   "cell_type": "code",
   "execution_count": 127,
   "metadata": {
    "ExecuteTime": {
     "end_time": "2019-05-11T04:09:14.254882Z",
     "start_time": "2019-05-11T04:09:14.252219Z"
    }
   },
   "outputs": [],
   "source": [
    "from sklearn.metrics import roc_curve, roc_auc_score"
   ]
  },
  {
   "cell_type": "code",
   "execution_count": 128,
   "metadata": {
    "ExecuteTime": {
     "end_time": "2019-05-11T04:09:14.265864Z",
     "start_time": "2019-05-11T04:09:14.257024Z"
    }
   },
   "outputs": [],
   "source": [
    "fpr, tpr, threshold = roc_curve(y_test, y_score)"
   ]
  },
  {
   "cell_type": "code",
   "execution_count": 129,
   "metadata": {
    "ExecuteTime": {
     "end_time": "2019-05-11T04:09:14.386284Z",
     "start_time": "2019-05-11T04:09:14.267600Z"
    }
   },
   "outputs": [
    {
     "data": {
      "text/plain": [
       "[<matplotlib.lines.Line2D at 0x7ff7c8d70c18>]"
      ]
     },
     "execution_count": 129,
     "metadata": {},
     "output_type": "execute_result"
    },
    {
     "data": {
      "image/png": "[encoded data removed]",
      "text/plain": [
       "<Figure size 432x288 with 1 Axes>"
      ]
     },
     "metadata": {},
     "output_type": "display_data"
    }
   ],
   "source": [
    "plt.step(fpr, tpr, color='b', where='post')\n",
    "plt.plot([0, 1], [0, 1], color='navy', lw=2, linestyle='--')"
   ]
  },
  {
   "cell_type": "code",
   "execution_count": 130,
   "metadata": {
    "ExecuteTime": {
     "end_time": "2019-05-11T04:09:14.402986Z",
     "start_time": "2019-05-11T04:09:14.388215Z"
    }
   },
   "outputs": [
    {
     "data": {
      "text/plain": [
       "0.8633751282898924"
      ]
     },
     "execution_count": 130,
     "metadata": {},
     "output_type": "execute_result"
    }
   ],
   "source": [
    "roc_auc_score(y_test, y_score)"
   ]
  },
  {
   "cell_type": "code",
   "execution_count": null,
   "metadata": {},
   "outputs": [],
   "source": []
  }
 ],
 "metadata": {
  "kernelspec": {
   "display_name": "autoreview_venv",
   "language": "python",
   "name": "autoreview_venv"
  },
  "language_info": {
   "codemirror_mode": {
    "name": "ipython",
    "version": 3
   },
   "file_extension": ".py",
   "mimetype": "text/x-python",
   "name": "python",
   "nbconvert_exporter": "python",
   "pygments_lexer": "ipython3",
   "version": "3.7.1"
  }
 },
 "nbformat": 4,
 "nbformat_minor": 2
}
